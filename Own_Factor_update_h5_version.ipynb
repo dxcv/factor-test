{
 "cells": [
  {
   "cell_type": "code",
   "execution_count": 1,
   "metadata": {
    "collapsed": true,
    "deletable": true,
    "editable": true
   },
   "outputs": [],
   "source": [
    "#!/Tsan/bin/python\n",
    "# -*- coding: utf-8 -*-"
   ]
  },
  {
   "cell_type": "code",
   "execution_count": 129,
   "metadata": {
    "collapsed": false,
    "deletable": true,
    "editable": true
   },
   "outputs": [],
   "source": [
    "# Libraries To Use\n",
    "from __future__ import division \n",
    "import numpy as np\n",
    "import pandas as pd\n",
    "import statsmodels.api as sm\n",
    "import os\n",
    "from datetime import datetime,time,date\n",
    "import matplotlib.pyplot as plt\n",
    "import seaborn as sns\n",
    "import time\n",
    "import os \n",
    "import h5py\n",
    "import talib"
   ]
  },
  {
   "cell_type": "code",
   "execution_count": 3,
   "metadata": {
    "collapsed": false,
    "deletable": true,
    "editable": true
   },
   "outputs": [],
   "source": [
    "# Import My own library for factor testing\n",
    "from SingleFactorTest import factorFilterFunctions as ff\n",
    "#from config import *\n",
    "from SingleFactorTest.calcOwnFactors import CalOwnFactor"
   ]
  },
  {
   "cell_type": "code",
   "execution_count": 4,
   "metadata": {
    "collapsed": true,
    "deletable": true,
    "editable": true
   },
   "outputs": [],
   "source": [
    "%load_ext line_profiler"
   ]
  },
  {
   "cell_type": "code",
   "execution_count": 5,
   "metadata": {
    "collapsed": true,
    "deletable": true,
    "editable": true
   },
   "outputs": [],
   "source": [
    "path = ff.data_path # path"
   ]
  },
  {
   "cell_type": "code",
   "execution_count": 6,
   "metadata": {
    "collapsed": true,
    "deletable": true,
    "editable": true
   },
   "outputs": [],
   "source": [
    "# --------------------------------------- Global Functions to def---------------------------------- #"
   ]
  },
  {
   "cell_type": "code",
   "execution_count": 123,
   "metadata": {
    "collapsed": true
   },
   "outputs": [],
   "source": [
    "class neutralize(CalOwnFactor):\n",
    "    classname = 'neutralize'\n",
    "    \n",
    "    def __init__(self, path,filenameFCAP,factorData):\n",
    "        super(neutralize,self).__init__(path) # arguments in super method should be exactly same as the args in parent class\n",
    "        self.logFCAP = np.log10(ff.readh5data(path,filenameFCAP))\n",
    "        self.factorData = factorData\n",
    "        \n",
    "    def simpleNormalize(self,factorData):\n",
    "        factorDatatemp = factorData.copy()\n",
    "        dataWinsorizedTrans = factorDatatemp.T\n",
    "        MAD = 1.483*np.abs(dataWinsorizedTrans-dataWinsorizedTrans.median(skipna=True))\n",
    "        return ((dataWinsorizedTrans - dataWinsorizedTrans.mean(axis=0, skipna=True))/\\\n",
    "                               dataWinsorizedTrans.std(axis=0, skipna=True)).T\n",
    "    def neutralizeFactor(self, datelist):\n",
    "        normalizedLFCAPDF = self.simpleNormalize(self.logFCAP)\n",
    "        normalizedFactor= self.simpleNormalize(self.factorData)\n",
    "        factorNeutralized = pd.DataFrame(index=normalizedFactor.index, columns=normalizedFactor.columns, data=None, dtype = float)\n",
    "        for date in datelist:\n",
    "            LFCAPIndice = normalizedLFCAPDF.loc[date].dropna()\n",
    "            factorIndice = normalizedFactor.loc[date].dropna()\n",
    "            intersectionStocks = list(set(LFCAPIndice.index) & set(factorIndice.index))\n",
    "            #dummy_Matrix = pd.get_dummies(IndustryDF.loc[date]).T.iloc[:-1]\n",
    "            #dummy_Matrix = dummy_Matrix[intersectionStocks].append(LFCAPIndice.loc[intersectionStocks])\n",
    "            try:\n",
    "                result = sm. OLS(factorIndice.loc[intersectionStocks].T, LFCAPIndice.loc[intersectionStocks].T).fit()\n",
    "                factorNeutralized.loc[date][intersectionStocks] = result.resid\n",
    "            except:\n",
    "                factorNeutralized.loc[date] = np.NaN\n",
    "        self.factorNeutralized = factorNeutralized.round(4)"
   ]
  },
  {
   "cell_type": "code",
   "execution_count": 124,
   "metadata": {
    "collapsed": false
   },
   "outputs": [
    {
     "name": "stderr",
     "output_type": "stream",
     "text": [
      "c:\\python27\\lib\\site-packages\\ipykernel\\__main__.py:12: RuntimeWarning: invalid value encountered in absolute\n"
     ]
    }
   ],
   "source": [
    "neutralized = neutralize(path,filenameFCAP,illiq.ILLIQ)\n",
    "neutralized.neutralizeFactor(neutralized.factorData.index)\n"
   ]
  },
  {
   "cell_type": "code",
   "execution_count": 127,
   "metadata": {
    "collapsed": false
   },
   "outputs": [
    {
     "data": {
      "text/html": [
       "<div>\n",
       "<style>\n",
       "    .dataframe thead tr:only-child th {\n",
       "        text-align: right;\n",
       "    }\n",
       "\n",
       "    .dataframe thead th {\n",
       "        text-align: left;\n",
       "    }\n",
       "\n",
       "    .dataframe tbody tr th {\n",
       "        vertical-align: top;\n",
       "    }\n",
       "</style>\n",
       "<table border=\"1\" class=\"dataframe\">\n",
       "  <thead>\n",
       "    <tr style=\"text-align: right;\">\n",
       "      <th></th>\n",
       "      <th>000005.SZ</th>\n",
       "      <th>600601.SH</th>\n",
       "      <th>600602.SH</th>\n",
       "      <th>600651.SH</th>\n",
       "      <th>600652.SH</th>\n",
       "      <th>600653.SH</th>\n",
       "      <th>600654.SH</th>\n",
       "      <th>600656.SH</th>\n",
       "      <th>000004.SZ</th>\n",
       "      <th>000002.SZ</th>\n",
       "      <th>...</th>\n",
       "      <th>300705.SZ</th>\n",
       "      <th>300707.SZ</th>\n",
       "      <th>603103.SH</th>\n",
       "      <th>002903.SZ</th>\n",
       "      <th>002906.SZ</th>\n",
       "      <th>603110.SH</th>\n",
       "      <th>002905.SZ</th>\n",
       "      <th>300708.SZ</th>\n",
       "      <th>603499.SH</th>\n",
       "      <th>603829.SH</th>\n",
       "    </tr>\n",
       "    <tr>\n",
       "      <th>date</th>\n",
       "      <th></th>\n",
       "      <th></th>\n",
       "      <th></th>\n",
       "      <th></th>\n",
       "      <th></th>\n",
       "      <th></th>\n",
       "      <th></th>\n",
       "      <th></th>\n",
       "      <th></th>\n",
       "      <th></th>\n",
       "      <th></th>\n",
       "      <th></th>\n",
       "      <th></th>\n",
       "      <th></th>\n",
       "      <th></th>\n",
       "      <th></th>\n",
       "      <th></th>\n",
       "      <th></th>\n",
       "      <th></th>\n",
       "      <th></th>\n",
       "      <th></th>\n",
       "    </tr>\n",
       "  </thead>\n",
       "  <tbody>\n",
       "    <tr>\n",
       "      <th>2017-10-10</th>\n",
       "      <td>-0.0555</td>\n",
       "      <td>-0.0296</td>\n",
       "      <td>-0.0300</td>\n",
       "      <td>-0.0352</td>\n",
       "      <td>-0.0423</td>\n",
       "      <td>-0.0502</td>\n",
       "      <td>-0.0630</td>\n",
       "      <td>NaN</td>\n",
       "      <td>0.1241</td>\n",
       "      <td>0.1491</td>\n",
       "      <td>...</td>\n",
       "      <td>NaN</td>\n",
       "      <td>NaN</td>\n",
       "      <td>NaN</td>\n",
       "      <td>NaN</td>\n",
       "      <td>NaN</td>\n",
       "      <td>NaN</td>\n",
       "      <td>NaN</td>\n",
       "      <td>NaN</td>\n",
       "      <td>NaN</td>\n",
       "      <td>NaN</td>\n",
       "    </tr>\n",
       "    <tr>\n",
       "      <th>2017-10-11</th>\n",
       "      <td>-0.0664</td>\n",
       "      <td>-0.0417</td>\n",
       "      <td>-0.0390</td>\n",
       "      <td>-0.0430</td>\n",
       "      <td>-0.0524</td>\n",
       "      <td>-0.0636</td>\n",
       "      <td>-0.0761</td>\n",
       "      <td>NaN</td>\n",
       "      <td>0.1840</td>\n",
       "      <td>0.1387</td>\n",
       "      <td>...</td>\n",
       "      <td>NaN</td>\n",
       "      <td>NaN</td>\n",
       "      <td>NaN</td>\n",
       "      <td>NaN</td>\n",
       "      <td>NaN</td>\n",
       "      <td>NaN</td>\n",
       "      <td>NaN</td>\n",
       "      <td>NaN</td>\n",
       "      <td>NaN</td>\n",
       "      <td>NaN</td>\n",
       "    </tr>\n",
       "    <tr>\n",
       "      <th>2017-10-12</th>\n",
       "      <td>-0.0938</td>\n",
       "      <td>-0.0557</td>\n",
       "      <td>-0.0531</td>\n",
       "      <td>-0.0553</td>\n",
       "      <td>-0.0723</td>\n",
       "      <td>-0.0844</td>\n",
       "      <td>-0.1007</td>\n",
       "      <td>NaN</td>\n",
       "      <td>0.1767</td>\n",
       "      <td>0.1948</td>\n",
       "      <td>...</td>\n",
       "      <td>NaN</td>\n",
       "      <td>NaN</td>\n",
       "      <td>NaN</td>\n",
       "      <td>NaN</td>\n",
       "      <td>NaN</td>\n",
       "      <td>NaN</td>\n",
       "      <td>NaN</td>\n",
       "      <td>NaN</td>\n",
       "      <td>NaN</td>\n",
       "      <td>NaN</td>\n",
       "    </tr>\n",
       "    <tr>\n",
       "      <th>2017-10-13</th>\n",
       "      <td>-0.5567</td>\n",
       "      <td>-0.3979</td>\n",
       "      <td>-0.3660</td>\n",
       "      <td>-0.3302</td>\n",
       "      <td>-0.4622</td>\n",
       "      <td>-0.5464</td>\n",
       "      <td>-0.5980</td>\n",
       "      <td>NaN</td>\n",
       "      <td>1.1585</td>\n",
       "      <td>0.9693</td>\n",
       "      <td>...</td>\n",
       "      <td>NaN</td>\n",
       "      <td>NaN</td>\n",
       "      <td>NaN</td>\n",
       "      <td>NaN</td>\n",
       "      <td>NaN</td>\n",
       "      <td>NaN</td>\n",
       "      <td>NaN</td>\n",
       "      <td>NaN</td>\n",
       "      <td>NaN</td>\n",
       "      <td>NaN</td>\n",
       "    </tr>\n",
       "    <tr>\n",
       "      <th>2017-10-16</th>\n",
       "      <td>NaN</td>\n",
       "      <td>NaN</td>\n",
       "      <td>NaN</td>\n",
       "      <td>NaN</td>\n",
       "      <td>NaN</td>\n",
       "      <td>NaN</td>\n",
       "      <td>NaN</td>\n",
       "      <td>NaN</td>\n",
       "      <td>NaN</td>\n",
       "      <td>NaN</td>\n",
       "      <td>...</td>\n",
       "      <td>NaN</td>\n",
       "      <td>NaN</td>\n",
       "      <td>NaN</td>\n",
       "      <td>NaN</td>\n",
       "      <td>NaN</td>\n",
       "      <td>NaN</td>\n",
       "      <td>NaN</td>\n",
       "      <td>NaN</td>\n",
       "      <td>NaN</td>\n",
       "      <td>NaN</td>\n",
       "    </tr>\n",
       "  </tbody>\n",
       "</table>\n",
       "<p>5 rows × 3487 columns</p>\n",
       "</div>"
      ],
      "text/plain": [
       "            000005.SZ  600601.SH  600602.SH  600651.SH  600652.SH  600653.SH  \\\n",
       "date                                                                           \n",
       "2017-10-10    -0.0555    -0.0296    -0.0300    -0.0352    -0.0423    -0.0502   \n",
       "2017-10-11    -0.0664    -0.0417    -0.0390    -0.0430    -0.0524    -0.0636   \n",
       "2017-10-12    -0.0938    -0.0557    -0.0531    -0.0553    -0.0723    -0.0844   \n",
       "2017-10-13    -0.5567    -0.3979    -0.3660    -0.3302    -0.4622    -0.5464   \n",
       "2017-10-16        NaN        NaN        NaN        NaN        NaN        NaN   \n",
       "\n",
       "            600654.SH  600656.SH  000004.SZ  000002.SZ    ...      300705.SZ  \\\n",
       "date                                                      ...                  \n",
       "2017-10-10    -0.0630        NaN     0.1241     0.1491    ...            NaN   \n",
       "2017-10-11    -0.0761        NaN     0.1840     0.1387    ...            NaN   \n",
       "2017-10-12    -0.1007        NaN     0.1767     0.1948    ...            NaN   \n",
       "2017-10-13    -0.5980        NaN     1.1585     0.9693    ...            NaN   \n",
       "2017-10-16        NaN        NaN        NaN        NaN    ...            NaN   \n",
       "\n",
       "            300707.SZ  603103.SH  002903.SZ  002906.SZ  603110.SH  002905.SZ  \\\n",
       "date                                                                           \n",
       "2017-10-10        NaN        NaN        NaN        NaN        NaN        NaN   \n",
       "2017-10-11        NaN        NaN        NaN        NaN        NaN        NaN   \n",
       "2017-10-12        NaN        NaN        NaN        NaN        NaN        NaN   \n",
       "2017-10-13        NaN        NaN        NaN        NaN        NaN        NaN   \n",
       "2017-10-16        NaN        NaN        NaN        NaN        NaN        NaN   \n",
       "\n",
       "            300708.SZ  603499.SH  603829.SH  \n",
       "date                                         \n",
       "2017-10-10        NaN        NaN        NaN  \n",
       "2017-10-11        NaN        NaN        NaN  \n",
       "2017-10-12        NaN        NaN        NaN  \n",
       "2017-10-13        NaN        NaN        NaN  \n",
       "2017-10-16        NaN        NaN        NaN  \n",
       "\n",
       "[5 rows x 3487 columns]"
      ]
     },
     "execution_count": 127,
     "metadata": {},
     "output_type": "execute_result"
    }
   ],
   "source": [
    "neutralized.factorNeutralized.tail()"
   ]
  },
  {
   "cell_type": "code",
   "execution_count": 128,
   "metadata": {
    "collapsed": false
   },
   "outputs": [
    {
     "data": {
      "text/plain": [
       "649.9999999999999"
      ]
     },
     "execution_count": 128,
     "metadata": {},
     "output_type": "execute_result"
    }
   ],
   "source": []
  },
  {
   "cell_type": "code",
   "execution_count": null,
   "metadata": {
    "collapsed": false
   },
   "outputs": [],
   "source": []
  },
  {
   "cell_type": "code",
   "execution_count": 7,
   "metadata": {
    "collapsed": true,
    "deletable": true,
    "editable": true
   },
   "outputs": [],
   "source": [
    "# top functions to def\n",
    "def simpleNormalize(narrowedData):\n",
    "    dataWinsorized = narrowedData.copy()\n",
    "    dataWinsorizedTrans = dataWinsorized.T\n",
    "    MAD = 1.483*np.abs(dataWinsorizedTrans-dataWinsorizedTrans.median(skipna=True))\n",
    "    return ((dataWinsorizedTrans - dataWinsorizedTrans.mean(axis=0, skipna=True))/dataWinsorizedTrans.std(axis=0, skipna=True)).T"
   ]
  },
  {
   "cell_type": "code",
   "execution_count": 8,
   "metadata": {
    "collapsed": true,
    "deletable": true,
    "editable": true
   },
   "outputs": [],
   "source": [
    "# top function\n",
    "def neutralizeFactor(normalizedFactorDF, normalizedLFCAPDF, datelist):\n",
    "    factorNeutralized = pd.DataFrame(index=normalizedFactorDF.index, columns=normalizedFactorDF.columns, data=None, dtype = float)\n",
    "    for date in datelist:\n",
    "        LFCAPIndice = normalizedLFCAPDF.loc[date].dropna()\n",
    "        factorIndice = normalizedFactorDF.loc[date].dropna()\n",
    "        intersectionStocks = list(set(LFCAPIndice.index) & set(factorIndice.index))\n",
    "        #dummy_Matrix = pd.get_dummies(IndustryDF.loc[date]).T.iloc[:-1]\n",
    "        #dummy_Matrix = dummy_Matrix[intersectionStocks].append(LFCAPIndice.loc[intersectionStocks])\n",
    "        try:\n",
    "            result = sm. OLS(factorIndice.loc[intersectionStocks].T, LFCAPIndice.loc[intersectionStocks].T).fit()\n",
    "            factorNeutralized.loc[date][intersectionStocks] = result.resid\n",
    "        except:\n",
    "            factorNeutralized.loc[date] = np.NaN\n",
    "    return factorNeutralized"
   ]
  },
  {
   "cell_type": "code",
   "execution_count": 9,
   "metadata": {
    "collapsed": true,
    "deletable": true,
    "editable": true
   },
   "outputs": [],
   "source": [
    "# --------------------------------------- Function Section End ---------------------------------- #"
   ]
  },
  {
   "cell_type": "code",
   "execution_count": 95,
   "metadata": {
    "collapsed": false,
    "deletable": true,
    "editable": true
   },
   "outputs": [
    {
     "name": "stderr",
     "output_type": "stream",
     "text": [
      "c:\\python27\\lib\\site-packages\\ipykernel\\__main__.py:5: RuntimeWarning: invalid value encountered in absolute\n"
     ]
    }
   ],
   "source": [
    "filenameFCAP =  'LZ_CN_STKA_VAL_A_FCAP.h5'\n",
    "# Data prepared for Neuralization\n",
    "FCAP1 = np.log10(ff.readh5data(path,filenameFCAP))\n",
    "NormalizedFCAP = simpleNormalize(FCAP1)"
   ]
  },
  {
   "cell_type": "code",
   "execution_count": null,
   "metadata": {
    "collapsed": false
   },
   "outputs": [],
   "source": []
  },
  {
   "cell_type": "code",
   "execution_count": null,
   "metadata": {
    "collapsed": true,
    "deletable": true,
    "editable": true
   },
   "outputs": [],
   "source": [
    "# --------------------------------------- AdjustedPrice ---------------------------------- #"
   ]
  },
  {
   "cell_type": "code",
   "execution_count": 23,
   "metadata": {
    "collapsed": true
   },
   "outputs": [],
   "source": [
    "filenameAdjustFactor = 'LZ_CN_STKA_CMFTR_CUM_FACTOR.h5'\n",
    "filenameClose = 'LZ_CN_STKA_QUOTE_TCLOSE.h5'"
   ]
  },
  {
   "cell_type": "code",
   "execution_count": 52,
   "metadata": {
    "collapsed": true
   },
   "outputs": [],
   "source": [
    "# first thing is to calculate forward adjusted pice\n",
    "class AdjustedPrice(CalOwnFactor):\n",
    "    classname = 'AdjustedPrice'\n",
    "    def __init__(self,path):\n",
    "        super(AdjustedPrice,self).__init__(path) # arguments in super method should be exactly same as the args in parent class\n",
    "        #self.setting = setting\n",
    "    def calAdjustedPrice(self,adjFacBackward,originalPrice):\n",
    "        AdjFacforward = adjFacBackward / adjFacBackward.max()\n",
    "        self.adjustedPrice = (AdjFacforward * originalPrice).round(3)     "
   ]
  },
  {
   "cell_type": "code",
   "execution_count": 53,
   "metadata": {
    "collapsed": false
   },
   "outputs": [],
   "source": [
    "adjc = AdjustedPrice(path)\n",
    "adjc.addData('adjf',filenameAdjustFactor)\n",
    "adjc.addData('close',filenameClose)\n",
    "adjc.calAdjustedPrice(adjc.datadict['adjf'],adjc.datadict['close'])\n",
    "adjc.saveData(adjc.adjustedPrice,'OwnfactorAdjustedClose')"
   ]
  },
  {
   "cell_type": "code",
   "execution_count": null,
   "metadata": {
    "collapsed": false
   },
   "outputs": [],
   "source": []
  },
  {
   "cell_type": "code",
   "execution_count": null,
   "metadata": {
    "collapsed": false
   },
   "outputs": [],
   "source": [
    "# --------------------------------------- end  AdjustedPrice section ---------------------------------- #"
   ]
  },
  {
   "cell_type": "code",
   "execution_count": 12,
   "metadata": {
    "collapsed": true,
    "deletable": true,
    "editable": true
   },
   "outputs": [],
   "source": [
    "# --------------------------------------- Mass Index ---------------------------------- #"
   ]
  },
  {
   "cell_type": "code",
   "execution_count": 71,
   "metadata": {
    "collapsed": true,
    "deletable": true,
    "editable": true
   },
   "outputs": [],
   "source": [
    "filenameOpen = 'LZ_CN_STKA_QUOTE_TOPEN.h5' # 开盘价\n",
    "filenameClose = 'LZ_CN_STKA_QUOTE_TCLOSE.h5'  # 收盘价\n",
    "filenameHigh = 'LZ_CN_STKA_QUOTE_THIGH.h5'   # 最高价\n",
    "filenameLow = 'LZ_CN_STKA_QUOTE_TLOW.h5'  # 最低价\n",
    "# \n",
    "\n",
    "filenameVolume = 'LZ_CN_STKA_QUOTE_TVOLUME.h5'"
   ]
  },
  {
   "cell_type": "code",
   "execution_count": 14,
   "metadata": {
    "collapsed": false
   },
   "outputs": [],
   "source": [
    "class MassIndex(CalOwnFactor):\n",
    "    classname = 'MassIndex'\n",
    "    def __init__(self,path):\n",
    "        super(MassIndex,self).__init__(path) # arguments in super method should be exactly same as the args in parent class\n",
    "        #self.setting = setting\n",
    "    def calEma(self,data,window = 9):\n",
    "        Ema = data.copy()\n",
    "        NanCount =0\n",
    "        for name in data.columns:\n",
    "            try:\n",
    "                Ema[name] = talib.EMA(data[name].values,timeperiod = window)\n",
    "            except Exception as e:\n",
    "                #print str(e) \n",
    "                #print 'too much NaN value for stock %s'%name\n",
    "                assert str(e)== 'inputs are all NaN'\n",
    "                Ema [name] = np.NaN\n",
    "                NanCount+=1\n",
    "        return Ema\n",
    "    def calMassIndex(self,hlRange,rolling_window=25):\n",
    "        self.singleEMA = self.calEma(hlRange)\n",
    "        self.doubleEMA = self.calEma(self.singleEMA)\n",
    "        self.MassIndex = (self.singleEMA / self.doubleEMA).rolling(window=rolling_window, min_periods=25).sum().round(3)"
   ]
  },
  {
   "cell_type": "code",
   "execution_count": null,
   "metadata": {
    "collapsed": false
   },
   "outputs": [],
   "source": []
  },
  {
   "cell_type": "code",
   "execution_count": 15,
   "metadata": {
    "collapsed": false
   },
   "outputs": [
    {
     "name": "stderr",
     "output_type": "stream",
     "text": [
      "c:\\python27\\lib\\site-packages\\pandas\\core\\series.py:1295: RuntimeWarning: invalid value encountered in rint\n",
      "  result = _values_from_object(self).round(decimals)\n"
     ]
    }
   ],
   "source": [
    "# cal massindex\n",
    "massindex = MassIndex(path)\n",
    "massindex.addData('high',filenameHigh)\n",
    "massindex.addData('low',filenameLow)\n",
    "\n",
    "massindex.calMassIndex(massindex.datadict['high'] - massindex.datadict['low'])\n",
    "\n",
    "massindex.saveData(massindex.MassIndex,'OwnfactorMassIndex') "
   ]
  },
  {
   "cell_type": "code",
   "execution_count": 16,
   "metadata": {
    "collapsed": false
   },
   "outputs": [],
   "source": [
    "# --------------------------------------- end Mass Index  section ---------------------------------- #"
   ]
  },
  {
   "cell_type": "code",
   "execution_count": null,
   "metadata": {
    "collapsed": false,
    "deletable": true,
    "editable": true
   },
   "outputs": [],
   "source": [
    "# --------------------------------------- ILLQ Factor(5-days average) ---------------------------------- #"
   ]
  },
  {
   "cell_type": "code",
   "execution_count": 81,
   "metadata": {
    "collapsed": false,
    "deletable": true,
    "editable": true
   },
   "outputs": [],
   "source": [
    "# the illiquid factor\n",
    "class ILLIQ(CalOwnFactor):\n",
    "    classname = 'ILLIQ'\n",
    "    def __init__(self,path):\n",
    "        super(ILLIQ,self).__init__(path) # arguments in super method should be exactly same as the args in parent class\n",
    "        #self.setting = setting\n",
    "    def calILLIQ(self,openPrice,closePrice,volume):\n",
    "        if openPrice.shape != closePrice.shape:\n",
    "            print openPrice.shape, closePrice.shape\n",
    "            print 'data shape is not equal!'\n",
    "        else:\n",
    "            newdf = np.abs((closePrice - openPrice)/openPrice)/volume\n",
    "            self.ILLIQ= (newdf.rolling(min_periods=5,window=5,center=False).mean()* 10000000).round(4)"
   ]
  },
  {
   "cell_type": "code",
   "execution_count": 82,
   "metadata": {
    "collapsed": false,
    "deletable": true,
    "editable": true
   },
   "outputs": [
    {
     "name": "stderr",
     "output_type": "stream",
     "text": [
      "c:\\python27\\lib\\site-packages\\ipykernel\\__main__.py:12: RuntimeWarning: invalid value encountered in absolute\n"
     ]
    }
   ],
   "source": [
    "# cal ILLIQ\n",
    "illiq = ILLIQ(path)\n",
    "illiq .addData('open',filenameOpen)\n",
    "illiq .addData('close',filenameClose)\n",
    "illiq .addData('volume', filenameVolume)\n",
    "illiq .calILLIQ(illiq.datadict['open'],illiq.datadict['close'],illiq.datadict['volume'])\n",
    "illiq .saveData(illiq.ILLIQ,'OwnFactorILLIQ') "
   ]
  },
  {
   "cell_type": "code",
   "execution_count": null,
   "metadata": {
    "collapsed": false
   },
   "outputs": [],
   "source": []
  },
  {
   "cell_type": "code",
   "execution_count": null,
   "metadata": {
    "collapsed": false
   },
   "outputs": [],
   "source": []
  },
  {
   "cell_type": "code",
   "execution_count": 99,
   "metadata": {
    "collapsed": false
   },
   "outputs": [
    {
     "name": "stderr",
     "output_type": "stream",
     "text": [
      "c:\\python27\\lib\\site-packages\\ipykernel\\__main__.py:5: RuntimeWarning: invalid value encountered in absolute\n"
     ]
    }
   ],
   "source": [
    "# TO nuetralize ILLIQ\n",
    "NormalizedILLQ = simpleNormalize(illiq.ILLIQ)\n",
    "neutralizedILLQ = neutralizeFactor(NormalizedILLQ, NormalizedFCAP, NormalizedILLQ.index)\n",
    "#neutralizedILLQ.index.name = 'Own_Factor_ADJ_ILLQ_1D'\n",
    "ff.saveh5data(neutralizedILLQ,path,'OwnFactorADJILLIQ')"
   ]
  },
  {
   "cell_type": "code",
   "execution_count": 84,
   "metadata": {
    "collapsed": false,
    "deletable": true,
    "editable": true
   },
   "outputs": [],
   "source": [
    "# --------------------------------------- end ILLQ Factor section ---------------------------------- #"
   ]
  },
  {
   "cell_type": "code",
   "execution_count": null,
   "metadata": {
    "collapsed": false,
    "deletable": true,
    "editable": true
   },
   "outputs": [],
   "source": []
  },
  {
   "cell_type": "code",
   "execution_count": null,
   "metadata": {
    "collapsed": false,
    "deletable": true,
    "editable": true
   },
   "outputs": [],
   "source": []
  },
  {
   "cell_type": "code",
   "execution_count": null,
   "metadata": {
    "collapsed": false,
    "deletable": true,
    "editable": true
   },
   "outputs": [],
   "source": []
  },
  {
   "cell_type": "code",
   "execution_count": null,
   "metadata": {
    "collapsed": true,
    "deletable": true,
    "editable": true
   },
   "outputs": [],
   "source": []
  },
  {
   "cell_type": "code",
   "execution_count": null,
   "metadata": {
    "collapsed": true,
    "deletable": true,
    "editable": true
   },
   "outputs": [],
   "source": []
  },
  {
   "cell_type": "code",
   "execution_count": null,
   "metadata": {
    "collapsed": false,
    "deletable": true,
    "editable": true
   },
   "outputs": [],
   "source": []
  },
  {
   "cell_type": "code",
   "execution_count": null,
   "metadata": {
    "collapsed": false,
    "deletable": true,
    "editable": true
   },
   "outputs": [],
   "source": []
  },
  {
   "cell_type": "code",
   "execution_count": null,
   "metadata": {
    "collapsed": true,
    "deletable": true,
    "editable": true
   },
   "outputs": [],
   "source": []
  },
  {
   "cell_type": "code",
   "execution_count": null,
   "metadata": {
    "collapsed": false,
    "deletable": true,
    "editable": true
   },
   "outputs": [],
   "source": []
  },
  {
   "cell_type": "code",
   "execution_count": null,
   "metadata": {
    "collapsed": false,
    "deletable": true,
    "editable": true
   },
   "outputs": [],
   "source": []
  },
  {
   "cell_type": "code",
   "execution_count": null,
   "metadata": {
    "collapsed": false,
    "deletable": true,
    "editable": true
   },
   "outputs": [],
   "source": []
  },
  {
   "cell_type": "code",
   "execution_count": null,
   "metadata": {
    "collapsed": true,
    "deletable": true,
    "editable": true
   },
   "outputs": [],
   "source": []
  },
  {
   "cell_type": "code",
   "execution_count": null,
   "metadata": {
    "collapsed": false,
    "deletable": true,
    "editable": true
   },
   "outputs": [],
   "source": []
  },
  {
   "cell_type": "code",
   "execution_count": null,
   "metadata": {
    "collapsed": false,
    "deletable": true,
    "editable": true
   },
   "outputs": [],
   "source": []
  },
  {
   "cell_type": "code",
   "execution_count": null,
   "metadata": {
    "collapsed": false,
    "deletable": true,
    "editable": true
   },
   "outputs": [],
   "source": []
  },
  {
   "cell_type": "code",
   "execution_count": null,
   "metadata": {
    "collapsed": false,
    "deletable": true,
    "editable": true
   },
   "outputs": [],
   "source": []
  },
  {
   "cell_type": "code",
   "execution_count": null,
   "metadata": {
    "collapsed": false,
    "deletable": true,
    "editable": true
   },
   "outputs": [],
   "source": []
  },
  {
   "cell_type": "code",
   "execution_count": null,
   "metadata": {
    "collapsed": false,
    "deletable": true,
    "editable": true
   },
   "outputs": [],
   "source": []
  },
  {
   "cell_type": "code",
   "execution_count": null,
   "metadata": {
    "collapsed": false,
    "deletable": true,
    "editable": true
   },
   "outputs": [],
   "source": []
  }
 ],
 "metadata": {
  "kernelspec": {
   "display_name": "Python 2",
   "language": "python",
   "name": "python2"
  },
  "language_info": {
   "codemirror_mode": {
    "name": "ipython",
    "version": 2
   },
   "file_extension": ".py",
   "mimetype": "text/x-python",
   "name": "python",
   "nbconvert_exporter": "python",
   "pygments_lexer": "ipython2",
   "version": "2.7.12"
  }
 },
 "nbformat": 4,
 "nbformat_minor": 2
}
