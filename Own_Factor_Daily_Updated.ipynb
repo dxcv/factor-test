{
 "cells": [
  {
   "cell_type": "code",
   "execution_count": 8,
   "metadata": {
    "collapsed": true
   },
   "outputs": [],
   "source": [
    "#!/Tsan/bin/python\n",
    "# -*- coding: utf-8 -*-"
   ]
  },
  {
   "cell_type": "code",
   "execution_count": 9,
   "metadata": {
    "collapsed": true
   },
   "outputs": [],
   "source": [
    "# Libraries To Use\n",
    "from __future__ import division \n",
    "import numpy as np\n",
    "import pandas as pd\n",
    "import statsmodels.api as sm\n",
    "import os\n",
    "from sklearn import linear_model\n",
    "from datetime import datetime,time,date\n",
    "import matplotlib.pyplot as plt\n",
    "import theano.tensor as T\n",
    "from theano import function\n",
    "import seaborn as sns\n",
    "from theano.tensor.shared_randomstreams import RandomStreams"
   ]
  },
  {
   "cell_type": "code",
   "execution_count": 10,
   "metadata": {
    "collapsed": true
   },
   "outputs": [],
   "source": [
    "# Import My own library for factor testing\n",
    "import factorFilterFunctions as ff\n",
    "#from config import *"
   ]
  },
  {
   "cell_type": "code",
   "execution_count": 11,
   "metadata": {
    "collapsed": true
   },
   "outputs": [],
   "source": [
    "path = ff.data_path # path"
   ]
  },
  {
   "cell_type": "code",
   "execution_count": 12,
   "metadata": {
    "collapsed": true
   },
   "outputs": [],
   "source": [
    "# --------------------------------------- Calculate Forward Adjusted Price ---------------------------------- #"
   ]
  },
  {
   "cell_type": "code",
   "execution_count": 13,
   "metadata": {
    "collapsed": true
   },
   "outputs": [],
   "source": [
    "# the necessary files\n",
    "filenameAdjustFactor='LZ_GPA_CMFTR_CUM_FACTOR.csv'\n",
    "filenamePirce='LZ_GPA_QUOTE_TCLOSE.csv'"
   ]
  },
  {
   "cell_type": "code",
   "execution_count": 31,
   "metadata": {
    "collapsed": true
   },
   "outputs": [],
   "source": [
    "# first is to calculate forward adjusted pice\n",
    "def calAdjustedPrice():\n",
    "    # Adjusted factor\n",
    "    AdjFacBackward=pd.read_csv(path+filenameAdjustFactor,infer_datetime_format=True,parse_dates=[0],index_col=0)\n",
    "    AdjFacBackward=AdjFacBackward[:]\n",
    "\n",
    "    #PriceData to Adjust\n",
    "    PriceToAdj=pd.read_csv(path+filenamePirce,infer_datetime_format=True,parse_dates=[0],index_col=0)\n",
    "    PriceToAdj=PriceToAdj[:]\n",
    "\n",
    "    #Calculate\n",
    "    AdjFacforward = AdjFacBackward/AdjFacBackward.max()\n",
    "    adjustedPrice = (AdjFacforward*PriceToAdj).round(5)\n",
    "    #adjustedPrice.index.name = 'LZ_GPA_DERI_AdjustedPriceForward_20-d' \n",
    "    adjustedPrice.index.name = 'Own_Factor_AdjustedPriceForward-1d'\n",
    "    print adjustedPrice.index.name \n",
    "    adjustedPrice.to_csv(path+'Own_Factor_AdjustedPriceForward-1d.csv',na_rep='NaN',date_format='%Y%m%d')"
   ]
  },
  {
   "cell_type": "code",
   "execution_count": 32,
   "metadata": {
    "collapsed": false
   },
   "outputs": [
    {
     "name": "stdout",
     "output_type": "stream",
     "text": [
      "Own_Factor_AdjustedPriceForward-1d\n"
     ]
    }
   ],
   "source": [
    "calAdjustedPrice()"
   ]
  },
  {
   "cell_type": "code",
   "execution_count": 16,
   "metadata": {
    "collapsed": true
   },
   "outputs": [],
   "source": [
    "# --------------------------------------- Calculate ILLQ Factor ---------------------------------- #"
   ]
  },
  {
   "cell_type": "code",
   "execution_count": 17,
   "metadata": {
    "collapsed": true
   },
   "outputs": [],
   "source": [
    "# \n",
    "filenameClose = 'LZ_GPA_QUOTE_TCLOSE.csv'\n",
    "filenameOpen = 'LZ_GPA_QUOTE_TOPEN.csv'\n",
    "filenameVolume = 'LZ_GPA_QUOTE_TVOLUME.csv'"
   ]
  },
  {
   "cell_type": "code",
   "execution_count": 29,
   "metadata": {
    "collapsed": true
   },
   "outputs": [],
   "source": [
    "def calcILLQ():\n",
    "    openPrice = pd.read_csv(path+filenameOpen,infer_datetime_format=True,parse_dates=[0],index_col=0)\n",
    "    closePrice = pd.read_csv(path+filenameClose,infer_datetime_format=True,parse_dates=[0],index_col=0)\n",
    "    volume = pd.read_csv(path+filenameVolume,infer_datetime_format=True,parse_dates=[0],index_col=0)\n",
    "    if openPrice.shape != closePrice.shape:\n",
    "        print openPrice.shape, closePrice.shape\n",
    "        print 'data shape is not equal!'\n",
    "    else:\n",
    "        newdf = np.abs((closePrice - openPrice)/openPrice)/volume\n",
    "        newdf = newdf.rolling(min_periods=20,window=20,center=False).mean()\n",
    "        newdf.index.name = 'Own_Factor_ILLQ-1d'\n",
    "        newdf.to_csv(path+'Own_Factor_ILLQ-1d.csv',na_rep='NaN',date_format='%Y%m%d')\n",
    "        return newdf           "
   ]
  },
  {
   "cell_type": "code",
   "execution_count": 30,
   "metadata": {
    "collapsed": false
   },
   "outputs": [
    {
     "data": {
      "text/html": [
       "<div>\n",
       "<table border=\"1\" class=\"dataframe\">\n",
       "  <thead>\n",
       "    <tr style=\"text-align: right;\">\n",
       "      <th></th>\n",
       "      <th>000005.SZ</th>\n",
       "      <th>600601.SH</th>\n",
       "      <th>600602.SH</th>\n",
       "      <th>600651.SH</th>\n",
       "      <th>600652.SH</th>\n",
       "      <th>600653.SH</th>\n",
       "      <th>600654.SH</th>\n",
       "      <th>600656.SH</th>\n",
       "      <th>000004.SZ</th>\n",
       "      <th>000002.SZ</th>\n",
       "      <th>...</th>\n",
       "      <th>300630.SZ</th>\n",
       "      <th>603178.SH</th>\n",
       "      <th>603833.SH</th>\n",
       "      <th>601228.SH</th>\n",
       "      <th>603041.SH</th>\n",
       "      <th>603303.SH</th>\n",
       "      <th>300635.SZ</th>\n",
       "      <th>300636.SZ</th>\n",
       "      <th>601200.SH</th>\n",
       "      <th>603385.SH</th>\n",
       "    </tr>\n",
       "    <tr>\n",
       "      <th>LZ_GPA_DERI_OWNILLIQ_20-d</th>\n",
       "      <th></th>\n",
       "      <th></th>\n",
       "      <th></th>\n",
       "      <th></th>\n",
       "      <th></th>\n",
       "      <th></th>\n",
       "      <th></th>\n",
       "      <th></th>\n",
       "      <th></th>\n",
       "      <th></th>\n",
       "      <th></th>\n",
       "      <th></th>\n",
       "      <th></th>\n",
       "      <th></th>\n",
       "      <th></th>\n",
       "      <th></th>\n",
       "      <th></th>\n",
       "      <th></th>\n",
       "      <th></th>\n",
       "      <th></th>\n",
       "      <th></th>\n",
       "    </tr>\n",
       "  </thead>\n",
       "  <tbody>\n",
       "    <tr>\n",
       "      <th>2017-03-29</th>\n",
       "      <td>6.707835e-08</td>\n",
       "      <td>4.625214e-08</td>\n",
       "      <td>NaN</td>\n",
       "      <td>1.061284e-07</td>\n",
       "      <td>1.116079e-07</td>\n",
       "      <td>5.830602e-08</td>\n",
       "      <td>NaN</td>\n",
       "      <td>NaN</td>\n",
       "      <td>9.765138e-07</td>\n",
       "      <td>2.355659e-08</td>\n",
       "      <td>...</td>\n",
       "      <td>NaN</td>\n",
       "      <td>NaN</td>\n",
       "      <td>NaN</td>\n",
       "      <td>NaN</td>\n",
       "      <td>NaN</td>\n",
       "      <td>NaN</td>\n",
       "      <td>NaN</td>\n",
       "      <td>NaN</td>\n",
       "      <td>NaN</td>\n",
       "      <td>NaN</td>\n",
       "    </tr>\n",
       "    <tr>\n",
       "      <th>2017-03-30</th>\n",
       "      <td>6.869572e-08</td>\n",
       "      <td>4.953425e-08</td>\n",
       "      <td>NaN</td>\n",
       "      <td>1.088760e-07</td>\n",
       "      <td>1.135406e-07</td>\n",
       "      <td>6.426049e-08</td>\n",
       "      <td>NaN</td>\n",
       "      <td>NaN</td>\n",
       "      <td>9.848811e-07</td>\n",
       "      <td>2.511127e-08</td>\n",
       "      <td>...</td>\n",
       "      <td>NaN</td>\n",
       "      <td>NaN</td>\n",
       "      <td>NaN</td>\n",
       "      <td>NaN</td>\n",
       "      <td>NaN</td>\n",
       "      <td>NaN</td>\n",
       "      <td>NaN</td>\n",
       "      <td>NaN</td>\n",
       "      <td>NaN</td>\n",
       "      <td>NaN</td>\n",
       "    </tr>\n",
       "    <tr>\n",
       "      <th>2017-03-31</th>\n",
       "      <td>NaN</td>\n",
       "      <td>NaN</td>\n",
       "      <td>NaN</td>\n",
       "      <td>NaN</td>\n",
       "      <td>NaN</td>\n",
       "      <td>NaN</td>\n",
       "      <td>NaN</td>\n",
       "      <td>NaN</td>\n",
       "      <td>NaN</td>\n",
       "      <td>NaN</td>\n",
       "      <td>...</td>\n",
       "      <td>NaN</td>\n",
       "      <td>NaN</td>\n",
       "      <td>NaN</td>\n",
       "      <td>NaN</td>\n",
       "      <td>NaN</td>\n",
       "      <td>NaN</td>\n",
       "      <td>NaN</td>\n",
       "      <td>NaN</td>\n",
       "      <td>NaN</td>\n",
       "      <td>NaN</td>\n",
       "    </tr>\n",
       "    <tr>\n",
       "      <th>2017-04-05</th>\n",
       "      <td>NaN</td>\n",
       "      <td>NaN</td>\n",
       "      <td>NaN</td>\n",
       "      <td>NaN</td>\n",
       "      <td>NaN</td>\n",
       "      <td>NaN</td>\n",
       "      <td>NaN</td>\n",
       "      <td>NaN</td>\n",
       "      <td>NaN</td>\n",
       "      <td>NaN</td>\n",
       "      <td>...</td>\n",
       "      <td>NaN</td>\n",
       "      <td>NaN</td>\n",
       "      <td>NaN</td>\n",
       "      <td>NaN</td>\n",
       "      <td>NaN</td>\n",
       "      <td>NaN</td>\n",
       "      <td>NaN</td>\n",
       "      <td>NaN</td>\n",
       "      <td>NaN</td>\n",
       "      <td>NaN</td>\n",
       "    </tr>\n",
       "    <tr>\n",
       "      <th>2017-04-06</th>\n",
       "      <td>NaN</td>\n",
       "      <td>NaN</td>\n",
       "      <td>NaN</td>\n",
       "      <td>NaN</td>\n",
       "      <td>NaN</td>\n",
       "      <td>NaN</td>\n",
       "      <td>NaN</td>\n",
       "      <td>NaN</td>\n",
       "      <td>NaN</td>\n",
       "      <td>NaN</td>\n",
       "      <td>...</td>\n",
       "      <td>NaN</td>\n",
       "      <td>NaN</td>\n",
       "      <td>NaN</td>\n",
       "      <td>NaN</td>\n",
       "      <td>NaN</td>\n",
       "      <td>NaN</td>\n",
       "      <td>NaN</td>\n",
       "      <td>NaN</td>\n",
       "      <td>NaN</td>\n",
       "      <td>NaN</td>\n",
       "    </tr>\n",
       "  </tbody>\n",
       "</table>\n",
       "<p>5 rows × 3262 columns</p>\n",
       "</div>"
      ],
      "text/plain": [
       "                              000005.SZ     600601.SH  600602.SH  \\\n",
       "LZ_GPA_DERI_OWNILLIQ_20-d                                          \n",
       "2017-03-29                 6.707835e-08  4.625214e-08        NaN   \n",
       "2017-03-30                 6.869572e-08  4.953425e-08        NaN   \n",
       "2017-03-31                          NaN           NaN        NaN   \n",
       "2017-04-05                          NaN           NaN        NaN   \n",
       "2017-04-06                          NaN           NaN        NaN   \n",
       "\n",
       "                              600651.SH     600652.SH     600653.SH  \\\n",
       "LZ_GPA_DERI_OWNILLIQ_20-d                                             \n",
       "2017-03-29                 1.061284e-07  1.116079e-07  5.830602e-08   \n",
       "2017-03-30                 1.088760e-07  1.135406e-07  6.426049e-08   \n",
       "2017-03-31                          NaN           NaN           NaN   \n",
       "2017-04-05                          NaN           NaN           NaN   \n",
       "2017-04-06                          NaN           NaN           NaN   \n",
       "\n",
       "                           600654.SH  600656.SH     000004.SZ     000002.SZ  \\\n",
       "LZ_GPA_DERI_OWNILLIQ_20-d                                                     \n",
       "2017-03-29                       NaN        NaN  9.765138e-07  2.355659e-08   \n",
       "2017-03-30                       NaN        NaN  9.848811e-07  2.511127e-08   \n",
       "2017-03-31                       NaN        NaN           NaN           NaN   \n",
       "2017-04-05                       NaN        NaN           NaN           NaN   \n",
       "2017-04-06                       NaN        NaN           NaN           NaN   \n",
       "\n",
       "                             ...      300630.SZ  603178.SH  603833.SH  \\\n",
       "LZ_GPA_DERI_OWNILLIQ_20-d    ...                                        \n",
       "2017-03-29                   ...            NaN        NaN        NaN   \n",
       "2017-03-30                   ...            NaN        NaN        NaN   \n",
       "2017-03-31                   ...            NaN        NaN        NaN   \n",
       "2017-04-05                   ...            NaN        NaN        NaN   \n",
       "2017-04-06                   ...            NaN        NaN        NaN   \n",
       "\n",
       "                           601228.SH  603041.SH  603303.SH  300635.SZ  \\\n",
       "LZ_GPA_DERI_OWNILLIQ_20-d                                               \n",
       "2017-03-29                       NaN        NaN        NaN        NaN   \n",
       "2017-03-30                       NaN        NaN        NaN        NaN   \n",
       "2017-03-31                       NaN        NaN        NaN        NaN   \n",
       "2017-04-05                       NaN        NaN        NaN        NaN   \n",
       "2017-04-06                       NaN        NaN        NaN        NaN   \n",
       "\n",
       "                           300636.SZ  601200.SH  603385.SH  \n",
       "LZ_GPA_DERI_OWNILLIQ_20-d                                   \n",
       "2017-03-29                       NaN        NaN        NaN  \n",
       "2017-03-30                       NaN        NaN        NaN  \n",
       "2017-03-31                       NaN        NaN        NaN  \n",
       "2017-04-05                       NaN        NaN        NaN  \n",
       "2017-04-06                       NaN        NaN        NaN  \n",
       "\n",
       "[5 rows x 3262 columns]"
      ]
     },
     "execution_count": 30,
     "metadata": {},
     "output_type": "execute_result"
    }
   ],
   "source": [
    "calcILLQ().tail()"
   ]
  },
  {
   "cell_type": "code",
   "execution_count": 20,
   "metadata": {
    "collapsed": true
   },
   "outputs": [],
   "source": [
    "# --------------------------------------- Calculate FCAP Adjusted Turnover Volume---------------------------------- #"
   ]
  },
  {
   "cell_type": "code",
   "execution_count": 28,
   "metadata": {
    "collapsed": true
   },
   "outputs": [],
   "source": [
    "# REMINDER: Code in this section can be used to neutralize any new factor! Use this to check some size-affected factor!!!"
   ]
  },
  {
   "cell_type": "code",
   "execution_count": 21,
   "metadata": {
    "collapsed": true
   },
   "outputs": [],
   "source": [
    "filenameTURNOVER = 'LZ_GPA_QUOTE_TVOLUME.csv'\n",
    "filenameFCAP = 'LZ_GPA_VAL_A_FCAP.csv'"
   ]
  },
  {
   "cell_type": "code",
   "execution_count": 22,
   "metadata": {
    "collapsed": true
   },
   "outputs": [],
   "source": [
    "def simpleNormalize(narrowedData):\n",
    "    dataWinsorized = narrowedData.copy()\n",
    "    dataWinsorizedTrans = dataWinsorized.T\n",
    "    MAD = 1.483*np.abs(dataWinsorizedTrans-dataWinsorizedTrans.median(skipna=True))\n",
    "    return ((dataWinsorizedTrans - dataWinsorizedTrans.mean(axis=0, skipna=True))/dataWinsorizedTrans.std(axis=0, skipna=True)).T"
   ]
  },
  {
   "cell_type": "code",
   "execution_count": 55,
   "metadata": {
    "collapsed": false
   },
   "outputs": [],
   "source": [
    "TURNOVER = pd.read_csv(path+filenameTURNOVER,infer_datetime_format=True,parse_dates=[0],index_col=0)\n",
    "FCAP1 = np.log10(pd.read_csv(path+filenameFCAP,infer_datetime_format=True,parse_dates=[0],index_col=0))\n",
    "\n",
    "TURNOVER= simpleNormalize(TURNOVER)\n",
    "\n",
    "FCAP1 = simpleNormalize(FCAP1 )\n",
    "\n",
    "datelist = FCAP1.index.tolist()"
   ]
  },
  {
   "cell_type": "code",
   "execution_count": 25,
   "metadata": {
    "collapsed": true
   },
   "outputs": [],
   "source": [
    "def neutralizeFactor(normalizedFactorDF, normalizedLFCAPDF, datelist):\n",
    "    factorNeutralized = pd.DataFrame(index=normalizedFactorDF.index, columns=normalizedFactorDF.columns, data=None, dtype = float)\n",
    "    for date in datelist:\n",
    "        LFCAPIndice = normalizedLFCAPDF.loc[date].dropna()\n",
    "        factorIndice = normalizedFactorDF.loc[date].dropna()\n",
    "        intersectionStocks = list(set(LFCAPIndice.index) & set(factorIndice.index))\n",
    "        #dummy_Matrix = pd.get_dummies(IndustryDF.loc[date]).T.iloc[:-1]\n",
    "        #dummy_Matrix = dummy_Matrix[intersectionStocks].append(LFCAPIndice.loc[intersectionStocks])\n",
    "        try:\n",
    "            result = sm. OLS(factorIndice.loc[intersectionStocks].T, LFCAPIndice.loc[intersectionStocks].T).fit()\n",
    "            factorNeutralized.loc[date][intersectionStocks] = result.resid\n",
    "        except:\n",
    "            factorNeutralized.loc[date] = np.NaN\n",
    "    return factorNeutralized"
   ]
  },
  {
   "cell_type": "code",
   "execution_count": 26,
   "metadata": {
    "collapsed": true
   },
   "outputs": [],
   "source": [
    "adjustedTurnOver = neutralizeFactor(TURNOVER , FCAP1, datelist)"
   ]
  },
  {
   "cell_type": "code",
   "execution_count": null,
   "metadata": {
    "collapsed": false
   },
   "outputs": [],
   "source": []
  },
  {
   "cell_type": "code",
   "execution_count": 27,
   "metadata": {
    "collapsed": true
   },
   "outputs": [],
   "source": [
    "adjustedTurnOver.index.name = 'Own_Factor_AdjustedTurnOver-1d'\n",
    "adjustedTurnOver.to_csv(path+'Own_Factor_AdjustedTurnOver-1d.csv',na_rep='NaN',date_format='%Y%m%d')"
   ]
  },
  {
   "cell_type": "code",
   "execution_count": null,
   "metadata": {
    "collapsed": true
   },
   "outputs": [],
   "source": [
    "# --------------------------------------- Calculate FCAP Adjusted PB ---------------------------------- #"
   ]
  },
  {
   "cell_type": "code",
   "execution_count": 47,
   "metadata": {
    "collapsed": false
   },
   "outputs": [],
   "source": [
    "filenamePB = 'LZ_GPA_VAL_PB.csv'\n",
    "filenameFCAP = 'LZ_GPA_VAL_A_FCAP.csv'\n",
    "PB = pd.read_csv(path+filenamePB ,infer_datetime_format=True,parse_dates=[0],index_col=0)\n",
    "PB = simpleNormalize(PB)"
   ]
  },
  {
   "cell_type": "code",
   "execution_count": 49,
   "metadata": {
    "collapsed": true
   },
   "outputs": [],
   "source": [
    "adjustedPB = neutralizeFactor(PB , FCAP1, datelist)\n",
    "adjustedPB.index.name = 'Own_Factor_AdjustedPB-1d'\n",
    "adjustedPB.to_csv(path+'Own_Factor_AdjustedPB-1d.csv',na_rep='NaN',date_format='%Y%m%d')"
   ]
  },
  {
   "cell_type": "code",
   "execution_count": 50,
   "metadata": {
    "collapsed": true
   },
   "outputs": [],
   "source": [
    "pb1 = pd.read_csv(path+'Own_Factor_AdjustedPB-1d.csv',infer_datetime_format=True,parse_dates=[0],index_col=0)"
   ]
  },
  {
   "cell_type": "code",
   "execution_count": null,
   "metadata": {
    "collapsed": false
   },
   "outputs": [],
   "source": []
  },
  {
   "cell_type": "code",
   "execution_count": null,
   "metadata": {
    "collapsed": true
   },
   "outputs": [],
   "source": [
    "# --------------------------------------- Calculate  x-days return volatility  ---------------------------------- #"
   ]
  },
  {
   "cell_type": "code",
   "execution_count": 38,
   "metadata": {
    "collapsed": true
   },
   "outputs": [],
   "source": [
    "filenameAdjPrice =  'Own_Factor_AdjustedPriceForward-1d.csv'"
   ]
  },
  {
   "cell_type": "code",
   "execution_count": 43,
   "metadata": {
    "collapsed": true
   },
   "outputs": [],
   "source": [
    "def calReturnVol(period):\n",
    "    AdjPrice = pd.read_csv(path+filenameAdjPrice,infer_datetime_format=True,parse_dates=[0],index_col=0)\n",
    "    returnDF = AdjPrice.pct_change()\n",
    "    newdf = returnDF.rolling(min_periods=20,window=period,center=False).std()\n",
    "    newdf.index.name = 'Own_Factor_Volatility_%dd' % period\n",
    "    newdf.to_csv(path+'Own_Factor_Volatility_%dd.csv' % period,na_rep='NaN',date_format='%Y%m%d')\n",
    "    return newdf "
   ]
  },
  {
   "cell_type": "code",
   "execution_count": 44,
   "metadata": {
    "collapsed": false
   },
   "outputs": [
    {
     "data": {
      "text/html": [
       "<div>\n",
       "<table border=\"1\" class=\"dataframe\">\n",
       "  <thead>\n",
       "    <tr style=\"text-align: right;\">\n",
       "      <th></th>\n",
       "      <th>000005.SZ</th>\n",
       "      <th>600601.SH</th>\n",
       "      <th>600602.SH</th>\n",
       "      <th>600651.SH</th>\n",
       "      <th>600652.SH</th>\n",
       "      <th>600653.SH</th>\n",
       "      <th>600654.SH</th>\n",
       "      <th>600656.SH</th>\n",
       "      <th>000004.SZ</th>\n",
       "      <th>000002.SZ</th>\n",
       "      <th>...</th>\n",
       "      <th>300630.SZ</th>\n",
       "      <th>603178.SH</th>\n",
       "      <th>603833.SH</th>\n",
       "      <th>601228.SH</th>\n",
       "      <th>603041.SH</th>\n",
       "      <th>603303.SH</th>\n",
       "      <th>300635.SZ</th>\n",
       "      <th>300636.SZ</th>\n",
       "      <th>601200.SH</th>\n",
       "      <th>603385.SH</th>\n",
       "    </tr>\n",
       "    <tr>\n",
       "      <th>Own_Factor_Volatility_90d</th>\n",
       "      <th></th>\n",
       "      <th></th>\n",
       "      <th></th>\n",
       "      <th></th>\n",
       "      <th></th>\n",
       "      <th></th>\n",
       "      <th></th>\n",
       "      <th></th>\n",
       "      <th></th>\n",
       "      <th></th>\n",
       "      <th></th>\n",
       "      <th></th>\n",
       "      <th></th>\n",
       "      <th></th>\n",
       "      <th></th>\n",
       "      <th></th>\n",
       "      <th></th>\n",
       "      <th></th>\n",
       "      <th></th>\n",
       "      <th></th>\n",
       "      <th></th>\n",
       "    </tr>\n",
       "  </thead>\n",
       "  <tbody>\n",
       "    <tr>\n",
       "      <th>2017-03-29</th>\n",
       "      <td>0.011565</td>\n",
       "      <td>0.013257</td>\n",
       "      <td>0.012309</td>\n",
       "      <td>0.018094</td>\n",
       "      <td>0.016718</td>\n",
       "      <td>0.012425</td>\n",
       "      <td>0.011211</td>\n",
       "      <td>NaN</td>\n",
       "      <td>0.020133</td>\n",
       "      <td>0.018094</td>\n",
       "      <td>...</td>\n",
       "      <td>NaN</td>\n",
       "      <td>NaN</td>\n",
       "      <td>NaN</td>\n",
       "      <td>NaN</td>\n",
       "      <td>NaN</td>\n",
       "      <td>NaN</td>\n",
       "      <td>NaN</td>\n",
       "      <td>NaN</td>\n",
       "      <td>NaN</td>\n",
       "      <td>NaN</td>\n",
       "    </tr>\n",
       "    <tr>\n",
       "      <th>2017-03-30</th>\n",
       "      <td>0.011815</td>\n",
       "      <td>0.012965</td>\n",
       "      <td>0.012294</td>\n",
       "      <td>0.017998</td>\n",
       "      <td>0.017192</td>\n",
       "      <td>0.012551</td>\n",
       "      <td>0.011199</td>\n",
       "      <td>NaN</td>\n",
       "      <td>0.019801</td>\n",
       "      <td>0.018205</td>\n",
       "      <td>...</td>\n",
       "      <td>NaN</td>\n",
       "      <td>NaN</td>\n",
       "      <td>NaN</td>\n",
       "      <td>NaN</td>\n",
       "      <td>NaN</td>\n",
       "      <td>NaN</td>\n",
       "      <td>NaN</td>\n",
       "      <td>NaN</td>\n",
       "      <td>NaN</td>\n",
       "      <td>NaN</td>\n",
       "    </tr>\n",
       "    <tr>\n",
       "      <th>2017-03-31</th>\n",
       "      <td>0.011882</td>\n",
       "      <td>0.012984</td>\n",
       "      <td>0.012266</td>\n",
       "      <td>0.018072</td>\n",
       "      <td>0.017260</td>\n",
       "      <td>0.012620</td>\n",
       "      <td>0.011224</td>\n",
       "      <td>NaN</td>\n",
       "      <td>0.019882</td>\n",
       "      <td>0.018240</td>\n",
       "      <td>...</td>\n",
       "      <td>NaN</td>\n",
       "      <td>NaN</td>\n",
       "      <td>NaN</td>\n",
       "      <td>NaN</td>\n",
       "      <td>NaN</td>\n",
       "      <td>NaN</td>\n",
       "      <td>NaN</td>\n",
       "      <td>NaN</td>\n",
       "      <td>NaN</td>\n",
       "      <td>NaN</td>\n",
       "    </tr>\n",
       "    <tr>\n",
       "      <th>2017-04-05</th>\n",
       "      <td>0.011945</td>\n",
       "      <td>0.013001</td>\n",
       "      <td>0.012302</td>\n",
       "      <td>0.018105</td>\n",
       "      <td>0.017359</td>\n",
       "      <td>0.012683</td>\n",
       "      <td>0.011233</td>\n",
       "      <td>NaN</td>\n",
       "      <td>0.019941</td>\n",
       "      <td>0.018065</td>\n",
       "      <td>...</td>\n",
       "      <td>NaN</td>\n",
       "      <td>NaN</td>\n",
       "      <td>NaN</td>\n",
       "      <td>NaN</td>\n",
       "      <td>NaN</td>\n",
       "      <td>NaN</td>\n",
       "      <td>NaN</td>\n",
       "      <td>NaN</td>\n",
       "      <td>NaN</td>\n",
       "      <td>NaN</td>\n",
       "    </tr>\n",
       "    <tr>\n",
       "      <th>2017-04-06</th>\n",
       "      <td>0.012014</td>\n",
       "      <td>0.013074</td>\n",
       "      <td>0.012365</td>\n",
       "      <td>0.018178</td>\n",
       "      <td>0.017459</td>\n",
       "      <td>0.012733</td>\n",
       "      <td>0.011241</td>\n",
       "      <td>NaN</td>\n",
       "      <td>0.020056</td>\n",
       "      <td>0.018147</td>\n",
       "      <td>...</td>\n",
       "      <td>NaN</td>\n",
       "      <td>NaN</td>\n",
       "      <td>NaN</td>\n",
       "      <td>NaN</td>\n",
       "      <td>NaN</td>\n",
       "      <td>NaN</td>\n",
       "      <td>NaN</td>\n",
       "      <td>NaN</td>\n",
       "      <td>NaN</td>\n",
       "      <td>NaN</td>\n",
       "    </tr>\n",
       "  </tbody>\n",
       "</table>\n",
       "<p>5 rows × 3262 columns</p>\n",
       "</div>"
      ],
      "text/plain": [
       "                           000005.SZ  600601.SH  600602.SH  600651.SH  \\\n",
       "Own_Factor_Volatility_90d                                               \n",
       "2017-03-29                  0.011565   0.013257   0.012309   0.018094   \n",
       "2017-03-30                  0.011815   0.012965   0.012294   0.017998   \n",
       "2017-03-31                  0.011882   0.012984   0.012266   0.018072   \n",
       "2017-04-05                  0.011945   0.013001   0.012302   0.018105   \n",
       "2017-04-06                  0.012014   0.013074   0.012365   0.018178   \n",
       "\n",
       "                           600652.SH  600653.SH  600654.SH  600656.SH  \\\n",
       "Own_Factor_Volatility_90d                                               \n",
       "2017-03-29                  0.016718   0.012425   0.011211        NaN   \n",
       "2017-03-30                  0.017192   0.012551   0.011199        NaN   \n",
       "2017-03-31                  0.017260   0.012620   0.011224        NaN   \n",
       "2017-04-05                  0.017359   0.012683   0.011233        NaN   \n",
       "2017-04-06                  0.017459   0.012733   0.011241        NaN   \n",
       "\n",
       "                           000004.SZ  000002.SZ    ...      300630.SZ  \\\n",
       "Own_Factor_Volatility_90d                          ...                  \n",
       "2017-03-29                  0.020133   0.018094    ...            NaN   \n",
       "2017-03-30                  0.019801   0.018205    ...            NaN   \n",
       "2017-03-31                  0.019882   0.018240    ...            NaN   \n",
       "2017-04-05                  0.019941   0.018065    ...            NaN   \n",
       "2017-04-06                  0.020056   0.018147    ...            NaN   \n",
       "\n",
       "                           603178.SH  603833.SH  601228.SH  603041.SH  \\\n",
       "Own_Factor_Volatility_90d                                               \n",
       "2017-03-29                       NaN        NaN        NaN        NaN   \n",
       "2017-03-30                       NaN        NaN        NaN        NaN   \n",
       "2017-03-31                       NaN        NaN        NaN        NaN   \n",
       "2017-04-05                       NaN        NaN        NaN        NaN   \n",
       "2017-04-06                       NaN        NaN        NaN        NaN   \n",
       "\n",
       "                           603303.SH  300635.SZ  300636.SZ  601200.SH  \\\n",
       "Own_Factor_Volatility_90d                                               \n",
       "2017-03-29                       NaN        NaN        NaN        NaN   \n",
       "2017-03-30                       NaN        NaN        NaN        NaN   \n",
       "2017-03-31                       NaN        NaN        NaN        NaN   \n",
       "2017-04-05                       NaN        NaN        NaN        NaN   \n",
       "2017-04-06                       NaN        NaN        NaN        NaN   \n",
       "\n",
       "                           603385.SH  \n",
       "Own_Factor_Volatility_90d             \n",
       "2017-03-29                       NaN  \n",
       "2017-03-30                       NaN  \n",
       "2017-03-31                       NaN  \n",
       "2017-04-05                       NaN  \n",
       "2017-04-06                       NaN  \n",
       "\n",
       "[5 rows x 3262 columns]"
      ]
     },
     "execution_count": 44,
     "metadata": {},
     "output_type": "execute_result"
    }
   ],
   "source": [
    "calReturnVol(90).tail()"
   ]
  }
 ],
 "metadata": {
  "kernelspec": {
   "display_name": "Python 2",
   "language": "python",
   "name": "python2"
  },
  "language_info": {
   "codemirror_mode": {
    "name": "ipython",
    "version": 2
   },
   "file_extension": ".py",
   "mimetype": "text/x-python",
   "name": "python",
   "nbconvert_exporter": "python",
   "pygments_lexer": "ipython2",
   "version": "2.7.12"
  }
 },
 "nbformat": 4,
 "nbformat_minor": 2
}
