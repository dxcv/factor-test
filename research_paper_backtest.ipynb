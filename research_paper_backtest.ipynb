{
 "cells": [
  {
   "cell_type": "code",
   "execution_count": 2,
   "metadata": {
    "collapsed": true,
    "deletable": true,
    "editable": true
   },
   "outputs": [],
   "source": [
    "#!/Tsan/bin/python\n",
    "# -*- coding: utf-8 -*-"
   ]
  },
  {
   "cell_type": "code",
   "execution_count": 3,
   "metadata": {
    "collapsed": false,
    "deletable": true,
    "editable": true
   },
   "outputs": [
    {
     "name": "stderr",
     "output_type": "stream",
     "text": [
      "c:\\python27\\lib\\site-packages\\statsmodels\\compat\\pandas.py:56: FutureWarning: The pandas.core.datetools module is deprecated and will be removed in a future version. Please use the pandas.tseries module instead.\n",
      "  from pandas.core import datetools\n"
     ]
    }
   ],
   "source": [
    "# Libraries to use\n",
    "from __future__ import division \n",
    "import numpy as np\n",
    "import pandas as pd\n",
    "import statsmodels.api as sm\n",
    "import matplotlib.pyplot as plt\n",
    "import seaborn as sns\n",
    "from datetime import datetime\n",
    "\n",
    "import mysql.connector \n",
    "import json\n",
    "import collections"
   ]
  },
  {
   "cell_type": "code",
   "execution_count": 4,
   "metadata": {
    "collapsed": true,
    "deletable": true,
    "editable": true
   },
   "outputs": [],
   "source": [
    "import talib"
   ]
  },
  {
   "cell_type": "code",
   "execution_count": 5,
   "metadata": {
    "collapsed": true,
    "deletable": true,
    "editable": true
   },
   "outputs": [],
   "source": [
    "# Import My own library for factor testing\n",
    "from SingleFactorTest import factorFilterFunctions as ff\n",
    "#from config import *"
   ]
  },
  {
   "cell_type": "code",
   "execution_count": 6,
   "metadata": {
    "collapsed": false,
    "deletable": true,
    "editable": true
   },
   "outputs": [],
   "source": [
    "%matplotlib inline\n",
    "%load_ext line_profiler"
   ]
  },
  {
   "cell_type": "code",
   "execution_count": null,
   "metadata": {
    "collapsed": true,
    "deletable": true,
    "editable": true
   },
   "outputs": [],
   "source": []
  },
  {
   "cell_type": "code",
   "execution_count": 6,
   "metadata": {
    "collapsed": true,
    "deletable": true,
    "editable": true
   },
   "outputs": [],
   "source": [
    "# {'600036':u'招商银行','002142':u'宁波银行','601939':u'建设银行','000709':u'河钢股份','000807':u'云铝股份','600111':u'北方稀土',\n",
    "#  '002001':u'新和成','002562':u'兄弟科技','0300121':u'阳谷华泰','600352':u'浙江龙盛','600409':u'三友化工','000636':u'风华高科',\n",
    "#  '000962':u'东方钽业','300228':u'富瑞特装'，'600681':u'百川能源','600789':u'鲁抗医药','002166':u'莱茵生物','002166':u'万华化学',\n",
    "# '000933':u'神火股份','600977':u'中国电影','000802':u'北京文化','600809':u'山西汾酒','600438':u'通威股份','000970':u'中科三环'}"
   ]
  },
  {
   "cell_type": "code",
   "execution_count": 7,
   "metadata": {
    "collapsed": true,
    "deletable": true,
    "editable": true
   },
   "outputs": [],
   "source": [
    "# 股票推荐字典\n",
    "stkdict = {'20170815':['600036','002142','601939'], '20170814':['000709','000807','600111','002001','002562'],\\\n",
    "          '20170810':['300121','600352','600409'], '20170809':['000636','000962'], '20170808':['600803','300228','600681'],\n",
    "          '20170807':['600789','002166','600309'],'20170803':['000933','600977','000802','600809'],\n",
    "          '20170801':['600438'], '20170731':['600438','600111','000970']}"
   ]
  },
  {
   "cell_type": "code",
   "execution_count": 8,
   "metadata": {
    "collapsed": false,
    "deletable": true,
    "editable": true
   },
   "outputs": [],
   "source": [
    "sortedstkdict = collections.OrderedDict(sorted(stkdict.items()))"
   ]
  },
  {
   "cell_type": "code",
   "execution_count": 8,
   "metadata": {
    "collapsed": true,
    "deletable": true,
    "editable": true
   },
   "outputs": [],
   "source": [
    "fileNameClose = 'LZ_CN_STKA_QUOTE_TCLOSE.h5.csv'\n",
    "fileNameOpen = 'LZ_CN_STKA_QUOTE_TOPEN.h5.csv'"
   ]
  },
  {
   "cell_type": "code",
   "execution_count": 7,
   "metadata": {
    "collapsed": true,
    "deletable": true,
    "editable": true
   },
   "outputs": [],
   "source": [
    "path = ff.data_path\n",
    "# Constants\n",
    "startTime =  datetime.strptime('20170731', '%Y%m%d')\n",
    "endTime = datetime.strptime('20170816', '%Y%m%d')"
   ]
  },
  {
   "cell_type": "code",
   "execution_count": 11,
   "metadata": {
    "collapsed": false,
    "deletable": true,
    "editable": true
   },
   "outputs": [],
   "source": [
    "# 开盘价\n",
    "openPrice= pd.read_csv(path+fileNameOpen,infer_datetime_format=True,parse_dates=[0],index_col=0).loc[startTime:endTime]\n",
    "\n",
    "stkList = map(lambda x: x.split('.')[0],openPrice.columns[1:])\n",
    "\n",
    "openPrice = openPrice.iloc[:,:-1]\n",
    "\n",
    "openPrice.columns = stkList "
   ]
  },
  {
   "cell_type": "code",
   "execution_count": 12,
   "metadata": {
    "collapsed": false,
    "deletable": true,
    "editable": true
   },
   "outputs": [],
   "source": [
    "# 收盘价\n",
    "closePrice= pd.read_csv(path+fileNameClose,infer_datetime_format=True,parse_dates=[0],index_col=0).loc[startTime:endTime]\n",
    "\n",
    "stkList = map(lambda x: x.split('.')[0],closePrice.columns[1:])\n",
    "\n",
    "closePrice = closePrice.iloc[:,:-1]\n",
    "\n",
    "closePrice.columns = stkList"
   ]
  },
  {
   "cell_type": "code",
   "execution_count": 13,
   "metadata": {
    "collapsed": false,
    "deletable": true,
    "editable": true
   },
   "outputs": [
    {
     "data": {
      "text/html": [
       "<div>\n",
       "<style>\n",
       "    .dataframe thead tr:only-child th {\n",
       "        text-align: right;\n",
       "    }\n",
       "\n",
       "    .dataframe thead th {\n",
       "        text-align: left;\n",
       "    }\n",
       "\n",
       "    .dataframe tbody tr th {\n",
       "        vertical-align: top;\n",
       "    }\n",
       "</style>\n",
       "<table border=\"1\" class=\"dataframe\">\n",
       "  <thead>\n",
       "    <tr style=\"text-align: right;\">\n",
       "      <th></th>\n",
       "      <th>000005</th>\n",
       "      <th>600601</th>\n",
       "      <th>600602</th>\n",
       "      <th>600651</th>\n",
       "      <th>600652</th>\n",
       "      <th>600653</th>\n",
       "      <th>600654</th>\n",
       "      <th>600656</th>\n",
       "      <th>000004</th>\n",
       "      <th>000002</th>\n",
       "      <th>...</th>\n",
       "      <th>603535</th>\n",
       "      <th>300689</th>\n",
       "      <th>603458</th>\n",
       "      <th>300688</th>\n",
       "      <th>603602</th>\n",
       "      <th>300691</th>\n",
       "      <th>603721</th>\n",
       "      <th>601326</th>\n",
       "      <th>002892</th>\n",
       "      <th>603776</th>\n",
       "    </tr>\n",
       "  </thead>\n",
       "  <tbody>\n",
       "    <tr>\n",
       "      <th>2017-07-31</th>\n",
       "      <td>4.94</td>\n",
       "      <td>3.87</td>\n",
       "      <td>7.16</td>\n",
       "      <td>9.12</td>\n",
       "      <td>9.86</td>\n",
       "      <td>3.26</td>\n",
       "      <td>13.48</td>\n",
       "      <td>NaN</td>\n",
       "      <td>22.31</td>\n",
       "      <td>23.37</td>\n",
       "      <td>...</td>\n",
       "      <td>NaN</td>\n",
       "      <td>NaN</td>\n",
       "      <td>NaN</td>\n",
       "      <td>NaN</td>\n",
       "      <td>NaN</td>\n",
       "      <td>NaN</td>\n",
       "      <td>NaN</td>\n",
       "      <td>NaN</td>\n",
       "      <td>NaN</td>\n",
       "      <td>NaN</td>\n",
       "    </tr>\n",
       "    <tr>\n",
       "      <th>2017-08-01</th>\n",
       "      <td>4.96</td>\n",
       "      <td>3.86</td>\n",
       "      <td>7.22</td>\n",
       "      <td>8.95</td>\n",
       "      <td>10.03</td>\n",
       "      <td>3.26</td>\n",
       "      <td>13.48</td>\n",
       "      <td>NaN</td>\n",
       "      <td>22.36</td>\n",
       "      <td>23.42</td>\n",
       "      <td>...</td>\n",
       "      <td>NaN</td>\n",
       "      <td>NaN</td>\n",
       "      <td>NaN</td>\n",
       "      <td>NaN</td>\n",
       "      <td>NaN</td>\n",
       "      <td>NaN</td>\n",
       "      <td>NaN</td>\n",
       "      <td>NaN</td>\n",
       "      <td>NaN</td>\n",
       "      <td>NaN</td>\n",
       "    </tr>\n",
       "    <tr>\n",
       "      <th>2017-08-02</th>\n",
       "      <td>4.93</td>\n",
       "      <td>3.84</td>\n",
       "      <td>7.00</td>\n",
       "      <td>8.87</td>\n",
       "      <td>10.27</td>\n",
       "      <td>3.26</td>\n",
       "      <td>13.48</td>\n",
       "      <td>NaN</td>\n",
       "      <td>21.85</td>\n",
       "      <td>23.58</td>\n",
       "      <td>...</td>\n",
       "      <td>NaN</td>\n",
       "      <td>NaN</td>\n",
       "      <td>NaN</td>\n",
       "      <td>NaN</td>\n",
       "      <td>NaN</td>\n",
       "      <td>NaN</td>\n",
       "      <td>NaN</td>\n",
       "      <td>NaN</td>\n",
       "      <td>NaN</td>\n",
       "      <td>NaN</td>\n",
       "    </tr>\n",
       "    <tr>\n",
       "      <th>2017-08-03</th>\n",
       "      <td>4.94</td>\n",
       "      <td>3.83</td>\n",
       "      <td>7.70</td>\n",
       "      <td>9.04</td>\n",
       "      <td>10.21</td>\n",
       "      <td>3.26</td>\n",
       "      <td>13.48</td>\n",
       "      <td>NaN</td>\n",
       "      <td>22.22</td>\n",
       "      <td>23.11</td>\n",
       "      <td>...</td>\n",
       "      <td>NaN</td>\n",
       "      <td>NaN</td>\n",
       "      <td>NaN</td>\n",
       "      <td>NaN</td>\n",
       "      <td>NaN</td>\n",
       "      <td>NaN</td>\n",
       "      <td>NaN</td>\n",
       "      <td>NaN</td>\n",
       "      <td>NaN</td>\n",
       "      <td>NaN</td>\n",
       "    </tr>\n",
       "    <tr>\n",
       "      <th>2017-08-04</th>\n",
       "      <td>4.9</td>\n",
       "      <td>3.84</td>\n",
       "      <td>7.72</td>\n",
       "      <td>8.93</td>\n",
       "      <td>9.76</td>\n",
       "      <td>3.26</td>\n",
       "      <td>13.48</td>\n",
       "      <td>NaN</td>\n",
       "      <td>21.88</td>\n",
       "      <td>22.84</td>\n",
       "      <td>...</td>\n",
       "      <td>NaN</td>\n",
       "      <td>NaN</td>\n",
       "      <td>NaN</td>\n",
       "      <td>NaN</td>\n",
       "      <td>NaN</td>\n",
       "      <td>NaN</td>\n",
       "      <td>NaN</td>\n",
       "      <td>NaN</td>\n",
       "      <td>NaN</td>\n",
       "      <td>NaN</td>\n",
       "    </tr>\n",
       "    <tr>\n",
       "      <th>2017-08-07</th>\n",
       "      <td>4.89</td>\n",
       "      <td>3.85</td>\n",
       "      <td>7.62</td>\n",
       "      <td>8.95</td>\n",
       "      <td>9.82</td>\n",
       "      <td>3.26</td>\n",
       "      <td>13.48</td>\n",
       "      <td>NaN</td>\n",
       "      <td>22.00</td>\n",
       "      <td>22.71</td>\n",
       "      <td>...</td>\n",
       "      <td>NaN</td>\n",
       "      <td>NaN</td>\n",
       "      <td>NaN</td>\n",
       "      <td>NaN</td>\n",
       "      <td>NaN</td>\n",
       "      <td>NaN</td>\n",
       "      <td>NaN</td>\n",
       "      <td>NaN</td>\n",
       "      <td>NaN</td>\n",
       "      <td>NaN</td>\n",
       "    </tr>\n",
       "    <tr>\n",
       "      <th>2017-08-08</th>\n",
       "      <td>4.88</td>\n",
       "      <td>3.86</td>\n",
       "      <td>7.59</td>\n",
       "      <td>8.88</td>\n",
       "      <td>9.78</td>\n",
       "      <td>3.26</td>\n",
       "      <td>13.48</td>\n",
       "      <td>NaN</td>\n",
       "      <td>21.91</td>\n",
       "      <td>22.77</td>\n",
       "      <td>...</td>\n",
       "      <td>21.84</td>\n",
       "      <td>NaN</td>\n",
       "      <td>NaN</td>\n",
       "      <td>NaN</td>\n",
       "      <td>NaN</td>\n",
       "      <td>NaN</td>\n",
       "      <td>NaN</td>\n",
       "      <td>NaN</td>\n",
       "      <td>NaN</td>\n",
       "      <td>NaN</td>\n",
       "    </tr>\n",
       "    <tr>\n",
       "      <th>2017-08-09</th>\n",
       "      <td>4.88</td>\n",
       "      <td>3.86</td>\n",
       "      <td>7.57</td>\n",
       "      <td>8.89</td>\n",
       "      <td>9.75</td>\n",
       "      <td>3.26</td>\n",
       "      <td>13.48</td>\n",
       "      <td>NaN</td>\n",
       "      <td>22.17</td>\n",
       "      <td>22.95</td>\n",
       "      <td>...</td>\n",
       "      <td>24.02</td>\n",
       "      <td>20.72</td>\n",
       "      <td>42.28</td>\n",
       "      <td>NaN</td>\n",
       "      <td>NaN</td>\n",
       "      <td>NaN</td>\n",
       "      <td>NaN</td>\n",
       "      <td>NaN</td>\n",
       "      <td>NaN</td>\n",
       "      <td>NaN</td>\n",
       "    </tr>\n",
       "    <tr>\n",
       "      <th>2017-08-10</th>\n",
       "      <td>4.83</td>\n",
       "      <td>3.80</td>\n",
       "      <td>7.87</td>\n",
       "      <td>8.69</td>\n",
       "      <td>9.58</td>\n",
       "      <td>3.26</td>\n",
       "      <td>13.48</td>\n",
       "      <td>NaN</td>\n",
       "      <td>21.80</td>\n",
       "      <td>22.80</td>\n",
       "      <td>...</td>\n",
       "      <td>26.42</td>\n",
       "      <td>22.79</td>\n",
       "      <td>46.51</td>\n",
       "      <td>15.48</td>\n",
       "      <td>21.86</td>\n",
       "      <td>NaN</td>\n",
       "      <td>NaN</td>\n",
       "      <td>NaN</td>\n",
       "      <td>NaN</td>\n",
       "      <td>NaN</td>\n",
       "    </tr>\n",
       "    <tr>\n",
       "      <th>2017-08-11</th>\n",
       "      <td>4.76</td>\n",
       "      <td>3.71</td>\n",
       "      <td>7.92</td>\n",
       "      <td>8.55</td>\n",
       "      <td>9.55</td>\n",
       "      <td>3.26</td>\n",
       "      <td>13.48</td>\n",
       "      <td>NaN</td>\n",
       "      <td>22.01</td>\n",
       "      <td>22.02</td>\n",
       "      <td>...</td>\n",
       "      <td>29.06</td>\n",
       "      <td>25.07</td>\n",
       "      <td>50.60</td>\n",
       "      <td>17.03</td>\n",
       "      <td>24.05</td>\n",
       "      <td>22.98</td>\n",
       "      <td>10.15</td>\n",
       "      <td>NaN</td>\n",
       "      <td>NaN</td>\n",
       "      <td>NaN</td>\n",
       "    </tr>\n",
       "    <tr>\n",
       "      <th>2017-08-14</th>\n",
       "      <td>4.8</td>\n",
       "      <td>3.78</td>\n",
       "      <td>8.15</td>\n",
       "      <td>8.65</td>\n",
       "      <td>9.77</td>\n",
       "      <td>3.26</td>\n",
       "      <td>13.48</td>\n",
       "      <td>NaN</td>\n",
       "      <td>22.18</td>\n",
       "      <td>21.95</td>\n",
       "      <td>...</td>\n",
       "      <td>28.86</td>\n",
       "      <td>27.58</td>\n",
       "      <td>47.37</td>\n",
       "      <td>18.73</td>\n",
       "      <td>26.46</td>\n",
       "      <td>25.28</td>\n",
       "      <td>11.17</td>\n",
       "      <td>NaN</td>\n",
       "      <td>NaN</td>\n",
       "      <td>NaN</td>\n",
       "    </tr>\n",
       "    <tr>\n",
       "      <th>2017-08-15</th>\n",
       "      <td>4.81</td>\n",
       "      <td>3.78</td>\n",
       "      <td>8.11</td>\n",
       "      <td>8.66</td>\n",
       "      <td>10.11</td>\n",
       "      <td>3.26</td>\n",
       "      <td>13.48</td>\n",
       "      <td>NaN</td>\n",
       "      <td>22.22</td>\n",
       "      <td>22.02</td>\n",
       "      <td>...</td>\n",
       "      <td>30.00</td>\n",
       "      <td>30.34</td>\n",
       "      <td>49.30</td>\n",
       "      <td>20.60</td>\n",
       "      <td>29.11</td>\n",
       "      <td>27.81</td>\n",
       "      <td>12.29</td>\n",
       "      <td>NaN</td>\n",
       "      <td>NaN</td>\n",
       "      <td>NaN</td>\n",
       "    </tr>\n",
       "    <tr>\n",
       "      <th>2017-08-16</th>\n",
       "      <td>4.82</td>\n",
       "      <td>3.83</td>\n",
       "      <td>8.10</td>\n",
       "      <td>8.75</td>\n",
       "      <td>10.19</td>\n",
       "      <td>3.26</td>\n",
       "      <td>13.48</td>\n",
       "      <td>NaN</td>\n",
       "      <td>22.66</td>\n",
       "      <td>21.86</td>\n",
       "      <td>...</td>\n",
       "      <td>29.75</td>\n",
       "      <td>33.37</td>\n",
       "      <td>48.83</td>\n",
       "      <td>22.66</td>\n",
       "      <td>32.02</td>\n",
       "      <td>30.59</td>\n",
       "      <td>13.52</td>\n",
       "      <td>3.37</td>\n",
       "      <td>NaN</td>\n",
       "      <td>NaN</td>\n",
       "    </tr>\n",
       "  </tbody>\n",
       "</table>\n",
       "<p>13 rows × 3426 columns</p>\n",
       "</div>"
      ],
      "text/plain": [
       "           000005  600601  600602  600651  600652  600653  600654  600656  \\\n",
       "2017-07-31   4.94    3.87    7.16    9.12    9.86    3.26   13.48     NaN   \n",
       "2017-08-01   4.96    3.86    7.22    8.95   10.03    3.26   13.48     NaN   \n",
       "2017-08-02   4.93    3.84    7.00    8.87   10.27    3.26   13.48     NaN   \n",
       "2017-08-03   4.94    3.83    7.70    9.04   10.21    3.26   13.48     NaN   \n",
       "2017-08-04    4.9    3.84    7.72    8.93    9.76    3.26   13.48     NaN   \n",
       "2017-08-07   4.89    3.85    7.62    8.95    9.82    3.26   13.48     NaN   \n",
       "2017-08-08   4.88    3.86    7.59    8.88    9.78    3.26   13.48     NaN   \n",
       "2017-08-09   4.88    3.86    7.57    8.89    9.75    3.26   13.48     NaN   \n",
       "2017-08-10   4.83    3.80    7.87    8.69    9.58    3.26   13.48     NaN   \n",
       "2017-08-11   4.76    3.71    7.92    8.55    9.55    3.26   13.48     NaN   \n",
       "2017-08-14    4.8    3.78    8.15    8.65    9.77    3.26   13.48     NaN   \n",
       "2017-08-15   4.81    3.78    8.11    8.66   10.11    3.26   13.48     NaN   \n",
       "2017-08-16   4.82    3.83    8.10    8.75   10.19    3.26   13.48     NaN   \n",
       "\n",
       "            000004  000002   ...    603535  300689  603458  300688  603602  \\\n",
       "2017-07-31   22.31   23.37   ...       NaN     NaN     NaN     NaN     NaN   \n",
       "2017-08-01   22.36   23.42   ...       NaN     NaN     NaN     NaN     NaN   \n",
       "2017-08-02   21.85   23.58   ...       NaN     NaN     NaN     NaN     NaN   \n",
       "2017-08-03   22.22   23.11   ...       NaN     NaN     NaN     NaN     NaN   \n",
       "2017-08-04   21.88   22.84   ...       NaN     NaN     NaN     NaN     NaN   \n",
       "2017-08-07   22.00   22.71   ...       NaN     NaN     NaN     NaN     NaN   \n",
       "2017-08-08   21.91   22.77   ...     21.84     NaN     NaN     NaN     NaN   \n",
       "2017-08-09   22.17   22.95   ...     24.02   20.72   42.28     NaN     NaN   \n",
       "2017-08-10   21.80   22.80   ...     26.42   22.79   46.51   15.48   21.86   \n",
       "2017-08-11   22.01   22.02   ...     29.06   25.07   50.60   17.03   24.05   \n",
       "2017-08-14   22.18   21.95   ...     28.86   27.58   47.37   18.73   26.46   \n",
       "2017-08-15   22.22   22.02   ...     30.00   30.34   49.30   20.60   29.11   \n",
       "2017-08-16   22.66   21.86   ...     29.75   33.37   48.83   22.66   32.02   \n",
       "\n",
       "            300691  603721  601326  002892  603776  \n",
       "2017-07-31     NaN     NaN     NaN     NaN     NaN  \n",
       "2017-08-01     NaN     NaN     NaN     NaN     NaN  \n",
       "2017-08-02     NaN     NaN     NaN     NaN     NaN  \n",
       "2017-08-03     NaN     NaN     NaN     NaN     NaN  \n",
       "2017-08-04     NaN     NaN     NaN     NaN     NaN  \n",
       "2017-08-07     NaN     NaN     NaN     NaN     NaN  \n",
       "2017-08-08     NaN     NaN     NaN     NaN     NaN  \n",
       "2017-08-09     NaN     NaN     NaN     NaN     NaN  \n",
       "2017-08-10     NaN     NaN     NaN     NaN     NaN  \n",
       "2017-08-11   22.98   10.15     NaN     NaN     NaN  \n",
       "2017-08-14   25.28   11.17     NaN     NaN     NaN  \n",
       "2017-08-15   27.81   12.29     NaN     NaN     NaN  \n",
       "2017-08-16   30.59   13.52    3.37     NaN     NaN  \n",
       "\n",
       "[13 rows x 3426 columns]"
      ]
     },
     "execution_count": 13,
     "metadata": {},
     "output_type": "execute_result"
    }
   ],
   "source": [
    "closePrice"
   ]
  },
  {
   "cell_type": "code",
   "execution_count": 14,
   "metadata": {
    "collapsed": false,
    "deletable": true,
    "editable": true
   },
   "outputs": [
    {
     "name": "stdout",
     "output_type": "stream",
     "text": [
      "20170731\n",
      "20170801\n",
      "20170803\n",
      "20170807\n",
      "20170808\n",
      "20170809\n",
      "20170810\n",
      "20170814\n",
      "20170815\n"
     ]
    }
   ],
   "source": [
    "InitiCap = 100000  # 初始资金\n",
    "capital = InitiCap  \n",
    "feeRate = 0.0003  # 手续费+冲击成本\n",
    "stampTaxRate = 0.001  # 印花税\n",
    "buyList = []\n",
    "availableCash = {}  # 每天的现金流量\n",
    "# 生成购买的股票池\n",
    "for key,item in sortedstkdict.iteritems():\n",
    "    print key\n",
    "    date = datetime.strptime(key, '%Y%m%d')\n",
    "    totalCostToday = 0  # 当天买入的所有股票的成本\n",
    "    for stk in item:        \n",
    "        buyPrice = round(openPrice.loc[date][stk],2)\n",
    "        amount = 100\n",
    "        cost = round(buyPrice*amount*(1+feeRate),2)\n",
    "        buyList.append([date,stk,buyPrice,amount,cost,1]) # 日期，股票代码，购买价格，购买数量，总cost,方向\n",
    "        totalCostToday+= cost\n",
    "    assert capital > totalCostToday\n",
    "    capital  = capital  - totalCostToday\n",
    "    availableCash[date] = capital  # 买入股票后剩下的资金"
   ]
  },
  {
   "cell_type": "code",
   "execution_count": null,
   "metadata": {
    "collapsed": false,
    "deletable": true,
    "editable": true
   },
   "outputs": [],
   "source": []
  },
  {
   "cell_type": "code",
   "execution_count": 15,
   "metadata": {
    "collapsed": false,
    "deletable": true,
    "editable": true
   },
   "outputs": [
    {
     "data": {
      "text/plain": [
       "{datetime.datetime(2017, 7, 31, 0, 0): 95882.77,\n",
       " datetime.datetime(2017, 8, 1, 0, 0): 95158.55,\n",
       " datetime.datetime(2017, 8, 3, 0, 0): 86145.85,\n",
       " datetime.datetime(2017, 8, 7, 0, 0): 80668.20000000001,\n",
       " datetime.datetime(2017, 8, 8, 0, 0): 76512.95000000001,\n",
       " datetime.datetime(2017, 8, 9, 0, 0): 74508.35,\n",
       " datetime.datetime(2017, 8, 10, 0, 0): 70507.15000000001,\n",
       " datetime.datetime(2017, 8, 14, 0, 0): 63355.00000000001,\n",
       " datetime.datetime(2017, 8, 15, 0, 0): 58697.61000000001}"
      ]
     },
     "execution_count": 15,
     "metadata": {},
     "output_type": "execute_result"
    }
   ],
   "source": [
    "availableCash"
   ]
  },
  {
   "cell_type": "code",
   "execution_count": 16,
   "metadata": {
    "collapsed": false,
    "deletable": true,
    "editable": true
   },
   "outputs": [
    {
     "data": {
      "text/plain": [
       "DatetimeIndex(['2017-07-31', '2017-08-01', '2017-08-02', '2017-08-03',\n",
       "               '2017-08-04', '2017-08-07', '2017-08-08', '2017-08-09',\n",
       "               '2017-08-10', '2017-08-11', '2017-08-14', '2017-08-15'],\n",
       "              dtype='datetime64[ns]', freq=None)"
      ]
     },
     "execution_count": 16,
     "metadata": {},
     "output_type": "execute_result"
    }
   ],
   "source": [
    "dateList = sorted([datetime.strptime(key, '%Y%m%d') for key in stkdict.keys()])\n",
    "\n",
    "dateList = closePrice.loc[dateList[0]:dateList[-1]].index\n",
    "\n",
    "dateList"
   ]
  },
  {
   "cell_type": "code",
   "execution_count": 17,
   "metadata": {
    "collapsed": false,
    "deletable": true,
    "editable": true
   },
   "outputs": [
    {
     "data": {
      "text/plain": [
       "{datetime.datetime(2017, 7, 31, 0, 0): 95882.77,\n",
       " datetime.datetime(2017, 8, 1, 0, 0): 95158.55,\n",
       " datetime.datetime(2017, 8, 3, 0, 0): 86145.85,\n",
       " datetime.datetime(2017, 8, 7, 0, 0): 80668.20000000001,\n",
       " datetime.datetime(2017, 8, 8, 0, 0): 76512.95000000001,\n",
       " datetime.datetime(2017, 8, 9, 0, 0): 74508.35,\n",
       " datetime.datetime(2017, 8, 10, 0, 0): 70507.15000000001,\n",
       " datetime.datetime(2017, 8, 14, 0, 0): 63355.00000000001,\n",
       " datetime.datetime(2017, 8, 15, 0, 0): 58697.61000000001}"
      ]
     },
     "execution_count": 17,
     "metadata": {},
     "output_type": "execute_result"
    }
   ],
   "source": [
    "availableCash"
   ]
  },
  {
   "cell_type": "code",
   "execution_count": 18,
   "metadata": {
    "collapsed": false,
    "deletable": true,
    "editable": true
   },
   "outputs": [
    {
     "data": {
      "text/plain": [
       "2017-07-31    95882.77\n",
       "2017-08-01    95158.55\n",
       "2017-08-02    95158.55\n",
       "2017-08-03    86145.85\n",
       "2017-08-04    86145.85\n",
       "2017-08-07    80668.20\n",
       "2017-08-08    76512.95\n",
       "2017-08-09    74508.35\n",
       "2017-08-10    70507.15\n",
       "2017-08-11    70507.15\n",
       "2017-08-14    63355.00\n",
       "2017-08-15    58697.61\n",
       "dtype: float64"
      ]
     },
     "execution_count": 18,
     "metadata": {},
     "output_type": "execute_result"
    }
   ],
   "source": [
    "availableCashSeries = pd.Series(index = dateList,data = availableCash )\n",
    "\n",
    "availableCashSeries = availableCashSeries.ffill()\n",
    "\n",
    "availableCashSeries"
   ]
  },
  {
   "cell_type": "code",
   "execution_count": 19,
   "metadata": {
    "collapsed": false,
    "deletable": true,
    "editable": true
   },
   "outputs": [
    {
     "data": {
      "text/plain": [
       "2017-07-31    95882.77\n",
       "2017-08-01    95158.55\n",
       "2017-08-02    95158.55\n",
       "2017-08-03    86145.85\n",
       "2017-08-04    86145.85\n",
       "2017-08-07    80668.20\n",
       "2017-08-08    76512.95\n",
       "2017-08-09    74508.35\n",
       "2017-08-10    70507.15\n",
       "2017-08-11    70507.15\n",
       "2017-08-14    63355.00\n",
       "2017-08-15    58697.61\n",
       "dtype: float64"
      ]
     },
     "execution_count": 19,
     "metadata": {},
     "output_type": "execute_result"
    }
   ],
   "source": [
    "availableCashSeries"
   ]
  },
  {
   "cell_type": "code",
   "execution_count": 20,
   "metadata": {
    "collapsed": false,
    "deletable": true,
    "editable": true
   },
   "outputs": [
    {
     "data": {
      "text/plain": [
       "[[datetime.datetime(2017, 7, 31, 0, 0), '600438', 6.5, 100, 650.19, 1],\n",
       " [datetime.datetime(2017, 7, 31, 0, 0), '600111', 17.1, 100, 1710.51, 1],\n",
       " [datetime.datetime(2017, 7, 31, 0, 0), '000970', 17.56, 100, 1756.53, 1],\n",
       " [datetime.datetime(2017, 8, 1, 0, 0), '600438', 7.24, 100, 724.22, 1],\n",
       " [datetime.datetime(2017, 8, 3, 0, 0), '000933', 11.71, 100, 1171.35, 1],\n",
       " [datetime.datetime(2017, 8, 3, 0, 0), '600977', 18.08, 100, 1808.54, 1],\n",
       " [datetime.datetime(2017, 8, 3, 0, 0), '000802', 19.07, 100, 1907.57, 1],\n",
       " [datetime.datetime(2017, 8, 3, 0, 0), '600809', 41.24, 100, 4125.24, 1],\n",
       " [datetime.datetime(2017, 8, 7, 0, 0), '600789', 8.95, 100, 895.27, 1],\n",
       " [datetime.datetime(2017, 8, 7, 0, 0), '002166', 11.5, 100, 1150.35, 1],\n",
       " [datetime.datetime(2017, 8, 7, 0, 0), '600309', 34.31, 100, 3432.03, 1],\n",
       " [datetime.datetime(2017, 8, 8, 0, 0), '600803', 13.91, 100, 1391.42, 1],\n",
       " [datetime.datetime(2017, 8, 8, 0, 0), '300228', 11.18, 100, 1118.34, 1],\n",
       " [datetime.datetime(2017, 8, 8, 0, 0), '600681', 16.45, 100, 1645.49, 1],\n",
       " [datetime.datetime(2017, 8, 9, 0, 0), '000636', 8.92, 100, 892.27, 1],\n",
       " [datetime.datetime(2017, 8, 9, 0, 0), '000962', 11.12, 100, 1112.33, 1],\n",
       " [datetime.datetime(2017, 8, 10, 0, 0), '300121', 15.89, 100, 1589.48, 1],\n",
       " [datetime.datetime(2017, 8, 10, 0, 0), '600352', 11.14, 100, 1114.33, 1],\n",
       " [datetime.datetime(2017, 8, 10, 0, 0), '600409', 12.97, 100, 1297.39, 1],\n",
       " [datetime.datetime(2017, 8, 14, 0, 0), '000709', 4.66, 100, 466.14, 1],\n",
       " [datetime.datetime(2017, 8, 14, 0, 0), '000807', 11.85, 100, 1185.36, 1],\n",
       " [datetime.datetime(2017, 8, 14, 0, 0), '600111', 18.4, 100, 1840.55, 1],\n",
       " [datetime.datetime(2017, 8, 14, 0, 0), '002001', 20.59, 100, 2059.62, 1],\n",
       " [datetime.datetime(2017, 8, 14, 0, 0), '002562', 16.0, 100, 1600.48, 1],\n",
       " [datetime.datetime(2017, 8, 15, 0, 0), '600036', 24.8, 100, 2480.74, 1],\n",
       " [datetime.datetime(2017, 8, 15, 0, 0), '002142', 15.12, 100, 1512.45, 1],\n",
       " [datetime.datetime(2017, 8, 15, 0, 0), '601939', 6.64, 100, 664.2, 1]]"
      ]
     },
     "execution_count": 20,
     "metadata": {},
     "output_type": "execute_result"
    }
   ],
   "source": [
    "buyList"
   ]
  },
  {
   "cell_type": "code",
   "execution_count": 21,
   "metadata": {
    "collapsed": false,
    "deletable": true,
    "editable": true
   },
   "outputs": [],
   "source": [
    "# 简单回测\n",
    "cutwinthreshold = 0.05\n",
    "cutlossthreshold  = -0.05\n",
    "pnldict = {}\n",
    "sellList = []\n",
    "for tradeitem in buyList:\n",
    "    pnl = (closePrice.loc[tradeitem[0]:][tradeitem[1]] - tradeitem[2]) / tradeitem[2]  # 计算每天的pnl\n",
    "    cutwin = pnl[pnl >= cutwinthreshold]\n",
    "    cutloss = pnl[pnl <= cutlossthreshold]\n",
    "    if len(cutwin) > 0:    # 如果达到止盈线，则按当天收盘价止盈\n",
    "        pnldict[tradeitem[1]] = round(cutwin .iloc[0],2)\n",
    "        selldate = cutwin.index[0]\n",
    "        sellPrice = closePrice.loc[selldate][tradeitem[1]]\n",
    "        cost = round(sellPrice*tradeitem[3]*(1-stampTaxRate),2)\n",
    "        sellList.append([selldate,tradeitem[1],round(sellPrice,2),tradeitem[3],cost,-1]) # 卖出list的格式与买入相同\n",
    "        availableCashSeries.loc[selldate:]+= cost   # 记录到资金账户里\n",
    "    elif  len(cutloss) > 0:     #  反之则止损\n",
    "        pnldict[tradeitem[1]] = round(cutloss .iloc[0],2)\n",
    "        selldate = cutloss.index[0]\n",
    "        sellPrice = closePrice.loc[selldate][tradeitem[1]]\n",
    "        cost = round(sellPrice*tradeitem[3]*(1-stampTaxRate),2)\n",
    "        sellList.append([selldate,tradeitem[1],round(sellPrice,2),tradeitem[3],cost,-1]) # 卖出list的格式与买入相同\n",
    "        availableCashSeries.loc[selldate:]+= cost \n",
    "    else:                                   # 没有达到止盈止损线的情况下，按照倒数第二天的收盘价计算pnl\n",
    "        pnldict[tradeitem[1]] = round(pnl.iloc[-2],2)"
   ]
  },
  {
   "cell_type": "code",
   "execution_count": 22,
   "metadata": {
    "collapsed": false,
    "deletable": true,
    "editable": true
   },
   "outputs": [
    {
     "data": {
      "text/plain": [
       "[[Timestamp('2017-07-31 00:00:00'), '600438', 7.11, 100, 710.29, -1],\n",
       " [Timestamp('2017-07-31 00:00:00'), '600111', 18.61, 100, 1859.14, -1],\n",
       " [Timestamp('2017-08-09 00:00:00'), '000970', 18.78, 100, 1876.12, -1],\n",
       " [Timestamp('2017-08-04 00:00:00'), '000933', 12.35, 100, 1233.77, -1],\n",
       " [Timestamp('2017-08-04 00:00:00'), '000802', 20.74, 100, 2071.93, -1],\n",
       " [Timestamp('2017-08-07 00:00:00'), '600809', 43.99, 100, 4394.6, -1],\n",
       " [Timestamp('2017-08-09 00:00:00'), '600789', 9.43, 100, 942.06, -1],\n",
       " [Timestamp('2017-08-08 00:00:00'), '002166', 12.11, 100, 1209.79, -1],\n",
       " [Timestamp('2017-08-11 00:00:00'), '600309', 31.44, 100, 3140.86, -1],\n",
       " [Timestamp('2017-08-14 00:00:00'), '600803', 14.84, 100, 1482.52, -1],\n",
       " [Timestamp('2017-08-10 00:00:00'), '000636', 9.51, 100, 950.05, -1],\n",
       " [Timestamp('2017-08-14 00:00:00'), '000962', 10.54, 100, 1052.95, -1],\n",
       " [Timestamp('2017-08-11 00:00:00'), '300121', 14.75, 100, 1473.53, -1],\n",
       " [Timestamp('2017-08-11 00:00:00'), '600352', 10.51, 100, 1049.95, -1],\n",
       " [Timestamp('2017-08-11 00:00:00'), '600409', 11.89, 100, 1187.81, -1],\n",
       " [Timestamp('2017-08-14 00:00:00'), '600111', 20.0, 100, 1998.0, -1],\n",
       " [Timestamp('2017-08-15 00:00:00'), '002562', 16.98, 100, 1696.3, -1]]"
      ]
     },
     "execution_count": 22,
     "metadata": {},
     "output_type": "execute_result"
    }
   ],
   "source": [
    "sellList"
   ]
  },
  {
   "cell_type": "code",
   "execution_count": 23,
   "metadata": {
    "collapsed": true,
    "deletable": true,
    "editable": true
   },
   "outputs": [],
   "source": [
    "holdingList = list(set([i[1] for i in buyList]) - set([i[1] for i in sellList]))"
   ]
  },
  {
   "cell_type": "code",
   "execution_count": 24,
   "metadata": {
    "collapsed": false,
    "deletable": true,
    "editable": true
   },
   "outputs": [
    {
     "data": {
      "text/plain": [
       "['000807',\n",
       " '600681',\n",
       " '600036',\n",
       " '000709',\n",
       " '002001',\n",
       " '600977',\n",
       " '002142',\n",
       " '601939',\n",
       " '300228']"
      ]
     },
     "execution_count": 24,
     "metadata": {},
     "output_type": "execute_result"
    }
   ],
   "source": [
    "holdingList"
   ]
  },
  {
   "cell_type": "code",
   "execution_count": null,
   "metadata": {
    "collapsed": false,
    "deletable": true,
    "editable": true
   },
   "outputs": [],
   "source": []
  },
  {
   "cell_type": "code",
   "execution_count": 25,
   "metadata": {
    "collapsed": false,
    "deletable": true,
    "editable": true
   },
   "outputs": [
    {
     "data": {
      "text/plain": [
       "{'000709': datetime.datetime(2017, 8, 14, 0, 0),\n",
       " '000807': datetime.datetime(2017, 8, 14, 0, 0),\n",
       " '002001': datetime.datetime(2017, 8, 14, 0, 0),\n",
       " '002142': datetime.datetime(2017, 8, 15, 0, 0),\n",
       " '300228': datetime.datetime(2017, 8, 8, 0, 0),\n",
       " '600036': datetime.datetime(2017, 8, 15, 0, 0),\n",
       " '600681': datetime.datetime(2017, 8, 8, 0, 0),\n",
       " '600977': datetime.datetime(2017, 8, 3, 0, 0),\n",
       " '601939': datetime.datetime(2017, 8, 15, 0, 0)}"
      ]
     },
     "execution_count": 25,
     "metadata": {},
     "output_type": "execute_result"
    }
   ],
   "source": [
    "selldatepair = {i[1]:i[0] for i in buyList if i[1] in holdingList}\n",
    "selldatepair"
   ]
  },
  {
   "cell_type": "code",
   "execution_count": 26,
   "metadata": {
    "collapsed": false,
    "deletable": true,
    "editable": true
   },
   "outputs": [],
   "source": [
    "tempo = closePrice[holdingList]"
   ]
  },
  {
   "cell_type": "code",
   "execution_count": 27,
   "metadata": {
    "collapsed": false,
    "deletable": true,
    "editable": true
   },
   "outputs": [
    {
     "data": {
      "text/html": [
       "<div>\n",
       "<style>\n",
       "    .dataframe thead tr:only-child th {\n",
       "        text-align: right;\n",
       "    }\n",
       "\n",
       "    .dataframe thead th {\n",
       "        text-align: left;\n",
       "    }\n",
       "\n",
       "    .dataframe tbody tr th {\n",
       "        vertical-align: top;\n",
       "    }\n",
       "</style>\n",
       "<table border=\"1\" class=\"dataframe\">\n",
       "  <thead>\n",
       "    <tr style=\"text-align: right;\">\n",
       "      <th></th>\n",
       "      <th>000807</th>\n",
       "      <th>600681</th>\n",
       "      <th>600036</th>\n",
       "      <th>000709</th>\n",
       "      <th>002001</th>\n",
       "      <th>600977</th>\n",
       "      <th>002142</th>\n",
       "      <th>601939</th>\n",
       "      <th>300228</th>\n",
       "    </tr>\n",
       "  </thead>\n",
       "  <tbody>\n",
       "    <tr>\n",
       "      <th>2017-07-31</th>\n",
       "      <td>0.0</td>\n",
       "      <td>0.0</td>\n",
       "      <td>0.0</td>\n",
       "      <td>0.0</td>\n",
       "      <td>0.0</td>\n",
       "      <td>0.0</td>\n",
       "      <td>0.0</td>\n",
       "      <td>0.0</td>\n",
       "      <td>0.0</td>\n",
       "    </tr>\n",
       "    <tr>\n",
       "      <th>2017-08-01</th>\n",
       "      <td>0.0</td>\n",
       "      <td>0.0</td>\n",
       "      <td>0.0</td>\n",
       "      <td>0.0</td>\n",
       "      <td>0.0</td>\n",
       "      <td>0.0</td>\n",
       "      <td>0.0</td>\n",
       "      <td>0.0</td>\n",
       "      <td>0.0</td>\n",
       "    </tr>\n",
       "    <tr>\n",
       "      <th>2017-08-02</th>\n",
       "      <td>0.0</td>\n",
       "      <td>0.0</td>\n",
       "      <td>0.0</td>\n",
       "      <td>0.0</td>\n",
       "      <td>0.0</td>\n",
       "      <td>0.0</td>\n",
       "      <td>0.0</td>\n",
       "      <td>0.0</td>\n",
       "      <td>0.0</td>\n",
       "    </tr>\n",
       "    <tr>\n",
       "      <th>2017-08-03</th>\n",
       "      <td>0.0</td>\n",
       "      <td>0.0</td>\n",
       "      <td>0.0</td>\n",
       "      <td>0.0</td>\n",
       "      <td>0.0</td>\n",
       "      <td>100.0</td>\n",
       "      <td>0.0</td>\n",
       "      <td>0.0</td>\n",
       "      <td>0.0</td>\n",
       "    </tr>\n",
       "    <tr>\n",
       "      <th>2017-08-04</th>\n",
       "      <td>0.0</td>\n",
       "      <td>0.0</td>\n",
       "      <td>0.0</td>\n",
       "      <td>0.0</td>\n",
       "      <td>0.0</td>\n",
       "      <td>100.0</td>\n",
       "      <td>0.0</td>\n",
       "      <td>0.0</td>\n",
       "      <td>0.0</td>\n",
       "    </tr>\n",
       "    <tr>\n",
       "      <th>2017-08-07</th>\n",
       "      <td>0.0</td>\n",
       "      <td>0.0</td>\n",
       "      <td>0.0</td>\n",
       "      <td>0.0</td>\n",
       "      <td>0.0</td>\n",
       "      <td>100.0</td>\n",
       "      <td>0.0</td>\n",
       "      <td>0.0</td>\n",
       "      <td>0.0</td>\n",
       "    </tr>\n",
       "    <tr>\n",
       "      <th>2017-08-08</th>\n",
       "      <td>0.0</td>\n",
       "      <td>100.0</td>\n",
       "      <td>0.0</td>\n",
       "      <td>0.0</td>\n",
       "      <td>0.0</td>\n",
       "      <td>100.0</td>\n",
       "      <td>0.0</td>\n",
       "      <td>0.0</td>\n",
       "      <td>100.0</td>\n",
       "    </tr>\n",
       "    <tr>\n",
       "      <th>2017-08-09</th>\n",
       "      <td>0.0</td>\n",
       "      <td>100.0</td>\n",
       "      <td>0.0</td>\n",
       "      <td>0.0</td>\n",
       "      <td>0.0</td>\n",
       "      <td>100.0</td>\n",
       "      <td>0.0</td>\n",
       "      <td>0.0</td>\n",
       "      <td>100.0</td>\n",
       "    </tr>\n",
       "    <tr>\n",
       "      <th>2017-08-10</th>\n",
       "      <td>0.0</td>\n",
       "      <td>100.0</td>\n",
       "      <td>0.0</td>\n",
       "      <td>0.0</td>\n",
       "      <td>0.0</td>\n",
       "      <td>100.0</td>\n",
       "      <td>0.0</td>\n",
       "      <td>0.0</td>\n",
       "      <td>100.0</td>\n",
       "    </tr>\n",
       "    <tr>\n",
       "      <th>2017-08-11</th>\n",
       "      <td>0.0</td>\n",
       "      <td>100.0</td>\n",
       "      <td>0.0</td>\n",
       "      <td>0.0</td>\n",
       "      <td>0.0</td>\n",
       "      <td>100.0</td>\n",
       "      <td>0.0</td>\n",
       "      <td>0.0</td>\n",
       "      <td>100.0</td>\n",
       "    </tr>\n",
       "    <tr>\n",
       "      <th>2017-08-14</th>\n",
       "      <td>100.0</td>\n",
       "      <td>100.0</td>\n",
       "      <td>0.0</td>\n",
       "      <td>100.0</td>\n",
       "      <td>100.0</td>\n",
       "      <td>100.0</td>\n",
       "      <td>0.0</td>\n",
       "      <td>0.0</td>\n",
       "      <td>100.0</td>\n",
       "    </tr>\n",
       "    <tr>\n",
       "      <th>2017-08-15</th>\n",
       "      <td>100.0</td>\n",
       "      <td>100.0</td>\n",
       "      <td>100.0</td>\n",
       "      <td>100.0</td>\n",
       "      <td>100.0</td>\n",
       "      <td>100.0</td>\n",
       "      <td>100.0</td>\n",
       "      <td>100.0</td>\n",
       "      <td>100.0</td>\n",
       "    </tr>\n",
       "    <tr>\n",
       "      <th>2017-08-16</th>\n",
       "      <td>100.0</td>\n",
       "      <td>100.0</td>\n",
       "      <td>100.0</td>\n",
       "      <td>100.0</td>\n",
       "      <td>100.0</td>\n",
       "      <td>100.0</td>\n",
       "      <td>100.0</td>\n",
       "      <td>100.0</td>\n",
       "      <td>100.0</td>\n",
       "    </tr>\n",
       "  </tbody>\n",
       "</table>\n",
       "</div>"
      ],
      "text/plain": [
       "            000807  600681  600036  000709  002001  600977  002142  601939  \\\n",
       "2017-07-31     0.0     0.0     0.0     0.0     0.0     0.0     0.0     0.0   \n",
       "2017-08-01     0.0     0.0     0.0     0.0     0.0     0.0     0.0     0.0   \n",
       "2017-08-02     0.0     0.0     0.0     0.0     0.0     0.0     0.0     0.0   \n",
       "2017-08-03     0.0     0.0     0.0     0.0     0.0   100.0     0.0     0.0   \n",
       "2017-08-04     0.0     0.0     0.0     0.0     0.0   100.0     0.0     0.0   \n",
       "2017-08-07     0.0     0.0     0.0     0.0     0.0   100.0     0.0     0.0   \n",
       "2017-08-08     0.0   100.0     0.0     0.0     0.0   100.0     0.0     0.0   \n",
       "2017-08-09     0.0   100.0     0.0     0.0     0.0   100.0     0.0     0.0   \n",
       "2017-08-10     0.0   100.0     0.0     0.0     0.0   100.0     0.0     0.0   \n",
       "2017-08-11     0.0   100.0     0.0     0.0     0.0   100.0     0.0     0.0   \n",
       "2017-08-14   100.0   100.0     0.0   100.0   100.0   100.0     0.0     0.0   \n",
       "2017-08-15   100.0   100.0   100.0   100.0   100.0   100.0   100.0   100.0   \n",
       "2017-08-16   100.0   100.0   100.0   100.0   100.0   100.0   100.0   100.0   \n",
       "\n",
       "            300228  \n",
       "2017-07-31     0.0  \n",
       "2017-08-01     0.0  \n",
       "2017-08-02     0.0  \n",
       "2017-08-03     0.0  \n",
       "2017-08-04     0.0  \n",
       "2017-08-07     0.0  \n",
       "2017-08-08   100.0  \n",
       "2017-08-09   100.0  \n",
       "2017-08-10   100.0  \n",
       "2017-08-11   100.0  \n",
       "2017-08-14   100.0  \n",
       "2017-08-15   100.0  \n",
       "2017-08-16   100.0  "
      ]
     },
     "execution_count": 27,
     "metadata": {},
     "output_type": "execute_result"
    }
   ],
   "source": [
    "position = tempo.copy()\n",
    "for stk,date in selldatepair.iteritems():\n",
    "    filterCondition = tempo[tempo[stk].index >= date]\n",
    "    falseCondition= tempo[tempo[stk].index  < date]\n",
    "    position.loc[filterCondition.index,stk]= 100\n",
    "    position.loc[falseCondition.index,stk]=  0\n",
    "position"
   ]
  },
  {
   "cell_type": "code",
   "execution_count": 28,
   "metadata": {
    "collapsed": false,
    "deletable": true,
    "editable": true
   },
   "outputs": [],
   "source": [
    "marketValue = position*tempo"
   ]
  },
  {
   "cell_type": "code",
   "execution_count": 29,
   "metadata": {
    "collapsed": false,
    "deletable": true,
    "editable": true
   },
   "outputs": [
    {
     "data": {
      "text/plain": [
       "2017-07-31     98452.20\n",
       "2017-08-01     97727.98\n",
       "2017-08-02     97727.98\n",
       "2017-08-03     90568.28\n",
       "2017-08-04     93836.98\n",
       "2017-08-07     92755.93\n",
       "2017-08-08     92554.47\n",
       "2017-08-09     93353.05\n",
       "2017-08-10     90225.90\n",
       "2017-08-11     97028.05\n",
       "2017-08-14     98265.37\n",
       "2017-08-15    100142.28\n",
       "2017-08-16          NaN\n",
       "dtype: float64"
      ]
     },
     "execution_count": 29,
     "metadata": {},
     "output_type": "execute_result"
    }
   ],
   "source": [
    "marketValue.sum(axis=1)+availableCashSeries"
   ]
  },
  {
   "cell_type": "code",
   "execution_count": 30,
   "metadata": {
    "collapsed": false,
    "deletable": true,
    "editable": true
   },
   "outputs": [
    {
     "data": {
      "text/plain": [
       "2017-07-31    101021.63\n",
       "2017-08-01     97727.98\n",
       "2017-08-02     97727.98\n",
       "2017-08-03     88715.28\n",
       "2017-08-04     95326.68\n",
       "2017-08-07     95332.53\n",
       "2017-08-08     89202.26\n",
       "2017-08-09     91624.23\n",
       "2017-08-10     86704.95\n",
       "2017-08-11     99459.20\n",
       "2017-08-14     94521.84\n",
       "2017-08-15     88723.58\n",
       "dtype: float64"
      ]
     },
     "execution_count": 30,
     "metadata": {},
     "output_type": "execute_result"
    }
   ],
   "source": [
    "# 计算卖出时得到的资金\n",
    "for sellitem in sellList:\n",
    "    availableCashSeries.loc[sellitem[0]]+= sellitem[-2]\n",
    "availableCashSeries"
   ]
  },
  {
   "cell_type": "code",
   "execution_count": 31,
   "metadata": {
    "collapsed": true,
    "deletable": true,
    "editable": true
   },
   "outputs": [],
   "source": [
    "# 合并买卖订单\n",
    "tradingList = buyList + sellList\n",
    "tradingCode = list(set([i[1] for i in buyList]) | set([i[1] for i in sellList]))"
   ]
  },
  {
   "cell_type": "code",
   "execution_count": 32,
   "metadata": {
    "collapsed": false,
    "deletable": true,
    "editable": true
   },
   "outputs": [
    {
     "data": {
      "text/plain": [
       "[[datetime.datetime(2017, 7, 31, 0, 0), '600438', 6.5, 100, 650.19, 1],\n",
       " [datetime.datetime(2017, 7, 31, 0, 0), '600111', 17.1, 100, 1710.51, 1],\n",
       " [datetime.datetime(2017, 7, 31, 0, 0), '000970', 17.56, 100, 1756.53, 1],\n",
       " [datetime.datetime(2017, 8, 1, 0, 0), '600438', 7.24, 100, 724.22, 1],\n",
       " [datetime.datetime(2017, 8, 3, 0, 0), '000933', 11.71, 100, 1171.35, 1],\n",
       " [datetime.datetime(2017, 8, 3, 0, 0), '600977', 18.08, 100, 1808.54, 1],\n",
       " [datetime.datetime(2017, 8, 3, 0, 0), '000802', 19.07, 100, 1907.57, 1],\n",
       " [datetime.datetime(2017, 8, 3, 0, 0), '600809', 41.24, 100, 4125.24, 1],\n",
       " [datetime.datetime(2017, 8, 7, 0, 0), '600789', 8.95, 100, 895.27, 1],\n",
       " [datetime.datetime(2017, 8, 7, 0, 0), '002166', 11.5, 100, 1150.35, 1],\n",
       " [datetime.datetime(2017, 8, 7, 0, 0), '600309', 34.31, 100, 3432.03, 1],\n",
       " [datetime.datetime(2017, 8, 8, 0, 0), '600803', 13.91, 100, 1391.42, 1],\n",
       " [datetime.datetime(2017, 8, 8, 0, 0), '300228', 11.18, 100, 1118.34, 1],\n",
       " [datetime.datetime(2017, 8, 8, 0, 0), '600681', 16.45, 100, 1645.49, 1],\n",
       " [datetime.datetime(2017, 8, 9, 0, 0), '000636', 8.92, 100, 892.27, 1],\n",
       " [datetime.datetime(2017, 8, 9, 0, 0), '000962', 11.12, 100, 1112.33, 1],\n",
       " [datetime.datetime(2017, 8, 10, 0, 0), '300121', 15.89, 100, 1589.48, 1],\n",
       " [datetime.datetime(2017, 8, 10, 0, 0), '600352', 11.14, 100, 1114.33, 1],\n",
       " [datetime.datetime(2017, 8, 10, 0, 0), '600409', 12.97, 100, 1297.39, 1],\n",
       " [datetime.datetime(2017, 8, 14, 0, 0), '000709', 4.66, 100, 466.14, 1],\n",
       " [datetime.datetime(2017, 8, 14, 0, 0), '000807', 11.85, 100, 1185.36, 1],\n",
       " [datetime.datetime(2017, 8, 14, 0, 0), '600111', 18.4, 100, 1840.55, 1],\n",
       " [datetime.datetime(2017, 8, 14, 0, 0), '002001', 20.59, 100, 2059.62, 1],\n",
       " [datetime.datetime(2017, 8, 14, 0, 0), '002562', 16.0, 100, 1600.48, 1],\n",
       " [datetime.datetime(2017, 8, 15, 0, 0), '600036', 24.8, 100, 2480.74, 1],\n",
       " [datetime.datetime(2017, 8, 15, 0, 0), '002142', 15.12, 100, 1512.45, 1],\n",
       " [datetime.datetime(2017, 8, 15, 0, 0), '601939', 6.64, 100, 664.2, 1],\n",
       " [Timestamp('2017-07-31 00:00:00'), '600438', 7.11, 100, 710.29, -1],\n",
       " [Timestamp('2017-07-31 00:00:00'), '600111', 18.61, 100, 1859.14, -1],\n",
       " [Timestamp('2017-08-09 00:00:00'), '000970', 18.78, 100, 1876.12, -1],\n",
       " [Timestamp('2017-08-04 00:00:00'), '000933', 12.35, 100, 1233.77, -1],\n",
       " [Timestamp('2017-08-04 00:00:00'), '000802', 20.74, 100, 2071.93, -1],\n",
       " [Timestamp('2017-08-07 00:00:00'), '600809', 43.99, 100, 4394.6, -1],\n",
       " [Timestamp('2017-08-09 00:00:00'), '600789', 9.43, 100, 942.06, -1],\n",
       " [Timestamp('2017-08-08 00:00:00'), '002166', 12.11, 100, 1209.79, -1],\n",
       " [Timestamp('2017-08-11 00:00:00'), '600309', 31.44, 100, 3140.86, -1],\n",
       " [Timestamp('2017-08-14 00:00:00'), '600803', 14.84, 100, 1482.52, -1],\n",
       " [Timestamp('2017-08-10 00:00:00'), '000636', 9.51, 100, 950.05, -1],\n",
       " [Timestamp('2017-08-14 00:00:00'), '000962', 10.54, 100, 1052.95, -1],\n",
       " [Timestamp('2017-08-11 00:00:00'), '300121', 14.75, 100, 1473.53, -1],\n",
       " [Timestamp('2017-08-11 00:00:00'), '600352', 10.51, 100, 1049.95, -1],\n",
       " [Timestamp('2017-08-11 00:00:00'), '600409', 11.89, 100, 1187.81, -1],\n",
       " [Timestamp('2017-08-14 00:00:00'), '600111', 20.0, 100, 1998.0, -1],\n",
       " [Timestamp('2017-08-15 00:00:00'), '002562', 16.98, 100, 1696.3, -1]]"
      ]
     },
     "execution_count": 32,
     "metadata": {},
     "output_type": "execute_result"
    }
   ],
   "source": [
    "tradingList"
   ]
  },
  {
   "cell_type": "code",
   "execution_count": 33,
   "metadata": {
    "collapsed": false,
    "deletable": true,
    "editable": true
   },
   "outputs": [],
   "source": [
    "# 创建tradingsheet\n",
    "tradingSheet = pd.DataFrame(index = dateList, columns = tradingCode, data=0, dtype = float)\n",
    "\n",
    "for item in tradingList:\n",
    "    tradingSheet .loc[item[0],item[1]]+= item[-1] * item[-3]\n",
    "positionchangeDF = tradingSheet .cumsum().ffill()"
   ]
  },
  {
   "cell_type": "code",
   "execution_count": 34,
   "metadata": {
    "collapsed": false,
    "deletable": true,
    "editable": true
   },
   "outputs": [
    {
     "data": {
      "text/html": [
       "<div>\n",
       "<style>\n",
       "    .dataframe thead tr:only-child th {\n",
       "        text-align: right;\n",
       "    }\n",
       "\n",
       "    .dataframe thead th {\n",
       "        text-align: left;\n",
       "    }\n",
       "\n",
       "    .dataframe tbody tr th {\n",
       "        vertical-align: top;\n",
       "    }\n",
       "</style>\n",
       "<table border=\"1\" class=\"dataframe\">\n",
       "  <thead>\n",
       "    <tr style=\"text-align: right;\">\n",
       "      <th></th>\n",
       "      <th>600309</th>\n",
       "      <th>000807</th>\n",
       "      <th>600681</th>\n",
       "      <th>000802</th>\n",
       "      <th>000933</th>\n",
       "      <th>600036</th>\n",
       "      <th>000709</th>\n",
       "      <th>002001</th>\n",
       "      <th>600977</th>\n",
       "      <th>600809</th>\n",
       "      <th>...</th>\n",
       "      <th>300121</th>\n",
       "      <th>000970</th>\n",
       "      <th>000636</th>\n",
       "      <th>600352</th>\n",
       "      <th>002562</th>\n",
       "      <th>600409</th>\n",
       "      <th>600789</th>\n",
       "      <th>600803</th>\n",
       "      <th>600438</th>\n",
       "      <th>600111</th>\n",
       "    </tr>\n",
       "  </thead>\n",
       "  <tbody>\n",
       "    <tr>\n",
       "      <th>2017-07-31</th>\n",
       "      <td>0.0</td>\n",
       "      <td>0.0</td>\n",
       "      <td>0.0</td>\n",
       "      <td>0.0</td>\n",
       "      <td>0.0</td>\n",
       "      <td>0.0</td>\n",
       "      <td>0.0</td>\n",
       "      <td>0.0</td>\n",
       "      <td>0.0</td>\n",
       "      <td>0.0</td>\n",
       "      <td>...</td>\n",
       "      <td>0.0</td>\n",
       "      <td>100.0</td>\n",
       "      <td>0.0</td>\n",
       "      <td>0.0</td>\n",
       "      <td>0.0</td>\n",
       "      <td>0.0</td>\n",
       "      <td>0.0</td>\n",
       "      <td>0.0</td>\n",
       "      <td>0.0</td>\n",
       "      <td>0.0</td>\n",
       "    </tr>\n",
       "    <tr>\n",
       "      <th>2017-08-01</th>\n",
       "      <td>0.0</td>\n",
       "      <td>0.0</td>\n",
       "      <td>0.0</td>\n",
       "      <td>0.0</td>\n",
       "      <td>0.0</td>\n",
       "      <td>0.0</td>\n",
       "      <td>0.0</td>\n",
       "      <td>0.0</td>\n",
       "      <td>0.0</td>\n",
       "      <td>0.0</td>\n",
       "      <td>...</td>\n",
       "      <td>0.0</td>\n",
       "      <td>0.0</td>\n",
       "      <td>0.0</td>\n",
       "      <td>0.0</td>\n",
       "      <td>0.0</td>\n",
       "      <td>0.0</td>\n",
       "      <td>0.0</td>\n",
       "      <td>0.0</td>\n",
       "      <td>100.0</td>\n",
       "      <td>0.0</td>\n",
       "    </tr>\n",
       "    <tr>\n",
       "      <th>2017-08-02</th>\n",
       "      <td>0.0</td>\n",
       "      <td>0.0</td>\n",
       "      <td>0.0</td>\n",
       "      <td>0.0</td>\n",
       "      <td>0.0</td>\n",
       "      <td>0.0</td>\n",
       "      <td>0.0</td>\n",
       "      <td>0.0</td>\n",
       "      <td>0.0</td>\n",
       "      <td>0.0</td>\n",
       "      <td>...</td>\n",
       "      <td>0.0</td>\n",
       "      <td>0.0</td>\n",
       "      <td>0.0</td>\n",
       "      <td>0.0</td>\n",
       "      <td>0.0</td>\n",
       "      <td>0.0</td>\n",
       "      <td>0.0</td>\n",
       "      <td>0.0</td>\n",
       "      <td>0.0</td>\n",
       "      <td>0.0</td>\n",
       "    </tr>\n",
       "    <tr>\n",
       "      <th>2017-08-03</th>\n",
       "      <td>0.0</td>\n",
       "      <td>0.0</td>\n",
       "      <td>0.0</td>\n",
       "      <td>100.0</td>\n",
       "      <td>100.0</td>\n",
       "      <td>0.0</td>\n",
       "      <td>0.0</td>\n",
       "      <td>0.0</td>\n",
       "      <td>100.0</td>\n",
       "      <td>100.0</td>\n",
       "      <td>...</td>\n",
       "      <td>0.0</td>\n",
       "      <td>0.0</td>\n",
       "      <td>0.0</td>\n",
       "      <td>0.0</td>\n",
       "      <td>0.0</td>\n",
       "      <td>0.0</td>\n",
       "      <td>0.0</td>\n",
       "      <td>0.0</td>\n",
       "      <td>0.0</td>\n",
       "      <td>0.0</td>\n",
       "    </tr>\n",
       "    <tr>\n",
       "      <th>2017-08-04</th>\n",
       "      <td>0.0</td>\n",
       "      <td>0.0</td>\n",
       "      <td>0.0</td>\n",
       "      <td>-100.0</td>\n",
       "      <td>-100.0</td>\n",
       "      <td>0.0</td>\n",
       "      <td>0.0</td>\n",
       "      <td>0.0</td>\n",
       "      <td>0.0</td>\n",
       "      <td>0.0</td>\n",
       "      <td>...</td>\n",
       "      <td>0.0</td>\n",
       "      <td>0.0</td>\n",
       "      <td>0.0</td>\n",
       "      <td>0.0</td>\n",
       "      <td>0.0</td>\n",
       "      <td>0.0</td>\n",
       "      <td>0.0</td>\n",
       "      <td>0.0</td>\n",
       "      <td>0.0</td>\n",
       "      <td>0.0</td>\n",
       "    </tr>\n",
       "    <tr>\n",
       "      <th>2017-08-07</th>\n",
       "      <td>100.0</td>\n",
       "      <td>0.0</td>\n",
       "      <td>0.0</td>\n",
       "      <td>0.0</td>\n",
       "      <td>0.0</td>\n",
       "      <td>0.0</td>\n",
       "      <td>0.0</td>\n",
       "      <td>0.0</td>\n",
       "      <td>0.0</td>\n",
       "      <td>-100.0</td>\n",
       "      <td>...</td>\n",
       "      <td>0.0</td>\n",
       "      <td>0.0</td>\n",
       "      <td>0.0</td>\n",
       "      <td>0.0</td>\n",
       "      <td>0.0</td>\n",
       "      <td>0.0</td>\n",
       "      <td>100.0</td>\n",
       "      <td>0.0</td>\n",
       "      <td>0.0</td>\n",
       "      <td>0.0</td>\n",
       "    </tr>\n",
       "    <tr>\n",
       "      <th>2017-08-08</th>\n",
       "      <td>0.0</td>\n",
       "      <td>0.0</td>\n",
       "      <td>100.0</td>\n",
       "      <td>0.0</td>\n",
       "      <td>0.0</td>\n",
       "      <td>0.0</td>\n",
       "      <td>0.0</td>\n",
       "      <td>0.0</td>\n",
       "      <td>0.0</td>\n",
       "      <td>0.0</td>\n",
       "      <td>...</td>\n",
       "      <td>0.0</td>\n",
       "      <td>0.0</td>\n",
       "      <td>0.0</td>\n",
       "      <td>0.0</td>\n",
       "      <td>0.0</td>\n",
       "      <td>0.0</td>\n",
       "      <td>0.0</td>\n",
       "      <td>100.0</td>\n",
       "      <td>0.0</td>\n",
       "      <td>0.0</td>\n",
       "    </tr>\n",
       "    <tr>\n",
       "      <th>2017-08-09</th>\n",
       "      <td>0.0</td>\n",
       "      <td>0.0</td>\n",
       "      <td>0.0</td>\n",
       "      <td>0.0</td>\n",
       "      <td>0.0</td>\n",
       "      <td>0.0</td>\n",
       "      <td>0.0</td>\n",
       "      <td>0.0</td>\n",
       "      <td>0.0</td>\n",
       "      <td>0.0</td>\n",
       "      <td>...</td>\n",
       "      <td>0.0</td>\n",
       "      <td>-100.0</td>\n",
       "      <td>100.0</td>\n",
       "      <td>0.0</td>\n",
       "      <td>0.0</td>\n",
       "      <td>0.0</td>\n",
       "      <td>-100.0</td>\n",
       "      <td>0.0</td>\n",
       "      <td>0.0</td>\n",
       "      <td>0.0</td>\n",
       "    </tr>\n",
       "    <tr>\n",
       "      <th>2017-08-10</th>\n",
       "      <td>0.0</td>\n",
       "      <td>0.0</td>\n",
       "      <td>0.0</td>\n",
       "      <td>0.0</td>\n",
       "      <td>0.0</td>\n",
       "      <td>0.0</td>\n",
       "      <td>0.0</td>\n",
       "      <td>0.0</td>\n",
       "      <td>0.0</td>\n",
       "      <td>0.0</td>\n",
       "      <td>...</td>\n",
       "      <td>100.0</td>\n",
       "      <td>0.0</td>\n",
       "      <td>-100.0</td>\n",
       "      <td>100.0</td>\n",
       "      <td>0.0</td>\n",
       "      <td>100.0</td>\n",
       "      <td>0.0</td>\n",
       "      <td>0.0</td>\n",
       "      <td>0.0</td>\n",
       "      <td>0.0</td>\n",
       "    </tr>\n",
       "    <tr>\n",
       "      <th>2017-08-11</th>\n",
       "      <td>-100.0</td>\n",
       "      <td>0.0</td>\n",
       "      <td>0.0</td>\n",
       "      <td>0.0</td>\n",
       "      <td>0.0</td>\n",
       "      <td>0.0</td>\n",
       "      <td>0.0</td>\n",
       "      <td>0.0</td>\n",
       "      <td>0.0</td>\n",
       "      <td>0.0</td>\n",
       "      <td>...</td>\n",
       "      <td>-100.0</td>\n",
       "      <td>0.0</td>\n",
       "      <td>0.0</td>\n",
       "      <td>-100.0</td>\n",
       "      <td>0.0</td>\n",
       "      <td>-100.0</td>\n",
       "      <td>0.0</td>\n",
       "      <td>0.0</td>\n",
       "      <td>0.0</td>\n",
       "      <td>0.0</td>\n",
       "    </tr>\n",
       "    <tr>\n",
       "      <th>2017-08-14</th>\n",
       "      <td>0.0</td>\n",
       "      <td>100.0</td>\n",
       "      <td>0.0</td>\n",
       "      <td>0.0</td>\n",
       "      <td>0.0</td>\n",
       "      <td>0.0</td>\n",
       "      <td>100.0</td>\n",
       "      <td>100.0</td>\n",
       "      <td>0.0</td>\n",
       "      <td>0.0</td>\n",
       "      <td>...</td>\n",
       "      <td>0.0</td>\n",
       "      <td>0.0</td>\n",
       "      <td>0.0</td>\n",
       "      <td>0.0</td>\n",
       "      <td>100.0</td>\n",
       "      <td>0.0</td>\n",
       "      <td>0.0</td>\n",
       "      <td>-100.0</td>\n",
       "      <td>0.0</td>\n",
       "      <td>0.0</td>\n",
       "    </tr>\n",
       "    <tr>\n",
       "      <th>2017-08-15</th>\n",
       "      <td>0.0</td>\n",
       "      <td>0.0</td>\n",
       "      <td>0.0</td>\n",
       "      <td>0.0</td>\n",
       "      <td>0.0</td>\n",
       "      <td>100.0</td>\n",
       "      <td>0.0</td>\n",
       "      <td>0.0</td>\n",
       "      <td>0.0</td>\n",
       "      <td>0.0</td>\n",
       "      <td>...</td>\n",
       "      <td>0.0</td>\n",
       "      <td>0.0</td>\n",
       "      <td>0.0</td>\n",
       "      <td>0.0</td>\n",
       "      <td>-100.0</td>\n",
       "      <td>0.0</td>\n",
       "      <td>0.0</td>\n",
       "      <td>0.0</td>\n",
       "      <td>0.0</td>\n",
       "      <td>0.0</td>\n",
       "    </tr>\n",
       "  </tbody>\n",
       "</table>\n",
       "<p>12 rows × 25 columns</p>\n",
       "</div>"
      ],
      "text/plain": [
       "            600309  000807  600681  000802  000933  600036  000709  002001  \\\n",
       "2017-07-31     0.0     0.0     0.0     0.0     0.0     0.0     0.0     0.0   \n",
       "2017-08-01     0.0     0.0     0.0     0.0     0.0     0.0     0.0     0.0   \n",
       "2017-08-02     0.0     0.0     0.0     0.0     0.0     0.0     0.0     0.0   \n",
       "2017-08-03     0.0     0.0     0.0   100.0   100.0     0.0     0.0     0.0   \n",
       "2017-08-04     0.0     0.0     0.0  -100.0  -100.0     0.0     0.0     0.0   \n",
       "2017-08-07   100.0     0.0     0.0     0.0     0.0     0.0     0.0     0.0   \n",
       "2017-08-08     0.0     0.0   100.0     0.0     0.0     0.0     0.0     0.0   \n",
       "2017-08-09     0.0     0.0     0.0     0.0     0.0     0.0     0.0     0.0   \n",
       "2017-08-10     0.0     0.0     0.0     0.0     0.0     0.0     0.0     0.0   \n",
       "2017-08-11  -100.0     0.0     0.0     0.0     0.0     0.0     0.0     0.0   \n",
       "2017-08-14     0.0   100.0     0.0     0.0     0.0     0.0   100.0   100.0   \n",
       "2017-08-15     0.0     0.0     0.0     0.0     0.0   100.0     0.0     0.0   \n",
       "\n",
       "            600977  600809   ...    300121  000970  000636  600352  002562  \\\n",
       "2017-07-31     0.0     0.0   ...       0.0   100.0     0.0     0.0     0.0   \n",
       "2017-08-01     0.0     0.0   ...       0.0     0.0     0.0     0.0     0.0   \n",
       "2017-08-02     0.0     0.0   ...       0.0     0.0     0.0     0.0     0.0   \n",
       "2017-08-03   100.0   100.0   ...       0.0     0.0     0.0     0.0     0.0   \n",
       "2017-08-04     0.0     0.0   ...       0.0     0.0     0.0     0.0     0.0   \n",
       "2017-08-07     0.0  -100.0   ...       0.0     0.0     0.0     0.0     0.0   \n",
       "2017-08-08     0.0     0.0   ...       0.0     0.0     0.0     0.0     0.0   \n",
       "2017-08-09     0.0     0.0   ...       0.0  -100.0   100.0     0.0     0.0   \n",
       "2017-08-10     0.0     0.0   ...     100.0     0.0  -100.0   100.0     0.0   \n",
       "2017-08-11     0.0     0.0   ...    -100.0     0.0     0.0  -100.0     0.0   \n",
       "2017-08-14     0.0     0.0   ...       0.0     0.0     0.0     0.0   100.0   \n",
       "2017-08-15     0.0     0.0   ...       0.0     0.0     0.0     0.0  -100.0   \n",
       "\n",
       "            600409  600789  600803  600438  600111  \n",
       "2017-07-31     0.0     0.0     0.0     0.0     0.0  \n",
       "2017-08-01     0.0     0.0     0.0   100.0     0.0  \n",
       "2017-08-02     0.0     0.0     0.0     0.0     0.0  \n",
       "2017-08-03     0.0     0.0     0.0     0.0     0.0  \n",
       "2017-08-04     0.0     0.0     0.0     0.0     0.0  \n",
       "2017-08-07     0.0   100.0     0.0     0.0     0.0  \n",
       "2017-08-08     0.0     0.0   100.0     0.0     0.0  \n",
       "2017-08-09     0.0  -100.0     0.0     0.0     0.0  \n",
       "2017-08-10   100.0     0.0     0.0     0.0     0.0  \n",
       "2017-08-11  -100.0     0.0     0.0     0.0     0.0  \n",
       "2017-08-14     0.0     0.0  -100.0     0.0     0.0  \n",
       "2017-08-15     0.0     0.0     0.0     0.0     0.0  \n",
       "\n",
       "[12 rows x 25 columns]"
      ]
     },
     "execution_count": 34,
     "metadata": {},
     "output_type": "execute_result"
    }
   ],
   "source": [
    "tradingSheet "
   ]
  },
  {
   "cell_type": "code",
   "execution_count": 35,
   "metadata": {
    "collapsed": false,
    "deletable": true,
    "editable": true
   },
   "outputs": [
    {
     "data": {
      "text/html": [
       "<div>\n",
       "<style>\n",
       "    .dataframe thead tr:only-child th {\n",
       "        text-align: right;\n",
       "    }\n",
       "\n",
       "    .dataframe thead th {\n",
       "        text-align: left;\n",
       "    }\n",
       "\n",
       "    .dataframe tbody tr th {\n",
       "        vertical-align: top;\n",
       "    }\n",
       "</style>\n",
       "<table border=\"1\" class=\"dataframe\">\n",
       "  <thead>\n",
       "    <tr style=\"text-align: right;\">\n",
       "      <th></th>\n",
       "      <th>600309</th>\n",
       "      <th>000807</th>\n",
       "      <th>600681</th>\n",
       "      <th>000802</th>\n",
       "      <th>000933</th>\n",
       "      <th>600036</th>\n",
       "      <th>000709</th>\n",
       "      <th>002001</th>\n",
       "      <th>600977</th>\n",
       "      <th>600809</th>\n",
       "      <th>...</th>\n",
       "      <th>300121</th>\n",
       "      <th>000970</th>\n",
       "      <th>000636</th>\n",
       "      <th>600352</th>\n",
       "      <th>002562</th>\n",
       "      <th>600409</th>\n",
       "      <th>600789</th>\n",
       "      <th>600803</th>\n",
       "      <th>600438</th>\n",
       "      <th>600111</th>\n",
       "    </tr>\n",
       "  </thead>\n",
       "  <tbody>\n",
       "    <tr>\n",
       "      <th>2017-07-31</th>\n",
       "      <td>0.0</td>\n",
       "      <td>0.0</td>\n",
       "      <td>0.0</td>\n",
       "      <td>0.0</td>\n",
       "      <td>0.0</td>\n",
       "      <td>0.0</td>\n",
       "      <td>0.0</td>\n",
       "      <td>0.0</td>\n",
       "      <td>0.0</td>\n",
       "      <td>0.0</td>\n",
       "      <td>...</td>\n",
       "      <td>0.0</td>\n",
       "      <td>100.0</td>\n",
       "      <td>0.0</td>\n",
       "      <td>0.0</td>\n",
       "      <td>0.0</td>\n",
       "      <td>0.0</td>\n",
       "      <td>0.0</td>\n",
       "      <td>0.0</td>\n",
       "      <td>0.0</td>\n",
       "      <td>0.0</td>\n",
       "    </tr>\n",
       "    <tr>\n",
       "      <th>2017-08-01</th>\n",
       "      <td>0.0</td>\n",
       "      <td>0.0</td>\n",
       "      <td>0.0</td>\n",
       "      <td>0.0</td>\n",
       "      <td>0.0</td>\n",
       "      <td>0.0</td>\n",
       "      <td>0.0</td>\n",
       "      <td>0.0</td>\n",
       "      <td>0.0</td>\n",
       "      <td>0.0</td>\n",
       "      <td>...</td>\n",
       "      <td>0.0</td>\n",
       "      <td>100.0</td>\n",
       "      <td>0.0</td>\n",
       "      <td>0.0</td>\n",
       "      <td>0.0</td>\n",
       "      <td>0.0</td>\n",
       "      <td>0.0</td>\n",
       "      <td>0.0</td>\n",
       "      <td>100.0</td>\n",
       "      <td>0.0</td>\n",
       "    </tr>\n",
       "    <tr>\n",
       "      <th>2017-08-02</th>\n",
       "      <td>0.0</td>\n",
       "      <td>0.0</td>\n",
       "      <td>0.0</td>\n",
       "      <td>0.0</td>\n",
       "      <td>0.0</td>\n",
       "      <td>0.0</td>\n",
       "      <td>0.0</td>\n",
       "      <td>0.0</td>\n",
       "      <td>0.0</td>\n",
       "      <td>0.0</td>\n",
       "      <td>...</td>\n",
       "      <td>0.0</td>\n",
       "      <td>100.0</td>\n",
       "      <td>0.0</td>\n",
       "      <td>0.0</td>\n",
       "      <td>0.0</td>\n",
       "      <td>0.0</td>\n",
       "      <td>0.0</td>\n",
       "      <td>0.0</td>\n",
       "      <td>100.0</td>\n",
       "      <td>0.0</td>\n",
       "    </tr>\n",
       "    <tr>\n",
       "      <th>2017-08-03</th>\n",
       "      <td>0.0</td>\n",
       "      <td>0.0</td>\n",
       "      <td>0.0</td>\n",
       "      <td>100.0</td>\n",
       "      <td>100.0</td>\n",
       "      <td>0.0</td>\n",
       "      <td>0.0</td>\n",
       "      <td>0.0</td>\n",
       "      <td>100.0</td>\n",
       "      <td>100.0</td>\n",
       "      <td>...</td>\n",
       "      <td>0.0</td>\n",
       "      <td>100.0</td>\n",
       "      <td>0.0</td>\n",
       "      <td>0.0</td>\n",
       "      <td>0.0</td>\n",
       "      <td>0.0</td>\n",
       "      <td>0.0</td>\n",
       "      <td>0.0</td>\n",
       "      <td>100.0</td>\n",
       "      <td>0.0</td>\n",
       "    </tr>\n",
       "    <tr>\n",
       "      <th>2017-08-04</th>\n",
       "      <td>0.0</td>\n",
       "      <td>0.0</td>\n",
       "      <td>0.0</td>\n",
       "      <td>0.0</td>\n",
       "      <td>0.0</td>\n",
       "      <td>0.0</td>\n",
       "      <td>0.0</td>\n",
       "      <td>0.0</td>\n",
       "      <td>100.0</td>\n",
       "      <td>100.0</td>\n",
       "      <td>...</td>\n",
       "      <td>0.0</td>\n",
       "      <td>100.0</td>\n",
       "      <td>0.0</td>\n",
       "      <td>0.0</td>\n",
       "      <td>0.0</td>\n",
       "      <td>0.0</td>\n",
       "      <td>0.0</td>\n",
       "      <td>0.0</td>\n",
       "      <td>100.0</td>\n",
       "      <td>0.0</td>\n",
       "    </tr>\n",
       "    <tr>\n",
       "      <th>2017-08-07</th>\n",
       "      <td>100.0</td>\n",
       "      <td>0.0</td>\n",
       "      <td>0.0</td>\n",
       "      <td>0.0</td>\n",
       "      <td>0.0</td>\n",
       "      <td>0.0</td>\n",
       "      <td>0.0</td>\n",
       "      <td>0.0</td>\n",
       "      <td>100.0</td>\n",
       "      <td>0.0</td>\n",
       "      <td>...</td>\n",
       "      <td>0.0</td>\n",
       "      <td>100.0</td>\n",
       "      <td>0.0</td>\n",
       "      <td>0.0</td>\n",
       "      <td>0.0</td>\n",
       "      <td>0.0</td>\n",
       "      <td>100.0</td>\n",
       "      <td>0.0</td>\n",
       "      <td>100.0</td>\n",
       "      <td>0.0</td>\n",
       "    </tr>\n",
       "    <tr>\n",
       "      <th>2017-08-08</th>\n",
       "      <td>100.0</td>\n",
       "      <td>0.0</td>\n",
       "      <td>100.0</td>\n",
       "      <td>0.0</td>\n",
       "      <td>0.0</td>\n",
       "      <td>0.0</td>\n",
       "      <td>0.0</td>\n",
       "      <td>0.0</td>\n",
       "      <td>100.0</td>\n",
       "      <td>0.0</td>\n",
       "      <td>...</td>\n",
       "      <td>0.0</td>\n",
       "      <td>100.0</td>\n",
       "      <td>0.0</td>\n",
       "      <td>0.0</td>\n",
       "      <td>0.0</td>\n",
       "      <td>0.0</td>\n",
       "      <td>100.0</td>\n",
       "      <td>100.0</td>\n",
       "      <td>100.0</td>\n",
       "      <td>0.0</td>\n",
       "    </tr>\n",
       "    <tr>\n",
       "      <th>2017-08-09</th>\n",
       "      <td>100.0</td>\n",
       "      <td>0.0</td>\n",
       "      <td>100.0</td>\n",
       "      <td>0.0</td>\n",
       "      <td>0.0</td>\n",
       "      <td>0.0</td>\n",
       "      <td>0.0</td>\n",
       "      <td>0.0</td>\n",
       "      <td>100.0</td>\n",
       "      <td>0.0</td>\n",
       "      <td>...</td>\n",
       "      <td>0.0</td>\n",
       "      <td>0.0</td>\n",
       "      <td>100.0</td>\n",
       "      <td>0.0</td>\n",
       "      <td>0.0</td>\n",
       "      <td>0.0</td>\n",
       "      <td>0.0</td>\n",
       "      <td>100.0</td>\n",
       "      <td>100.0</td>\n",
       "      <td>0.0</td>\n",
       "    </tr>\n",
       "    <tr>\n",
       "      <th>2017-08-10</th>\n",
       "      <td>100.0</td>\n",
       "      <td>0.0</td>\n",
       "      <td>100.0</td>\n",
       "      <td>0.0</td>\n",
       "      <td>0.0</td>\n",
       "      <td>0.0</td>\n",
       "      <td>0.0</td>\n",
       "      <td>0.0</td>\n",
       "      <td>100.0</td>\n",
       "      <td>0.0</td>\n",
       "      <td>...</td>\n",
       "      <td>100.0</td>\n",
       "      <td>0.0</td>\n",
       "      <td>0.0</td>\n",
       "      <td>100.0</td>\n",
       "      <td>0.0</td>\n",
       "      <td>100.0</td>\n",
       "      <td>0.0</td>\n",
       "      <td>100.0</td>\n",
       "      <td>100.0</td>\n",
       "      <td>0.0</td>\n",
       "    </tr>\n",
       "    <tr>\n",
       "      <th>2017-08-11</th>\n",
       "      <td>0.0</td>\n",
       "      <td>0.0</td>\n",
       "      <td>100.0</td>\n",
       "      <td>0.0</td>\n",
       "      <td>0.0</td>\n",
       "      <td>0.0</td>\n",
       "      <td>0.0</td>\n",
       "      <td>0.0</td>\n",
       "      <td>100.0</td>\n",
       "      <td>0.0</td>\n",
       "      <td>...</td>\n",
       "      <td>0.0</td>\n",
       "      <td>0.0</td>\n",
       "      <td>0.0</td>\n",
       "      <td>0.0</td>\n",
       "      <td>0.0</td>\n",
       "      <td>0.0</td>\n",
       "      <td>0.0</td>\n",
       "      <td>100.0</td>\n",
       "      <td>100.0</td>\n",
       "      <td>0.0</td>\n",
       "    </tr>\n",
       "    <tr>\n",
       "      <th>2017-08-14</th>\n",
       "      <td>0.0</td>\n",
       "      <td>100.0</td>\n",
       "      <td>100.0</td>\n",
       "      <td>0.0</td>\n",
       "      <td>0.0</td>\n",
       "      <td>0.0</td>\n",
       "      <td>100.0</td>\n",
       "      <td>100.0</td>\n",
       "      <td>100.0</td>\n",
       "      <td>0.0</td>\n",
       "      <td>...</td>\n",
       "      <td>0.0</td>\n",
       "      <td>0.0</td>\n",
       "      <td>0.0</td>\n",
       "      <td>0.0</td>\n",
       "      <td>100.0</td>\n",
       "      <td>0.0</td>\n",
       "      <td>0.0</td>\n",
       "      <td>0.0</td>\n",
       "      <td>100.0</td>\n",
       "      <td>0.0</td>\n",
       "    </tr>\n",
       "    <tr>\n",
       "      <th>2017-08-15</th>\n",
       "      <td>0.0</td>\n",
       "      <td>100.0</td>\n",
       "      <td>100.0</td>\n",
       "      <td>0.0</td>\n",
       "      <td>0.0</td>\n",
       "      <td>100.0</td>\n",
       "      <td>100.0</td>\n",
       "      <td>100.0</td>\n",
       "      <td>100.0</td>\n",
       "      <td>0.0</td>\n",
       "      <td>...</td>\n",
       "      <td>0.0</td>\n",
       "      <td>0.0</td>\n",
       "      <td>0.0</td>\n",
       "      <td>0.0</td>\n",
       "      <td>0.0</td>\n",
       "      <td>0.0</td>\n",
       "      <td>0.0</td>\n",
       "      <td>0.0</td>\n",
       "      <td>100.0</td>\n",
       "      <td>0.0</td>\n",
       "    </tr>\n",
       "  </tbody>\n",
       "</table>\n",
       "<p>12 rows × 25 columns</p>\n",
       "</div>"
      ],
      "text/plain": [
       "            600309  000807  600681  000802  000933  600036  000709  002001  \\\n",
       "2017-07-31     0.0     0.0     0.0     0.0     0.0     0.0     0.0     0.0   \n",
       "2017-08-01     0.0     0.0     0.0     0.0     0.0     0.0     0.0     0.0   \n",
       "2017-08-02     0.0     0.0     0.0     0.0     0.0     0.0     0.0     0.0   \n",
       "2017-08-03     0.0     0.0     0.0   100.0   100.0     0.0     0.0     0.0   \n",
       "2017-08-04     0.0     0.0     0.0     0.0     0.0     0.0     0.0     0.0   \n",
       "2017-08-07   100.0     0.0     0.0     0.0     0.0     0.0     0.0     0.0   \n",
       "2017-08-08   100.0     0.0   100.0     0.0     0.0     0.0     0.0     0.0   \n",
       "2017-08-09   100.0     0.0   100.0     0.0     0.0     0.0     0.0     0.0   \n",
       "2017-08-10   100.0     0.0   100.0     0.0     0.0     0.0     0.0     0.0   \n",
       "2017-08-11     0.0     0.0   100.0     0.0     0.0     0.0     0.0     0.0   \n",
       "2017-08-14     0.0   100.0   100.0     0.0     0.0     0.0   100.0   100.0   \n",
       "2017-08-15     0.0   100.0   100.0     0.0     0.0   100.0   100.0   100.0   \n",
       "\n",
       "            600977  600809   ...    300121  000970  000636  600352  002562  \\\n",
       "2017-07-31     0.0     0.0   ...       0.0   100.0     0.0     0.0     0.0   \n",
       "2017-08-01     0.0     0.0   ...       0.0   100.0     0.0     0.0     0.0   \n",
       "2017-08-02     0.0     0.0   ...       0.0   100.0     0.0     0.0     0.0   \n",
       "2017-08-03   100.0   100.0   ...       0.0   100.0     0.0     0.0     0.0   \n",
       "2017-08-04   100.0   100.0   ...       0.0   100.0     0.0     0.0     0.0   \n",
       "2017-08-07   100.0     0.0   ...       0.0   100.0     0.0     0.0     0.0   \n",
       "2017-08-08   100.0     0.0   ...       0.0   100.0     0.0     0.0     0.0   \n",
       "2017-08-09   100.0     0.0   ...       0.0     0.0   100.0     0.0     0.0   \n",
       "2017-08-10   100.0     0.0   ...     100.0     0.0     0.0   100.0     0.0   \n",
       "2017-08-11   100.0     0.0   ...       0.0     0.0     0.0     0.0     0.0   \n",
       "2017-08-14   100.0     0.0   ...       0.0     0.0     0.0     0.0   100.0   \n",
       "2017-08-15   100.0     0.0   ...       0.0     0.0     0.0     0.0     0.0   \n",
       "\n",
       "            600409  600789  600803  600438  600111  \n",
       "2017-07-31     0.0     0.0     0.0     0.0     0.0  \n",
       "2017-08-01     0.0     0.0     0.0   100.0     0.0  \n",
       "2017-08-02     0.0     0.0     0.0   100.0     0.0  \n",
       "2017-08-03     0.0     0.0     0.0   100.0     0.0  \n",
       "2017-08-04     0.0     0.0     0.0   100.0     0.0  \n",
       "2017-08-07     0.0   100.0     0.0   100.0     0.0  \n",
       "2017-08-08     0.0   100.0   100.0   100.0     0.0  \n",
       "2017-08-09     0.0     0.0   100.0   100.0     0.0  \n",
       "2017-08-10   100.0     0.0   100.0   100.0     0.0  \n",
       "2017-08-11     0.0     0.0   100.0   100.0     0.0  \n",
       "2017-08-14     0.0     0.0     0.0   100.0     0.0  \n",
       "2017-08-15     0.0     0.0     0.0   100.0     0.0  \n",
       "\n",
       "[12 rows x 25 columns]"
      ]
     },
     "execution_count": 35,
     "metadata": {},
     "output_type": "execute_result"
    }
   ],
   "source": [
    "positionchangeDF"
   ]
  },
  {
   "cell_type": "code",
   "execution_count": 36,
   "metadata": {
    "collapsed": false,
    "deletable": true,
    "editable": true
   },
   "outputs": [],
   "source": [
    "# 总资产\n",
    "totalCapital= (positionchangeDF * closePrice[positionchangeDF.columns]).sum(axis=1)+ availableCashSeries"
   ]
  },
  {
   "cell_type": "code",
   "execution_count": 37,
   "metadata": {
    "collapsed": false,
    "deletable": true,
    "editable": true
   },
   "outputs": [
    {
     "data": {
      "text/plain": [
       "2017-07-31    102851.63\n",
       "2017-08-01    100220.98\n",
       "2017-08-02    100169.98\n",
       "2017-08-03    100238.28\n",
       "2017-08-04    103575.68\n",
       "2017-08-07    105161.53\n",
       "2017-08-08    102026.26\n",
       "2017-08-09    103794.23\n",
       "2017-08-10    101743.95\n",
       "2017-08-11    107070.20\n",
       "2017-08-14    105125.84\n",
       "2017-08-15    102556.58\n",
       "2017-08-16          NaN\n",
       "dtype: float64"
      ]
     },
     "execution_count": 37,
     "metadata": {},
     "output_type": "execute_result"
    }
   ],
   "source": [
    "totalCapital"
   ]
  },
  {
   "cell_type": "code",
   "execution_count": 38,
   "metadata": {
    "collapsed": false,
    "deletable": true,
    "editable": true
   },
   "outputs": [],
   "source": [
    "# 年化收益率\n",
    "annualizedRet = ((totalCapital.iloc[-2] - InitiCap)/ InitiCap +1)**(250/(len(totalCapital)-1)) -1"
   ]
  },
  {
   "cell_type": "code",
   "execution_count": 39,
   "metadata": {
    "collapsed": false,
    "deletable": true,
    "editable": true
   },
   "outputs": [
    {
     "data": {
      "text/plain": [
       "0.69202537164493205"
      ]
     },
     "execution_count": 39,
     "metadata": {},
     "output_type": "execute_result"
    }
   ],
   "source": [
    "annualizedRet "
   ]
  },
  {
   "cell_type": "code",
   "execution_count": 40,
   "metadata": {
    "collapsed": false,
    "deletable": true,
    "editable": true
   },
   "outputs": [
    {
     "data": {
      "text/plain": [
       "2017-07-31    101021.63\n",
       "2017-08-01     97727.98\n",
       "2017-08-02     97727.98\n",
       "2017-08-03     88715.28\n",
       "2017-08-04     95326.68\n",
       "2017-08-07     95332.53\n",
       "2017-08-08     89202.26\n",
       "2017-08-09     91624.23\n",
       "2017-08-10     86704.95\n",
       "2017-08-11     99459.20\n",
       "2017-08-14     94521.84\n",
       "2017-08-15     88723.58\n",
       "dtype: float64"
      ]
     },
     "execution_count": 40,
     "metadata": {},
     "output_type": "execute_result"
    }
   ],
   "source": [
    "availableCashSeries"
   ]
  },
  {
   "cell_type": "code",
   "execution_count": 41,
   "metadata": {
    "collapsed": true,
    "deletable": true,
    "editable": true
   },
   "outputs": [],
   "source": [
    "pnlseries = pd.Series(pnldict)"
   ]
  },
  {
   "cell_type": "code",
   "execution_count": 42,
   "metadata": {
    "collapsed": false,
    "deletable": true,
    "editable": true
   },
   "outputs": [
    {
     "data": {
      "text/plain": [
       "count    25.000000\n",
       "mean      0.018400\n",
       "std       0.053126\n",
       "min      -0.080000\n",
       "25%      -0.010000\n",
       "50%       0.030000\n",
       "75%       0.060000\n",
       "max       0.090000\n",
       "dtype: float64"
      ]
     },
     "execution_count": 42,
     "metadata": {},
     "output_type": "execute_result"
    }
   ],
   "source": [
    "pnlseries.describe()"
   ]
  },
  {
   "cell_type": "code",
   "execution_count": 43,
   "metadata": {
    "collapsed": false,
    "deletable": true,
    "editable": true
   },
   "outputs": [
    {
     "data": {
      "text/plain": [
       "(array([ 3.,  2.,  0.,  0.,  4.,  2.,  3.,  4.,  5.,  2.]),\n",
       " array([-0.08 , -0.063, -0.046, -0.029, -0.012,  0.005,  0.022,  0.039,\n",
       "         0.056,  0.073,  0.09 ]),\n",
       " <a list of 10 Patch objects>)"
      ]
     },
     "execution_count": 43,
     "metadata": {},
     "output_type": "execute_result"
    },
    {
     "data": {
      "image/png": "[encoded data removed]",
      "text/plain": [
       "<matplotlib.figure.Figure at 0x3d1ae160>"
      ]
     },
     "metadata": {},
     "output_type": "display_data"
    }
   ],
   "source": [
    "plt.hist(pnlseries)"
   ]
  },
  {
   "cell_type": "code",
   "execution_count": 1,
   "metadata": {
    "collapsed": true
   },
   "outputs": [],
   "source": [
    "#-----------------------------------------------------Market Timing------------------------------------"
   ]
  },
  {
   "cell_type": "code",
   "execution_count": 15,
   "metadata": {
    "collapsed": false,
    "deletable": true,
    "editable": true
   },
   "outputs": [],
   "source": [
    "filenameHS300Member = 'LZ_CN_STKA_INDEX_HS300MEMBER.h5'\n",
    "filenameCSI500Member = 'LZ_CN_STKA_INDEX_CSI500MEMBER.h5'\n",
    "\n",
    "# 复权后价格\n",
    "filenameAdjClose = 'OwnfactorAdjustedClose.h5'"
   ]
  },
  {
   "cell_type": "code",
   "execution_count": 21,
   "metadata": {
    "collapsed": false
   },
   "outputs": [],
   "source": [
    "teststartTime =  datetime.strptime('20120731', '%Y%m%d')\n",
    "testendTime = datetime.strptime('20171016', '%Y%m%d')"
   ]
  },
  {
   "cell_type": "code",
   "execution_count": 10,
   "metadata": {
    "collapsed": true
   },
   "outputs": [],
   "source": [
    "def getMemberList(path,filename):\n",
    "    df = ff.readh5data(path,filename).iloc[-1]\n",
    "    return df.loc[df==1].index.tolist()"
   ]
  },
  {
   "cell_type": "code",
   "execution_count": 11,
   "metadata": {
    "collapsed": true
   },
   "outputs": [],
   "source": [
    "hs300MemberList = getMemberList(path, filenameHS300Member)\n",
    "csi500MemberList = getMemberList(path, filenameCSI500Member)"
   ]
  },
  {
   "cell_type": "code",
   "execution_count": 29,
   "metadata": {
    "collapsed": false
   },
   "outputs": [],
   "source": [
    "priceData =  ff.readh5data(path,filenameAdjClose).pct_change().dropna(how='all').loc[teststartTime:testendTime]"
   ]
  },
  {
   "cell_type": "code",
   "execution_count": 49,
   "metadata": {
    "collapsed": false
   },
   "outputs": [
    {
     "data": {
      "text/plain": [
       "Timestamp('2017-08-10 00:00:00')"
      ]
     },
     "execution_count": 49,
     "metadata": {},
     "output_type": "execute_result"
    }
   ],
   "source": [
    "priceData[hs300MemberList].loc[datetime.strptime('20170810', '%Y%m%d')].name"
   ]
  },
  {
   "cell_type": "code",
   "execution_count": 54,
   "metadata": {
    "collapsed": false
   },
   "outputs": [
    {
     "data": {
      "text/plain": [
       "<matplotlib.axes._subplots.AxesSubplot at 0x5edf18d0>"
      ]
     },
     "execution_count": 54,
     "metadata": {},
     "output_type": "execute_result"
    },
    {
     "data": {
      "image/png": "[encoded data removed]",
      "text/plain": [
       "<matplotlib.figure.Figure at 0x5ede0e48>"
      ]
     },
     "metadata": {},
     "output_type": "display_data"
    }
   ],
   "source": [
    "priceData[hs300MemberList].loc[datetime.strptime('20170810', '%Y%m%d')].hist()"
   ]
  },
  {
   "cell_type": "code",
   "execution_count": 40,
   "metadata": {
    "collapsed": false
   },
   "outputs": [
    {
     "data": {
      "text/plain": [
       "Timestamp('2017-10-12 00:00:00')"
      ]
     },
     "execution_count": 40,
     "metadata": {},
     "output_type": "execute_result"
    }
   ],
   "source": [
    "priceData[csi500MemberList].iloc[-2].name"
   ]
  },
  {
   "cell_type": "code",
   "execution_count": 44,
   "metadata": {
    "collapsed": true,
    "deletable": true,
    "editable": true
   },
   "outputs": [],
   "source": [
    "#-----------------------------------------------------CTA Backtest Engine------------------------------------"
   ]
  },
  {
   "cell_type": "code",
   "execution_count": 45,
   "metadata": {
    "collapsed": true,
    "deletable": true,
    "editable": true
   },
   "outputs": [],
   "source": [
    "def getNewMatrix(inputArray, t, m):\n",
    "    newMatrix = []\n",
    "    n = t-m+1\n",
    "    for i in range(n):\n",
    "        newdata = list(inputArray[i:m+i])\n",
    "        newMatrix.append(newdata)\n",
    "    #newMatrix = np.array(newMatrix).reshape(n,m)\n",
    "    return np.array(newMatrix)\n",
    "\n",
    "def recreateArray(newMatrix,t,m):\n",
    "    ret = []\n",
    "    n = t - m + 1\n",
    "    for p in range(1, t+1):\n",
    "        if p < m:\n",
    "            alpha = p\n",
    "        elif p > t-m+1:\n",
    "            alpha = t-p+1\n",
    "        else:\n",
    "            alpha = m\n",
    "        sigma = 0\n",
    "        for j in range(1, m+1):\n",
    "            i = p - j + 1\n",
    "            if i > 0 and i < n+1:\n",
    "                sigma += newMatrix[i-1][j-1]\n",
    "        ret.append(sigma/alpha)\n",
    "    return np.array(ret)\n",
    "\n",
    "def getSVD(inputArray,t,m):\n",
    "    #print 1\n",
    "    inputmatrix = getNewMatrix(inputArray, t, m)\n",
    "    u, s, v = np.linalg.svd(inputmatrix)\n",
    "    eviNum = 1 if s[0]/s.sum() > 0.99 else 2\n",
    "    sNew = np.zeros((eviNum, eviNum))\n",
    "    np.fill_diagonal(sNew, s[:eviNum])\n",
    "    matrixForts = np.dot(np.dot(u[:, :eviNum].reshape(u.shape[0], eviNum), sNew), v[:eviNum])\n",
    "    #print matrixForts.shape\n",
    "    newts = recreateArray(matrixForts, t, m)\n",
    "    return newts"
   ]
  },
  {
   "cell_type": "code",
   "execution_count": 46,
   "metadata": {
    "collapsed": true,
    "deletable": true,
    "editable": true
   },
   "outputs": [],
   "source": [
    "old_path = 'C:/Users/LZJF_02/Desktop/original_data/'\n",
    "new_path = 'C:/Users/LZJF_02/Desktop/modified_data/'\n",
    "filename = 'rb000_1min.csv'\n",
    "#newname = 'j9000_1min_modi.csv'"
   ]
  },
  {
   "cell_type": "code",
   "execution_count": 47,
   "metadata": {
    "collapsed": true,
    "deletable": true,
    "editable": true
   },
   "outputs": [],
   "source": [
    "startTime =  datetime.strptime('20161010', '%Y%m%d') # 上涨趋势\n",
    "endTime = datetime.strptime('20161107', '%Y%m%d')\n",
    "\n",
    "startTrainTime = datetime.strptime('20150530', '%Y%m%d') \n",
    "endTimeTrain =  datetime.strptime('20160530', '%Y%m%d')\n",
    "\n",
    "startTimeVal = datetime.strptime('20151016', '%Y%m%d')  # 下跌趋势\n",
    "endTimeVal = datetime.strptime('20151123', '%Y%m%d')\n",
    "\n",
    "startTimeSurge =  datetime.strptime('20170606', '%Y%m%d') # 上涨趋势\n",
    "endTimeSurge = datetime.strptime('20170809', '%Y%m%d')\n",
    "\n",
    "startTimePlunge =  datetime.strptime('20170906', '%Y%m%d') # 下跌趋势\n",
    "endTimePlunge = datetime.strptime('20170929', '%Y%m%d')"
   ]
  },
  {
   "cell_type": "code",
   "execution_count": 48,
   "metadata": {
    "collapsed": true,
    "deletable": true,
    "editable": true
   },
   "outputs": [],
   "source": [
    "# svd滤波参数\n",
    "shapeNum = 30\n",
    "svdShort = 7\n",
    "svdLong = 20"
   ]
  },
  {
   "cell_type": "code",
   "execution_count": 49,
   "metadata": {
    "collapsed": false,
    "deletable": true,
    "editable": true
   },
   "outputs": [],
   "source": [
    "# 期货合约相关参数\n",
    "Leverage = 10\n",
    "Slipage = 2\n",
    "ContractSize = 10\n",
    "IniCapital = 100000\n",
    "FeeRate = 0.003\n",
    "PriceTick = 1"
   ]
  },
  {
   "cell_type": "code",
   "execution_count": 50,
   "metadata": {
    "collapsed": true,
    "deletable": true,
    "editable": true
   },
   "outputs": [],
   "source": [
    "data = pd.read_csv(old_path+filename,infer_datetime_format=True,header=None,names = ['Open', 'High', 'Low', 'Close','TotalVolume','OpenInterest'])\n",
    "data.index = data.index.map(lambda x : pd.to_datetime(x))"
   ]
  },
  {
   "cell_type": "code",
   "execution_count": 51,
   "metadata": {
    "collapsed": false,
    "deletable": true,
    "editable": true
   },
   "outputs": [],
   "source": [
    "data['OpenRatio'] = (data['OpenInterest'] - data['OpenInterest'].shift(1)) / data['TotalVolume']"
   ]
  },
  {
   "cell_type": "code",
   "execution_count": 52,
   "metadata": {
    "collapsed": false,
    "deletable": true,
    "editable": true
   },
   "outputs": [
    {
     "data": {
      "text/plain": [
       "Open            3.646000e+03\n",
       "High            3.648000e+03\n",
       "Low             3.644000e+03\n",
       "Close           3.646000e+03\n",
       "TotalVolume     2.877000e+04\n",
       "OpenInterest    4.941676e+06\n",
       "OpenRatio       1.816483e-01\n",
       "Name: 0.85, dtype: float64"
      ]
     },
     "execution_count": 52,
     "metadata": {},
     "output_type": "execute_result"
    }
   ],
   "source": [
    "data.loc[startTime:].describe()\n",
    "data.loc[startTime:].quantile(0.85)"
   ]
  },
  {
   "cell_type": "code",
   "execution_count": 53,
   "metadata": {
    "collapsed": false,
    "deletable": true,
    "editable": true
   },
   "outputs": [
    {
     "data": {
      "text/html": [
       "<div>\n",
       "<style>\n",
       "    .dataframe thead tr:only-child th {\n",
       "        text-align: right;\n",
       "    }\n",
       "\n",
       "    .dataframe thead th {\n",
       "        text-align: left;\n",
       "    }\n",
       "\n",
       "    .dataframe tbody tr th {\n",
       "        vertical-align: top;\n",
       "    }\n",
       "</style>\n",
       "<table border=\"1\" class=\"dataframe\">\n",
       "  <thead>\n",
       "    <tr style=\"text-align: right;\">\n",
       "      <th></th>\n",
       "      <th>Open</th>\n",
       "      <th>High</th>\n",
       "      <th>Low</th>\n",
       "      <th>Close</th>\n",
       "      <th>TotalVolume</th>\n",
       "      <th>OpenInterest</th>\n",
       "      <th>OpenRatio</th>\n",
       "    </tr>\n",
       "  </thead>\n",
       "  <tbody>\n",
       "    <tr>\n",
       "      <th>2017-09-18 11:16:00</th>\n",
       "      <td>3786</td>\n",
       "      <td>3789</td>\n",
       "      <td>3770</td>\n",
       "      <td>3776</td>\n",
       "      <td>56594</td>\n",
       "      <td>4057618</td>\n",
       "      <td>0.105559</td>\n",
       "    </tr>\n",
       "    <tr>\n",
       "      <th>2017-09-18 11:17:00</th>\n",
       "      <td>3775</td>\n",
       "      <td>3779</td>\n",
       "      <td>3771</td>\n",
       "      <td>3771</td>\n",
       "      <td>25718</td>\n",
       "      <td>4061640</td>\n",
       "      <td>0.156389</td>\n",
       "    </tr>\n",
       "    <tr>\n",
       "      <th>2017-09-18 11:18:00</th>\n",
       "      <td>3771</td>\n",
       "      <td>3780</td>\n",
       "      <td>3771</td>\n",
       "      <td>3776</td>\n",
       "      <td>15230</td>\n",
       "      <td>4065086</td>\n",
       "      <td>0.226264</td>\n",
       "    </tr>\n",
       "    <tr>\n",
       "      <th>2017-09-18 11:19:00</th>\n",
       "      <td>3776</td>\n",
       "      <td>3777</td>\n",
       "      <td>3772</td>\n",
       "      <td>3773</td>\n",
       "      <td>9056</td>\n",
       "      <td>4066862</td>\n",
       "      <td>0.196113</td>\n",
       "    </tr>\n",
       "    <tr>\n",
       "      <th>2017-09-18 11:20:00</th>\n",
       "      <td>3773</td>\n",
       "      <td>3773</td>\n",
       "      <td>3764</td>\n",
       "      <td>3766</td>\n",
       "      <td>38662</td>\n",
       "      <td>4072204</td>\n",
       "      <td>0.138172</td>\n",
       "    </tr>\n",
       "    <tr>\n",
       "      <th>2017-09-18 11:21:00</th>\n",
       "      <td>3767</td>\n",
       "      <td>3770</td>\n",
       "      <td>3766</td>\n",
       "      <td>3768</td>\n",
       "      <td>15876</td>\n",
       "      <td>4075438</td>\n",
       "      <td>0.203704</td>\n",
       "    </tr>\n",
       "    <tr>\n",
       "      <th>2017-09-18 11:22:00</th>\n",
       "      <td>3767</td>\n",
       "      <td>3768</td>\n",
       "      <td>3764</td>\n",
       "      <td>3764</td>\n",
       "      <td>18014</td>\n",
       "      <td>4077740</td>\n",
       "      <td>0.127789</td>\n",
       "    </tr>\n",
       "    <tr>\n",
       "      <th>2017-09-18 11:23:00</th>\n",
       "      <td>3763</td>\n",
       "      <td>3765</td>\n",
       "      <td>3759</td>\n",
       "      <td>3763</td>\n",
       "      <td>32302</td>\n",
       "      <td>4083090</td>\n",
       "      <td>0.165624</td>\n",
       "    </tr>\n",
       "    <tr>\n",
       "      <th>2017-09-18 11:24:00</th>\n",
       "      <td>3762</td>\n",
       "      <td>3768</td>\n",
       "      <td>3760</td>\n",
       "      <td>3768</td>\n",
       "      <td>15844</td>\n",
       "      <td>4085922</td>\n",
       "      <td>0.178743</td>\n",
       "    </tr>\n",
       "    <tr>\n",
       "      <th>2017-09-18 11:25:00</th>\n",
       "      <td>3769</td>\n",
       "      <td>3769</td>\n",
       "      <td>3762</td>\n",
       "      <td>3762</td>\n",
       "      <td>12436</td>\n",
       "      <td>4087190</td>\n",
       "      <td>0.101962</td>\n",
       "    </tr>\n",
       "    <tr>\n",
       "      <th>2017-09-18 11:26:00</th>\n",
       "      <td>3762</td>\n",
       "      <td>3766</td>\n",
       "      <td>3761</td>\n",
       "      <td>3763</td>\n",
       "      <td>12268</td>\n",
       "      <td>4089582</td>\n",
       "      <td>0.194979</td>\n",
       "    </tr>\n",
       "    <tr>\n",
       "      <th>2017-09-18 11:27:00</th>\n",
       "      <td>3763</td>\n",
       "      <td>3764</td>\n",
       "      <td>3761</td>\n",
       "      <td>3763</td>\n",
       "      <td>12170</td>\n",
       "      <td>4093248</td>\n",
       "      <td>0.301233</td>\n",
       "    </tr>\n",
       "    <tr>\n",
       "      <th>2017-09-18 11:28:00</th>\n",
       "      <td>3763</td>\n",
       "      <td>3763</td>\n",
       "      <td>3754</td>\n",
       "      <td>3754</td>\n",
       "      <td>27592</td>\n",
       "      <td>4096376</td>\n",
       "      <td>0.113366</td>\n",
       "    </tr>\n",
       "    <tr>\n",
       "      <th>2017-09-18 11:29:00</th>\n",
       "      <td>3754</td>\n",
       "      <td>3764</td>\n",
       "      <td>3754</td>\n",
       "      <td>3764</td>\n",
       "      <td>24468</td>\n",
       "      <td>4101462</td>\n",
       "      <td>0.207863</td>\n",
       "    </tr>\n",
       "    <tr>\n",
       "      <th>2017-09-18 13:30:00</th>\n",
       "      <td>3763</td>\n",
       "      <td>3773</td>\n",
       "      <td>3760</td>\n",
       "      <td>3771</td>\n",
       "      <td>35206</td>\n",
       "      <td>4110392</td>\n",
       "      <td>0.253650</td>\n",
       "    </tr>\n",
       "    <tr>\n",
       "      <th>2017-09-18 13:31:00</th>\n",
       "      <td>3771</td>\n",
       "      <td>3771</td>\n",
       "      <td>3761</td>\n",
       "      <td>3762</td>\n",
       "      <td>14936</td>\n",
       "      <td>4115096</td>\n",
       "      <td>0.314944</td>\n",
       "    </tr>\n",
       "    <tr>\n",
       "      <th>2017-09-18 13:32:00</th>\n",
       "      <td>3762</td>\n",
       "      <td>3768</td>\n",
       "      <td>3762</td>\n",
       "      <td>3766</td>\n",
       "      <td>11528</td>\n",
       "      <td>4118020</td>\n",
       "      <td>0.253643</td>\n",
       "    </tr>\n",
       "    <tr>\n",
       "      <th>2017-09-18 13:33:00</th>\n",
       "      <td>3766</td>\n",
       "      <td>3775</td>\n",
       "      <td>3766</td>\n",
       "      <td>3775</td>\n",
       "      <td>17158</td>\n",
       "      <td>4119222</td>\n",
       "      <td>0.070055</td>\n",
       "    </tr>\n",
       "    <tr>\n",
       "      <th>2017-09-18 13:34:00</th>\n",
       "      <td>3775</td>\n",
       "      <td>3784</td>\n",
       "      <td>3775</td>\n",
       "      <td>3783</td>\n",
       "      <td>27988</td>\n",
       "      <td>4119790</td>\n",
       "      <td>0.020294</td>\n",
       "    </tr>\n",
       "    <tr>\n",
       "      <th>2017-09-18 13:35:00</th>\n",
       "      <td>3783</td>\n",
       "      <td>3790</td>\n",
       "      <td>3780</td>\n",
       "      <td>3790</td>\n",
       "      <td>23382</td>\n",
       "      <td>4119394</td>\n",
       "      <td>-0.016936</td>\n",
       "    </tr>\n",
       "  </tbody>\n",
       "</table>\n",
       "</div>"
      ],
      "text/plain": [
       "                     Open  High   Low  Close  TotalVolume  OpenInterest  \\\n",
       "2017-09-18 11:16:00  3786  3789  3770   3776        56594       4057618   \n",
       "2017-09-18 11:17:00  3775  3779  3771   3771        25718       4061640   \n",
       "2017-09-18 11:18:00  3771  3780  3771   3776        15230       4065086   \n",
       "2017-09-18 11:19:00  3776  3777  3772   3773         9056       4066862   \n",
       "2017-09-18 11:20:00  3773  3773  3764   3766        38662       4072204   \n",
       "2017-09-18 11:21:00  3767  3770  3766   3768        15876       4075438   \n",
       "2017-09-18 11:22:00  3767  3768  3764   3764        18014       4077740   \n",
       "2017-09-18 11:23:00  3763  3765  3759   3763        32302       4083090   \n",
       "2017-09-18 11:24:00  3762  3768  3760   3768        15844       4085922   \n",
       "2017-09-18 11:25:00  3769  3769  3762   3762        12436       4087190   \n",
       "2017-09-18 11:26:00  3762  3766  3761   3763        12268       4089582   \n",
       "2017-09-18 11:27:00  3763  3764  3761   3763        12170       4093248   \n",
       "2017-09-18 11:28:00  3763  3763  3754   3754        27592       4096376   \n",
       "2017-09-18 11:29:00  3754  3764  3754   3764        24468       4101462   \n",
       "2017-09-18 13:30:00  3763  3773  3760   3771        35206       4110392   \n",
       "2017-09-18 13:31:00  3771  3771  3761   3762        14936       4115096   \n",
       "2017-09-18 13:32:00  3762  3768  3762   3766        11528       4118020   \n",
       "2017-09-18 13:33:00  3766  3775  3766   3775        17158       4119222   \n",
       "2017-09-18 13:34:00  3775  3784  3775   3783        27988       4119790   \n",
       "2017-09-18 13:35:00  3783  3790  3780   3790        23382       4119394   \n",
       "\n",
       "                     OpenRatio  \n",
       "2017-09-18 11:16:00   0.105559  \n",
       "2017-09-18 11:17:00   0.156389  \n",
       "2017-09-18 11:18:00   0.226264  \n",
       "2017-09-18 11:19:00   0.196113  \n",
       "2017-09-18 11:20:00   0.138172  \n",
       "2017-09-18 11:21:00   0.203704  \n",
       "2017-09-18 11:22:00   0.127789  \n",
       "2017-09-18 11:23:00   0.165624  \n",
       "2017-09-18 11:24:00   0.178743  \n",
       "2017-09-18 11:25:00   0.101962  \n",
       "2017-09-18 11:26:00   0.194979  \n",
       "2017-09-18 11:27:00   0.301233  \n",
       "2017-09-18 11:28:00   0.113366  \n",
       "2017-09-18 11:29:00   0.207863  \n",
       "2017-09-18 13:30:00   0.253650  \n",
       "2017-09-18 13:31:00   0.314944  \n",
       "2017-09-18 13:32:00   0.253643  \n",
       "2017-09-18 13:33:00   0.070055  \n",
       "2017-09-18 13:34:00   0.020294  \n",
       "2017-09-18 13:35:00  -0.016936  "
      ]
     },
     "execution_count": 53,
     "metadata": {},
     "output_type": "execute_result"
    }
   ],
   "source": [
    "data.tail(20)"
   ]
  },
  {
   "cell_type": "code",
   "execution_count": 54,
   "metadata": {
    "collapsed": false,
    "deletable": true,
    "editable": true
   },
   "outputs": [
    {
     "data": {
      "text/html": [
       "<div>\n",
       "<style>\n",
       "    .dataframe thead tr:only-child th {\n",
       "        text-align: right;\n",
       "    }\n",
       "\n",
       "    .dataframe thead th {\n",
       "        text-align: left;\n",
       "    }\n",
       "\n",
       "    .dataframe tbody tr th {\n",
       "        vertical-align: top;\n",
       "    }\n",
       "</style>\n",
       "<table border=\"1\" class=\"dataframe\">\n",
       "  <thead>\n",
       "    <tr style=\"text-align: right;\">\n",
       "      <th></th>\n",
       "      <th>Open</th>\n",
       "      <th>High</th>\n",
       "      <th>Low</th>\n",
       "      <th>Close</th>\n",
       "      <th>TotalVolume</th>\n",
       "      <th>OpenInterest</th>\n",
       "      <th>OpenRatio</th>\n",
       "    </tr>\n",
       "  </thead>\n",
       "  <tbody>\n",
       "    <tr>\n",
       "      <th>count</th>\n",
       "      <td>576590.000000</td>\n",
       "      <td>576590.000000</td>\n",
       "      <td>576590.000000</td>\n",
       "      <td>576590.000000</td>\n",
       "      <td>576590.000000</td>\n",
       "      <td>5.765900e+05</td>\n",
       "      <td>576589.000000</td>\n",
       "    </tr>\n",
       "    <tr>\n",
       "      <th>mean</th>\n",
       "      <td>3279.472292</td>\n",
       "      <td>3280.876907</td>\n",
       "      <td>3278.048208</td>\n",
       "      <td>3279.472297</td>\n",
       "      <td>11638.035467</td>\n",
       "      <td>2.440778e+06</td>\n",
       "      <td>-0.003634</td>\n",
       "    </tr>\n",
       "    <tr>\n",
       "      <th>std</th>\n",
       "      <td>949.560688</td>\n",
       "      <td>949.722005</td>\n",
       "      <td>949.397871</td>\n",
       "      <td>949.559562</td>\n",
       "      <td>15181.314867</td>\n",
       "      <td>1.293012e+06</td>\n",
       "      <td>0.224045</td>\n",
       "    </tr>\n",
       "    <tr>\n",
       "      <th>min</th>\n",
       "      <td>1617.000000</td>\n",
       "      <td>1618.000000</td>\n",
       "      <td>1616.000000</td>\n",
       "      <td>1617.000000</td>\n",
       "      <td>2.000000</td>\n",
       "      <td>8.376000e+03</td>\n",
       "      <td>-1.638679</td>\n",
       "    </tr>\n",
       "    <tr>\n",
       "      <th>25%</th>\n",
       "      <td>2422.000000</td>\n",
       "      <td>2423.000000</td>\n",
       "      <td>2421.000000</td>\n",
       "      <td>2422.000000</td>\n",
       "      <td>2578.000000</td>\n",
       "      <td>1.345436e+06</td>\n",
       "      <td>-0.130831</td>\n",
       "    </tr>\n",
       "    <tr>\n",
       "      <th>50%</th>\n",
       "      <td>3409.000000</td>\n",
       "      <td>3410.000000</td>\n",
       "      <td>3407.000000</td>\n",
       "      <td>3409.000000</td>\n",
       "      <td>6876.000000</td>\n",
       "      <td>2.478721e+06</td>\n",
       "      <td>0.004251</td>\n",
       "    </tr>\n",
       "    <tr>\n",
       "      <th>75%</th>\n",
       "      <td>4074.000000</td>\n",
       "      <td>4076.000000</td>\n",
       "      <td>4072.000000</td>\n",
       "      <td>4074.000000</td>\n",
       "      <td>14788.000000</td>\n",
       "      <td>3.501908e+06</td>\n",
       "      <td>0.133173</td>\n",
       "    </tr>\n",
       "    <tr>\n",
       "      <th>max</th>\n",
       "      <td>5186.000000</td>\n",
       "      <td>5187.000000</td>\n",
       "      <td>5182.000000</td>\n",
       "      <td>5185.000000</td>\n",
       "      <td>583962.000000</td>\n",
       "      <td>6.040226e+06</td>\n",
       "      <td>1.000000</td>\n",
       "    </tr>\n",
       "  </tbody>\n",
       "</table>\n",
       "</div>"
      ],
      "text/plain": [
       "                Open           High            Low          Close  \\\n",
       "count  576590.000000  576590.000000  576590.000000  576590.000000   \n",
       "mean     3279.472292    3280.876907    3278.048208    3279.472297   \n",
       "std       949.560688     949.722005     949.397871     949.559562   \n",
       "min      1617.000000    1618.000000    1616.000000    1617.000000   \n",
       "25%      2422.000000    2423.000000    2421.000000    2422.000000   \n",
       "50%      3409.000000    3410.000000    3407.000000    3409.000000   \n",
       "75%      4074.000000    4076.000000    4072.000000    4074.000000   \n",
       "max      5186.000000    5187.000000    5182.000000    5185.000000   \n",
       "\n",
       "         TotalVolume  OpenInterest      OpenRatio  \n",
       "count  576590.000000  5.765900e+05  576589.000000  \n",
       "mean    11638.035467  2.440778e+06      -0.003634  \n",
       "std     15181.314867  1.293012e+06       0.224045  \n",
       "min         2.000000  8.376000e+03      -1.638679  \n",
       "25%      2578.000000  1.345436e+06      -0.130831  \n",
       "50%      6876.000000  2.478721e+06       0.004251  \n",
       "75%     14788.000000  3.501908e+06       0.133173  \n",
       "max    583962.000000  6.040226e+06       1.000000  "
      ]
     },
     "execution_count": 54,
     "metadata": {},
     "output_type": "execute_result"
    }
   ],
   "source": [
    "data.describe()"
   ]
  },
  {
   "cell_type": "code",
   "execution_count": 55,
   "metadata": {
    "collapsed": true,
    "deletable": true,
    "editable": true
   },
   "outputs": [],
   "source": [
    "# 默认空值\n",
    "EMPTY_STRING = ''\n",
    "EMPTY_UNICODE = u''\n",
    "EMPTY_INT = 0\n",
    "EMPTY_FLOAT = 0.0\n",
    "class BarData(object):\n",
    "    def __init__(self):\n",
    "        self.open = EMPTY_FLOAT             # OHLC\n",
    "        self.high = EMPTY_FLOAT\n",
    "        self.low = EMPTY_FLOAT\n",
    "        self.close = EMPTY_FLOAT\n",
    "        self.openRatio = EMPTY_FLOAT       # 开仓指标\n",
    "        \n",
    "        self.date = EMPTY_STRING            # bar开始的时间，日期\n",
    "        self.time = EMPTY_STRING            # 时间\n",
    "        self.datetime = None                # python的datetime时间对象\n",
    "        \n",
    "        self.volume = EMPTY_INT             # 成交量\n",
    "        self.openInterest = EMPTY_INT       # 持仓量 "
   ]
  },
  {
   "cell_type": "code",
   "execution_count": 57,
   "metadata": {
    "collapsed": true
   },
   "outputs": [],
   "source": [
    "from collections import OrderedDict"
   ]
  },
  {
   "cell_type": "code",
   "execution_count": 90,
   "metadata": {
    "collapsed": false,
    "deletable": true,
    "editable": true
   },
   "outputs": [],
   "source": [
    "# 下单/成交单的类\n",
    "class OrderData(object):\n",
    "    def __init__(self,datetime,stkID,volume,price,direction):\n",
    "        #self.orderID = orderID        # order\n",
    "        self.datetime = datetime\n",
    "        self.stkID = stkID\n",
    "        self.volume = volume\n",
    "        self.price = price\n",
    "        self.direction = direction"
   ]
  },
  {
   "cell_type": "code",
   "execution_count": 89,
   "metadata": {
    "collapsed": true
   },
   "outputs": [],
   "source": [
    "# 持仓类\n",
    "class holdingData(object):\n",
    "    def __init__(self,volume,averageCost):\n",
    "        self.stkID = stkID\n",
    "        self.volume = volume\n",
    "        self.averageCost = averageCost"
   ]
  },
  {
   "cell_type": "code",
   "execution_count": 116,
   "metadata": {
    "collapsed": false,
    "deletable": true,
    "editable": true
   },
   "outputs": [],
   "source": [
    "# backtesting class\n",
    "class StkBacktesting(object):\n",
    "    '''开盘时（9：30）按找开盘价下单交易，到收盘时当日持仓不会变。\n",
    "        收盘时（15：00）按照收盘价结算当日持仓收益。\n",
    "        收益分为两个部分：1.交易时产生的pnl，在交易时结算（9：30）。\n",
    "                        2. 持仓产生的pnl，在当天收盘时结算（15:00）。\n",
    "                        \n",
    "        交易时注意要先卖后买'''\n",
    "    \n",
    "    def __init__(self):\n",
    "        \n",
    "        self.dataDict = {}\n",
    "        \n",
    "        self.commisionRate = 0.003   # 手续费（买卖都有）\n",
    "        self.stampTax = 0.001       #  印花税（只有卖的时候有）\n",
    "        \n",
    "        self.initCap = 1000000\n",
    "        self.availableCashNow = self.initCap\n",
    "        #self.marketValue = 0\n",
    "        \n",
    "        \n",
    "        self.currentPositionDict = {}  # 当日持仓，key为stkID，value为持仓数量和平均持仓成本\n",
    "        self.tradingPnlDict = {}   # 交易时产生的收益（亏损），key为stkID，value为到当日为止该股票交易的累积收益\n",
    "        self.holdingPnlDict = {}   # 持仓产生的收益（市值变动）,key为date, value为当日持仓股票的市值变动\n",
    "\n",
    "        \n",
    "        self.limitOrderCount = 0\n",
    "        self.orderCount = 0\n",
    "        \n",
    "        self.totalMarketValueDict = OrderDict()    # 总市值字典,key为日期，value为当天市值\n",
    "        self.availableCashDict= OrderDict()       # 可用资金字典,key为日期，value为当天可用资金\n",
    "        self.limitOrderDict = OrderDict()  \n",
    "        self.orderbyDay = OrderDict()  # 下单的每日成交字典,key为日期。value为当日下的的所有单的list。\n",
    "        self.tradeDict = OrderDict()   # 撮合成交后的每日成交字典,key为日期。value为当日成交的所有单的list。\n",
    "        \n",
    "        #self.backTestingDateList = []\n",
    "    \n",
    "    def setInitCap(self,initCap):\n",
    "        '''设置初始资金'''\n",
    "        self.initCap = initCap\n",
    "        \n",
    "    def setCommisionRate(self,commisionRate):\n",
    "        '''设置手续费率'''\n",
    "        self.commisionRate = commisionRate\n",
    "    \n",
    "    def sendOrder(self,datetime,stkID,amount,price,direction):\n",
    "        \n",
    "        #self.limitOrderCount += 1\n",
    "        order = OrderData()\n",
    "        order.datetime = datetime\n",
    "        order.stkID = stkID\n",
    "        order.amount = amount\n",
    "        order.price = price\n",
    "        order.direction = direction\n",
    "        \n",
    "        #self.limitOrderDict[orderID] = order\n",
    "    \n",
    "    def addData(self, key, filename):\n",
    "        \"\"\"添加数据\n",
    "        key: STRING ,the key of the data in datadict.\n",
    "        filename: STRING ,the name of the data file exist in the path,,\n",
    "        Note that the postfix 'h5' is  necessary here.\n",
    "        \"\"\"\n",
    "        self.dataDict[key] = ff.readh5data(self.path, filename)\n",
    "        \n",
    "    def setBackTestingPeriod(self,startTime, endTime):\n",
    "        try:\n",
    "            self.backTestingDateList = self.dataDict['adjOpen'].loc[startTime:endTime].index\n",
    "        except KeyError:\n",
    "            print 'No available data! Plz feed data first!'\n",
    "            \n",
    "    def getCurrentPosition(self):\n",
    "        '''获取当前仓位信息'''\n",
    "        return self.currentPositionDict\n",
    "    \n",
    "    def getavailableCashNow(self):\n",
    "        '''获取当前可用资金'''\n",
    "        return self.availableCashNow\n",
    "    \n",
    "    def runStrategy(self):\n",
    "        pass\n",
    "    \n",
    "    def showBackTestingResult(self):\n",
    "        pass\n",
    "    \n",
    "    \n",
    "    def calTotalMarketValue(self,closePrice):\n",
    "        '''计算当日市值'''\n",
    "        volumeSeries = pd.Series({stkID:holding.volume for stkID,holding in self.currentPositionDict.iteritems()})\n",
    "        return volumeSeries * closePrice[newSeries.index.tolist()]\n",
    "    \n",
    "            \n",
    "    def crossOrder(self,date):\n",
    "        '''给定日期进行撮合及pnl/availableCash/marketValue的更新'''\n",
    "        try:\n",
    "            openPrice = self.dataDict['adjOpen'].loc[date]\n",
    "            closePrice = self.dataDict['adjClose'].loc[date]\n",
    "            trueVolume = self.dataDict['volume'].loc[date]\n",
    "        except KeyError:\n",
    "            print 'No available data! Plz feed data first!'\n",
    "            \n",
    "        tradingList = []\n",
    "        holdingPnlDict = {} \n",
    "        cashNetInThisDay = 0\n",
    "        for order in self.limitOrderDict[date]:\n",
    "            if not np .isnan(openPrice[order.stkID]): \n",
    "                crossPrice = openPrice[order.stkID]  # 最优价格\n",
    "                #dealPrice = crossPrice    # 成交价格\n",
    "                dealVolume = min(order.volume,trueVolume[order.stkID])\n",
    "                trade = OrderData()\n",
    "                trade.datetime = order.datetime\n",
    "                trade.stkID = order.stkID\n",
    "                trade.volume = dealVolume\n",
    "                trade.tradePrice = crossPrice\n",
    "                trade.direction = order.direction\n",
    "                \n",
    "                # 计算该股票的净现金流\n",
    "            \n",
    "                stkNetcash = - trade.volume * trade.tradePrice*(1+self.commisionRate) if trade.direction == 1 else\\\n",
    "                                         (self.commisionRate + self.stampTax + 1) * trade.volume * trade.tradePrice\n",
    "                # 如果目前可用资金太少\n",
    "                if self.availableCashNow < - stkNetcash:\n",
    "                    continue\n",
    "                \n",
    "                # 添加到tradingList里\n",
    "                tradingList.append(trade)\n",
    "                \n",
    "                # 当日资金净流入 \n",
    "                cashNetInThisDay+= stkNetcash\n",
    "                \n",
    "                # 总可用资金\n",
    "                self.availableCashNow+= stkNetcash\n",
    "                \n",
    "                # 个股成交手续费计算\n",
    "                trade.commisionCost = self.commisionRate * trade.volume * trade.tradePrice if trade.direction == 1 else \\\n",
    "                                        (self.commisionRate + self.stampTax) * trade.volume * trade.tradePrice \n",
    "                \n",
    "                # 若为卖出则添加此笔交易利润到交易盈利字典\n",
    "                if trade.direction == -1:\n",
    "                    self.tradingPnlDict[trade.stkID] = (trade.tradePrice - self.currentPositionDict[trade.stkID].averageCost) * \\\n",
    "                                                            trade.volume  - trade.commisionCost\n",
    "                    \n",
    "                    \n",
    "                # 若持仓字典中已存在此股票ID\n",
    "                if trade.stkID in self.currentPositionDict: \n",
    "                    # 更新持仓量\n",
    "                    holding = holdingData()\n",
    "                    holding.volume = self.currentPositionDict[trade.stkID].volume + trade.direction * trade.volume\n",
    "\n",
    "                    # 若交易后持仓量小于等于0，则删除此股票持仓信息\n",
    "                    if holding.volume <= 0:\n",
    "                        del self.currentPositionDict[trade.stkID]\n",
    "                        continue\n",
    "                        \n",
    "                    # 更新持仓成本\n",
    "                    holding.averageCost = (self.currentPositionDict[trade.stkID].averageCost * self.currentPositionDict[trade.stkID].volume+ \\\n",
    "                                            trade.commisionCost + trade.direction * (trade.tradePrice * trade.volume)) / \\\n",
    "                                                                        holding.volume\n",
    "                    #\n",
    "                    self.currentPositionDict[trade.stkID] = holding\n",
    "                                                                         \n",
    "                # 若不存在,此时只有在买入时才会添加持仓信息\n",
    "                else:\n",
    "                    if trade.direction == 1:\n",
    "                        holding = holdingData()\n",
    "                        holding.volume = trade.direction * trade.volume\n",
    "                        holding.averageCost = trade.tradePrice * (1 + self.commisionRate)\n",
    "                        self.currentPositionDict[trade.stkID] = holding\n",
    "                \n",
    "                # 计算当天的持仓收益\n",
    "                holdingPnlDict[trade.stkID] =  (closePrice[trade.stkID] -  self.currentPositionDict[trade.stkID].averageCost) * \\\n",
    "                                                        currentPositionDict[trade.stkID].volume\n",
    "                \n",
    "            else:\n",
    "                continue\n",
    "        \n",
    "        # 计算当日交易完后的总市值（收盘时）\n",
    "        self.totalMarketValueDict[date] = self.calTotalMarketValue(closePrice)\n",
    "        \n",
    "        # 计算当日交易完后的可用资金\n",
    "        self.availableCashDict[date] = self.availableCashNow\n",
    "        \n",
    "        # 保存当日持仓Pnl至持仓Pnl信息字典\n",
    "        self.holdingPnl[date] = holdingPnlDict\n",
    "        \n",
    "        # 保存当日成交信息至成交字典\n",
    "        self.tradeDict[date] = tradingList"
   ]
  },
  {
   "cell_type": "code",
   "execution_count": null,
   "metadata": {
    "collapsed": false,
    "deletable": true,
    "editable": true
   },
   "outputs": [],
   "source": []
  },
  {
   "cell_type": "code",
   "execution_count": 56,
   "metadata": {
    "collapsed": false,
    "deletable": true,
    "editable": true
   },
   "outputs": [],
   "source": [
    "dataIndice = data.loc[startTimeSurge:endTimeSurge]\n",
    "indexby5MIN = filter(lambda x : x.minute % 5 ==0, dataIndice.index)\n",
    "\n",
    "# modify data by customized method\n",
    "#dataIndice = data.loc[startTime:]\n",
    "resultList = []\n",
    "for index, time in enumerate(indexby5MIN):\n",
    "    if index < len(indexby5MIN) - 1:\n",
    "        tempdata = dataIndice.loc[time:indexby5MIN [index+1]].iloc[:-1]\n",
    "        resultdict = {}\n",
    "        resultdict['Open'] = tempdata['Open'].values[0]\n",
    "        resultdict['High'] = tempdata['High'].max()\n",
    "        resultdict['Low'] = tempdata['Low'].min()\n",
    "        resultdict['Close'] = tempdata['Close'].values[-1]\n",
    "        resultdict['TotalVolume'] = tempdata['TotalVolume'].sum()\n",
    "        resultdict['OpenInterest'] = tempdata['OpenInterest'].values[-1]\n",
    "        resultdict['OpenRatio'] = tempdata['OpenRatio'].values[-1]\n",
    "        resultdict['OpenRatioModi'] = (np.sqrt(tempdata['TotalVolume']) * tempdata['OpenRatio'] / \\\n",
    "                                       (np.sqrt(tempdata['TotalVolume']).sum())).mean()\n",
    "        resultdict['time'] = time\n",
    "        resultList.append(resultdict)\n",
    "df = pd.DataFrame(resultList,columns = ['Open','High','Low','Close','TotalVolume','OpenInterest','OpenRatio','time','OpenRatioModi'])  \n",
    "\n",
    "dataClean = df.set_index('time')\n",
    "dataClean['pnl'] = dataClean['Close'].pct_change()\n",
    "dataClean['nextpnl'] = dataClean['pnl'].shift(1)"
   ]
  },
  {
   "cell_type": "code",
   "execution_count": 57,
   "metadata": {
    "collapsed": false,
    "deletable": true,
    "editable": true
   },
   "outputs": [
    {
     "data": {
      "text/html": [
       "<div>\n",
       "<style>\n",
       "    .dataframe thead tr:only-child th {\n",
       "        text-align: right;\n",
       "    }\n",
       "\n",
       "    .dataframe thead th {\n",
       "        text-align: left;\n",
       "    }\n",
       "\n",
       "    .dataframe tbody tr th {\n",
       "        vertical-align: top;\n",
       "    }\n",
       "</style>\n",
       "<table border=\"1\" class=\"dataframe\">\n",
       "  <thead>\n",
       "    <tr style=\"text-align: right;\">\n",
       "      <th></th>\n",
       "      <th>Open</th>\n",
       "      <th>High</th>\n",
       "      <th>Low</th>\n",
       "      <th>Close</th>\n",
       "      <th>TotalVolume</th>\n",
       "      <th>OpenInterest</th>\n",
       "      <th>OpenRatio</th>\n",
       "      <th>OpenRatioModi</th>\n",
       "      <th>pnl</th>\n",
       "      <th>nextpnl</th>\n",
       "    </tr>\n",
       "  </thead>\n",
       "  <tbody>\n",
       "    <tr>\n",
       "      <th>count</th>\n",
       "      <td>3171.000000</td>\n",
       "      <td>3171.000000</td>\n",
       "      <td>3171.000000</td>\n",
       "      <td>3171.000000</td>\n",
       "      <td>3.171000e+03</td>\n",
       "      <td>3.171000e+03</td>\n",
       "      <td>3171.000000</td>\n",
       "      <td>3171.000000</td>\n",
       "      <td>3170.000000</td>\n",
       "      <td>3169.000000</td>\n",
       "    </tr>\n",
       "    <tr>\n",
       "      <th>mean</th>\n",
       "      <td>3357.800694</td>\n",
       "      <td>3362.613056</td>\n",
       "      <td>3353.180385</td>\n",
       "      <td>3358.086093</td>\n",
       "      <td>1.128805e+05</td>\n",
       "      <td>5.139076e+06</td>\n",
       "      <td>0.019778</td>\n",
       "      <td>0.002965</td>\n",
       "      <td>0.000098</td>\n",
       "      <td>0.000098</td>\n",
       "    </tr>\n",
       "    <tr>\n",
       "      <th>std</th>\n",
       "      <td>285.327727</td>\n",
       "      <td>285.770489</td>\n",
       "      <td>284.815376</td>\n",
       "      <td>285.373775</td>\n",
       "      <td>8.213829e+04</td>\n",
       "      <td>3.536161e+05</td>\n",
       "      <td>0.147034</td>\n",
       "      <td>0.018434</td>\n",
       "      <td>0.002195</td>\n",
       "      <td>0.002195</td>\n",
       "    </tr>\n",
       "    <tr>\n",
       "      <th>min</th>\n",
       "      <td>2899.000000</td>\n",
       "      <td>2904.000000</td>\n",
       "      <td>2896.000000</td>\n",
       "      <td>2898.000000</td>\n",
       "      <td>1.432800e+04</td>\n",
       "      <td>4.321780e+06</td>\n",
       "      <td>-0.544438</td>\n",
       "      <td>-0.082963</td>\n",
       "      <td>-0.014327</td>\n",
       "      <td>-0.014327</td>\n",
       "    </tr>\n",
       "    <tr>\n",
       "      <th>25%</th>\n",
       "      <td>3078.000000</td>\n",
       "      <td>3082.000000</td>\n",
       "      <td>3073.000000</td>\n",
       "      <td>3078.000000</td>\n",
       "      <td>5.873500e+04</td>\n",
       "      <td>4.881539e+06</td>\n",
       "      <td>-0.073298</td>\n",
       "      <td>-0.007404</td>\n",
       "      <td>-0.000899</td>\n",
       "      <td>-0.000899</td>\n",
       "    </tr>\n",
       "    <tr>\n",
       "      <th>50%</th>\n",
       "      <td>3389.000000</td>\n",
       "      <td>3394.000000</td>\n",
       "      <td>3383.000000</td>\n",
       "      <td>3389.000000</td>\n",
       "      <td>8.985600e+04</td>\n",
       "      <td>5.056540e+06</td>\n",
       "      <td>0.023282</td>\n",
       "      <td>0.003953</td>\n",
       "      <td>0.000000</td>\n",
       "      <td>0.000000</td>\n",
       "    </tr>\n",
       "    <tr>\n",
       "      <th>75%</th>\n",
       "      <td>3557.000000</td>\n",
       "      <td>3563.500000</td>\n",
       "      <td>3552.000000</td>\n",
       "      <td>3557.000000</td>\n",
       "      <td>1.418110e+05</td>\n",
       "      <td>5.498674e+06</td>\n",
       "      <td>0.116975</td>\n",
       "      <td>0.015436</td>\n",
       "      <td>0.001186</td>\n",
       "      <td>0.001184</td>\n",
       "    </tr>\n",
       "    <tr>\n",
       "      <th>max</th>\n",
       "      <td>4046.000000</td>\n",
       "      <td>4053.000000</td>\n",
       "      <td>4031.000000</td>\n",
       "      <td>4047.000000</td>\n",
       "      <td>1.083054e+06</td>\n",
       "      <td>6.036610e+06</td>\n",
       "      <td>0.505254</td>\n",
       "      <td>0.057268</td>\n",
       "      <td>0.043041</td>\n",
       "      <td>0.043041</td>\n",
       "    </tr>\n",
       "  </tbody>\n",
       "</table>\n",
       "</div>"
      ],
      "text/plain": [
       "              Open         High          Low        Close   TotalVolume  \\\n",
       "count  3171.000000  3171.000000  3171.000000  3171.000000  3.171000e+03   \n",
       "mean   3357.800694  3362.613056  3353.180385  3358.086093  1.128805e+05   \n",
       "std     285.327727   285.770489   284.815376   285.373775  8.213829e+04   \n",
       "min    2899.000000  2904.000000  2896.000000  2898.000000  1.432800e+04   \n",
       "25%    3078.000000  3082.000000  3073.000000  3078.000000  5.873500e+04   \n",
       "50%    3389.000000  3394.000000  3383.000000  3389.000000  8.985600e+04   \n",
       "75%    3557.000000  3563.500000  3552.000000  3557.000000  1.418110e+05   \n",
       "max    4046.000000  4053.000000  4031.000000  4047.000000  1.083054e+06   \n",
       "\n",
       "       OpenInterest    OpenRatio  OpenRatioModi          pnl      nextpnl  \n",
       "count  3.171000e+03  3171.000000    3171.000000  3170.000000  3169.000000  \n",
       "mean   5.139076e+06     0.019778       0.002965     0.000098     0.000098  \n",
       "std    3.536161e+05     0.147034       0.018434     0.002195     0.002195  \n",
       "min    4.321780e+06    -0.544438      -0.082963    -0.014327    -0.014327  \n",
       "25%    4.881539e+06    -0.073298      -0.007404    -0.000899    -0.000899  \n",
       "50%    5.056540e+06     0.023282       0.003953     0.000000     0.000000  \n",
       "75%    5.498674e+06     0.116975       0.015436     0.001186     0.001184  \n",
       "max    6.036610e+06     0.505254       0.057268     0.043041     0.043041  "
      ]
     },
     "execution_count": 57,
     "metadata": {},
     "output_type": "execute_result"
    }
   ],
   "source": [
    "dataClean.describe()"
   ]
  },
  {
   "cell_type": "code",
   "execution_count": 58,
   "metadata": {
    "collapsed": false,
    "deletable": true,
    "editable": true
   },
   "outputs": [
    {
     "data": {
      "text/plain": [
       "<matplotlib.axes._subplots.AxesSubplot at 0x39d50a20>"
      ]
     },
     "execution_count": 58,
     "metadata": {},
     "output_type": "execute_result"
    },
    {
     "data": {
      "image/png": "[encoded data removed]",
      "text/plain": [
       "<matplotlib.figure.Figure at 0x3a6a4f98>"
      ]
     },
     "metadata": {},
     "output_type": "display_data"
    }
   ],
   "source": [
    "dataClean[dataClean['OpenRatioModi'] > 0.023]['nextpnl'].hist()"
   ]
  },
  {
   "cell_type": "code",
   "execution_count": 59,
   "metadata": {
    "collapsed": false,
    "deletable": true,
    "editable": true
   },
   "outputs": [
    {
     "data": {
      "text/plain": [
       "9.831805191008507e-05"
      ]
     },
     "execution_count": 59,
     "metadata": {},
     "output_type": "execute_result"
    }
   ],
   "source": [
    "dataClean['pnl'].mean()"
   ]
  },
  {
   "cell_type": "code",
   "execution_count": 60,
   "metadata": {
    "collapsed": false,
    "deletable": true,
    "editable": true
   },
   "outputs": [
    {
     "data": {
      "text/plain": [
       "<matplotlib.legend.Legend at 0x3b3ee6d8>"
      ]
     },
     "execution_count": 60,
     "metadata": {},
     "output_type": "execute_result"
    },
    {
     "data": {
      "image/png": "[encoded data removed]",
      "text/plain": [
       "<matplotlib.figure.Figure at 0x39890f28>"
      ]
     },
     "metadata": {},
     "output_type": "display_data"
    }
   ],
   "source": [
    "# check the monotonity of pnl filtered by openRatio indicator in bullish market\n",
    "variation = []\n",
    "bullpnlMeanList = []\n",
    "bullpnlMedianList = []\n",
    "x_axis = np.linspace(0,0.03,50)\n",
    "for i in x_axis:\n",
    "    variation.append(i)\n",
    "    bullpnlMeanList.append(dataClean[dataClean['OpenRatioModi'] >= i]['pnl'].mean())\n",
    "    bullpnlMedianList.append(dataClean[dataClean['OpenRatioModi'] >= i]['pnl'].shape[0] / dataClean.shape[0])\n",
    "fig, (ax1,ax2) = plt.subplots(nrows=2,sharex=True,figsize=(16,10))\n",
    "ax1.plot(x_axis,bullpnlMeanList,'blue',label='pnlMean')\n",
    "ax2.plot(x_axis,bullpnlMedianList,'red',label='pnlMedian')\n",
    "ax1.legend()\n",
    "ax2.legend()"
   ]
  },
  {
   "cell_type": "markdown",
   "metadata": {
    "deletable": true,
    "editable": true
   },
   "source": [
    "新指标做多阈值大概为0.02(0.85左右的分位数)，做空为0.024(0.8的分位数),也可取（0.85的分位数0.0275）"
   ]
  },
  {
   "cell_type": "code",
   "execution_count": 61,
   "metadata": {
    "collapsed": false,
    "deletable": true,
    "editable": true
   },
   "outputs": [
    {
     "data": {
      "text/plain": [
       "array([ 0.16270045,  0.23009319,  0.28180545,  0.32540091])"
      ]
     },
     "execution_count": 61,
     "metadata": {},
     "output_type": "execute_result"
    }
   ],
   "source": [
    "np.sqrt(np.array([1,2,3,4]))/np.sqrt(np.array([1,2,3,4])).sum()"
   ]
  },
  {
   "cell_type": "code",
   "execution_count": 62,
   "metadata": {
    "collapsed": false,
    "deletable": true,
    "editable": true
   },
   "outputs": [
    {
     "data": {
      "text/plain": [
       "<matplotlib.axes._subplots.AxesSubplot at 0x388997b8>"
      ]
     },
     "execution_count": 62,
     "metadata": {},
     "output_type": "execute_result"
    },
    {
     "data": {
      "image/png": "[encoded data removed]",
      "text/plain": [
       "<matplotlib.figure.Figure at 0x3c1aafd0>"
      ]
     },
     "metadata": {},
     "output_type": "display_data"
    }
   ],
   "source": [
    "dataClean['OpenRatio'].hist()"
   ]
  },
  {
   "cell_type": "code",
   "execution_count": 63,
   "metadata": {
    "collapsed": false,
    "deletable": true,
    "editable": true
   },
   "outputs": [
    {
     "data": {
      "text/plain": [
       "<matplotlib.axes._subplots.AxesSubplot at 0x3eef44a8>"
      ]
     },
     "execution_count": 63,
     "metadata": {},
     "output_type": "execute_result"
    },
    {
     "data": {
      "image/png": "[encoded data removed]",
      "text/plain": [
       "<matplotlib.figure.Figure at 0x3ef184a8>"
      ]
     },
     "metadata": {},
     "output_type": "display_data"
    }
   ],
   "source": [
    "dataClean['OpenRatioModi'].hist()"
   ]
  },
  {
   "cell_type": "code",
   "execution_count": 64,
   "metadata": {
    "collapsed": false,
    "deletable": true,
    "editable": true
   },
   "outputs": [
    {
     "name": "stdout",
     "output_type": "stream",
     "text": [
      "0.419395782663\n",
      "0.229712530687\n",
      "0.350891686651\n"
     ]
    }
   ],
   "source": [
    "a,b,c = 10000,3000,7000\n",
    "print np.sqrt(a) / (np.sqrt(a)+np.sqrt(b)+np.sqrt(c))\n",
    "print np.sqrt(b) / (np.sqrt(a)+np.sqrt(b)+np.sqrt(c))\n",
    "print np.sqrt(c) / (np.sqrt(a)+np.sqrt(b)+np.sqrt(c))"
   ]
  },
  {
   "cell_type": "code",
   "execution_count": 65,
   "metadata": {
    "collapsed": false,
    "deletable": true,
    "editable": true
   },
   "outputs": [
    {
     "name": "stdout",
     "output_type": "stream",
     "text": [
      "0.5\n",
      "0.166666666667\n",
      "0.333333333333\n"
     ]
    }
   ],
   "source": [
    "print 3/(1+2+3)\n",
    "print 1/(1+2+3)\n",
    "print 2/(1+2+3)"
   ]
  },
  {
   "cell_type": "code",
   "execution_count": 66,
   "metadata": {
    "collapsed": false,
    "deletable": true,
    "editable": true
   },
   "outputs": [
    {
     "name": "stdout",
     "output_type": "stream",
     "text": [
      "0.353287628147\n",
      "0.307105980215\n",
      "0.339606391638\n"
     ]
    }
   ],
   "source": [
    "print np.log10(a) / (np.log10(a)+np.log10(b)+np.log10(c))\n",
    "print np.log10(b) / (np.log10(a)+np.log10(b)+np.log10(c))\n",
    "print np.log10(c) / (np.log10(a)+np.log10(b)+np.log10(c))"
   ]
  },
  {
   "cell_type": "code",
   "execution_count": 67,
   "metadata": {
    "collapsed": false,
    "deletable": true,
    "editable": true
   },
   "outputs": [
    {
     "name": "stdout",
     "output_type": "stream",
     "text": [
      "0.353287628147\n",
      "0.307105980215\n",
      "0.339606391638\n"
     ]
    }
   ],
   "source": [
    "print np.log(a) / (np.log(a)+np.log(b)+np.log(c))\n",
    "print np.log(b) / (np.log(a)+np.log(b)+np.log(c))\n",
    "print np.log(c) / (np.log(a)+np.log(b)+np.log(c))"
   ]
  },
  {
   "cell_type": "code",
   "execution_count": null,
   "metadata": {
    "collapsed": false,
    "deletable": true,
    "editable": true
   },
   "outputs": [],
   "source": []
  },
  {
   "cell_type": "code",
   "execution_count": 68,
   "metadata": {
    "collapsed": false,
    "deletable": true,
    "editable": true,
    "scrolled": true
   },
   "outputs": [
    {
     "ename": "AttributeError",
     "evalue": "'Timestamp' object has no attribute 'datetime'",
     "output_type": "error",
     "traceback": [
      "\u001b[0;31m---------------------------------------------------------------------------\u001b[0m",
      "\u001b[0;31mAttributeError\u001b[0m                            Traceback (most recent call last)",
      "\u001b[0;32m<ipython-input-68-3d74d212e0e0>\u001b[0m in \u001b[0;36m<module>\u001b[0;34m()\u001b[0m\n\u001b[1;32m      2\u001b[0m \u001b[0mdataIndice\u001b[0m \u001b[1;33m=\u001b[0m \u001b[0mdata\u001b[0m\u001b[1;33m.\u001b[0m\u001b[0mloc\u001b[0m\u001b[1;33m[\u001b[0m\u001b[0mstartTime\u001b[0m\u001b[1;33m:\u001b[0m\u001b[1;33m]\u001b[0m\u001b[1;33m\u001b[0m\u001b[0m\n\u001b[1;32m      3\u001b[0m \u001b[1;32mfor\u001b[0m \u001b[0mindex\u001b[0m\u001b[1;33m,\u001b[0m \u001b[0mrow\u001b[0m \u001b[1;32min\u001b[0m \u001b[0mdataIndice\u001b[0m\u001b[1;33m.\u001b[0m\u001b[0miterrows\u001b[0m\u001b[1;33m(\u001b[0m\u001b[1;33m)\u001b[0m\u001b[1;33m:\u001b[0m\u001b[1;33m\u001b[0m\u001b[0m\n\u001b[0;32m----> 4\u001b[0;31m     \u001b[1;32mif\u001b[0m \u001b[1;33m(\u001b[0m\u001b[0mindex\u001b[0m\u001b[1;33m.\u001b[0m\u001b[0mdatetime\u001b[0m\u001b[1;33m.\u001b[0m\u001b[0mminute\u001b[0m\u001b[1;33m+\u001b[0m\u001b[1;36m1\u001b[0m\u001b[1;33m)\u001b[0m \u001b[1;33m%\u001b[0m \u001b[1;36m5\u001b[0m \u001b[1;33m==\u001b[0m\u001b[1;36m0\u001b[0m\u001b[1;33m:\u001b[0m\u001b[1;33m\u001b[0m\u001b[0m\n\u001b[0m\u001b[1;32m      5\u001b[0m         \u001b[1;32mif\u001b[0m \u001b[0mfiveBar\u001b[0m\u001b[1;33m:\u001b[0m\u001b[1;33m\u001b[0m\u001b[0m\n\u001b[1;32m      6\u001b[0m             \u001b[0mfiveBar\u001b[0m \u001b[1;33m=\u001b[0m \u001b[0mfiveBar\u001b[0m\u001b[1;33m\u001b[0m\u001b[0m\n",
      "\u001b[0;31mAttributeError\u001b[0m: 'Timestamp' object has no attribute 'datetime'"
     ]
    }
   ],
   "source": [
    "# modify data by customized method\n",
    "dataIndice = data.loc[startTime:]\n",
    "for index, row in dataIndice.iterrows():\n",
    "    if (index.datetime.minute+1) % 5 ==0:\n",
    "        if fiveBar:\n",
    "            fiveBar = fiveBar\n",
    "            fiveBar.high = max(fiveBar.high, row['High'])\n",
    "            fiveBar.low = min(fiveBar.low, row['Low'])\n",
    "            fiveBar.close = row['Close']\n",
    "            fiveBar.open = row['Open']\n",
    "            fiveBar.volume+= row['Volume']\n",
    "            fiveBar.openInterest = row['OpenInterest']\n",
    "            fiveBar.openRatio = row['OpenRatio']\n",
    "            # your rule to clean data\n",
    "            fiveBar = None\n",
    "    else:\n",
    "        if not fiveBar:\n",
    "            fiveBar = BarData()\n",
    "            fiveBar.high = row['High']\n",
    "            fiveBar.low =  row['Low']\n",
    "            fiveBar.open = row['Open']\n",
    "            fiveBar.close = row['Close']\n",
    "            fiveBar.volume= row['Volume']\n",
    "            fiveBar.openInterest = row['OpenInterest']\n",
    "            fiveBar.openRatio = row['OpenRatio']\n",
    "            \n",
    "            fiveBar.date = index.date\n",
    "            fiveBar.time = index.time\n",
    "            fiveBar.datetime = index.datetime\n",
    "        else:\n",
    "            fiveBar = fiveBar\n",
    "            fiveBar.high = max(fiveBar.high,row['High'])\n",
    "            fiveBar.low = min(fiveBar.low, row['Low'])\n",
    "            fiveBar.close = row['Close']\n",
    "            fiveBar.open = row['Open']\n",
    "            fiveBar.volume+= row['Volume']\n",
    "            fiveBar.openInterest = row['OpenInterest']\n",
    "            fiveBar.openRatio = row['OpenRatio']"
   ]
  },
  {
   "cell_type": "code",
   "execution_count": 69,
   "metadata": {
    "collapsed": false,
    "deletable": true,
    "editable": true
   },
   "outputs": [],
   "source": [
    "c = data.loc[startTime:].groupby(pd.TimeGrouper(freq='5Min'))"
   ]
  },
  {
   "cell_type": "code",
   "execution_count": 70,
   "metadata": {
    "collapsed": false,
    "deletable": true,
    "editable": true
   },
   "outputs": [],
   "source": [
    "nlarge = c['TotalVolume'].nlargest()"
   ]
  },
  {
   "cell_type": "code",
   "execution_count": 71,
   "metadata": {
    "collapsed": false,
    "deletable": true,
    "editable": true
   },
   "outputs": [
    {
     "data": {
      "text/plain": [
       "2016-10-10 09:00:00  2016-10-10 09:00:00    152124\n",
       "                     2016-10-10 09:03:00     58238\n",
       "                     2016-10-10 09:01:00     56340\n",
       "                     2016-10-10 09:02:00     46010\n",
       "                     2016-10-10 09:04:00     27602\n",
       "2016-10-10 09:05:00  2016-10-10 09:08:00     93250\n",
       "                     2016-10-10 09:09:00     86728\n",
       "                     2016-10-10 09:07:00     56208\n",
       "                     2016-10-10 09:05:00     36690\n",
       "                     2016-10-10 09:06:00     34316\n",
       "2016-10-10 09:10:00  2016-10-10 09:10:00    126300\n",
       "                     2016-10-10 09:11:00     67616\n",
       "                     2016-10-10 09:12:00     39392\n",
       "                     2016-10-10 09:14:00     27860\n",
       "                     2016-10-10 09:13:00     27846\n",
       "2016-10-10 09:15:00  2016-10-10 09:15:00     48790\n",
       "                     2016-10-10 09:18:00     29964\n",
       "                     2016-10-10 09:16:00     26416\n",
       "                     2016-10-10 09:19:00     18350\n",
       "                     2016-10-10 09:17:00     13622\n",
       "2016-10-10 09:20:00  2016-10-10 09:24:00     35088\n",
       "                     2016-10-10 09:23:00     23732\n",
       "                     2016-10-10 09:22:00     17492\n",
       "                     2016-10-10 09:20:00     15818\n",
       "                     2016-10-10 09:21:00     13044\n",
       "2016-10-10 09:25:00  2016-10-10 09:29:00     34494\n",
       "                     2016-10-10 09:25:00     23260\n",
       "                     2016-10-10 09:27:00     16558\n",
       "                     2016-10-10 09:28:00     15480\n",
       "                     2016-10-10 09:26:00     13830\n",
       "2016-10-10 09:30:00  2016-10-10 09:30:00     23802\n",
       "                     2016-10-10 09:32:00     15850\n",
       "                     2016-10-10 09:34:00     11180\n",
       "                     2016-10-10 09:33:00     10260\n",
       "                     2016-10-10 09:31:00      8344\n",
       "2016-10-10 09:35:00  2016-10-10 09:36:00     17500\n",
       "                     2016-10-10 09:39:00     11758\n",
       "                     2016-10-10 09:38:00     10268\n",
       "                     2016-10-10 09:37:00      8110\n",
       "                     2016-10-10 09:35:00      7096\n",
       "2016-10-10 09:40:00  2016-10-10 09:43:00     13968\n",
       "                     2016-10-10 09:42:00     10952\n",
       "                     2016-10-10 09:44:00      8502\n",
       "                     2016-10-10 09:41:00      7316\n",
       "                     2016-10-10 09:40:00      4702\n",
       "2016-10-10 09:45:00  2016-10-10 09:48:00     18338\n",
       "                     2016-10-10 09:49:00     15968\n",
       "                     2016-10-10 09:45:00     14058\n",
       "                     2016-10-10 09:46:00      4910\n",
       "                     2016-10-10 09:47:00      3884\n",
       "Name: TotalVolume, dtype: int64"
      ]
     },
     "execution_count": 71,
     "metadata": {},
     "output_type": "execute_result"
    }
   ],
   "source": [
    "nlarge.iloc[:50]"
   ]
  },
  {
   "cell_type": "code",
   "execution_count": 72,
   "metadata": {
    "collapsed": false,
    "deletable": true,
    "editable": true,
    "scrolled": true
   },
   "outputs": [
    {
     "data": {
      "text/plain": [
       "count    115342.000000\n",
       "mean         -0.003659\n",
       "std           0.141564\n",
       "min          -0.962924\n",
       "25%          -0.079623\n",
       "50%           0.005921\n",
       "75%           0.084264\n",
       "max           0.770955\n",
       "Name: OpenRatio, dtype: float64"
      ]
     },
     "execution_count": 72,
     "metadata": {},
     "output_type": "execute_result"
    }
   ],
   "source": [
    "# Rescale openratio by the rank of Volume corresponding trading minute. e.g.Weighing the Open ratio by the order of total volume.\n",
    "a = c['TotalVolume'].rank()/15 * data['OpenRatio']  \n",
    "dataslice = data.loc[a.index]\n",
    "dataslice['ModiOR'] = a\n",
    "dataslice.groupby(pd.TimeGrouper(freq='5Min'))['OpenRatio'].mean().dropna().describe()"
   ]
  },
  {
   "cell_type": "code",
   "execution_count": 73,
   "metadata": {
    "collapsed": false,
    "deletable": true,
    "editable": true
   },
   "outputs": [
    {
     "data": {
      "text/plain": [
       "<matplotlib.axes._subplots.AxesSubplot at 0x42d67048>"
      ]
     },
     "execution_count": 73,
     "metadata": {},
     "output_type": "execute_result"
    },
    {
     "data": {
      "image/png": "[encoded data removed]",
      "text/plain": [
       "<matplotlib.figure.Figure at 0x3d0b45f8>"
      ]
     },
     "metadata": {},
     "output_type": "display_data"
    }
   ],
   "source": [
    "dataslice.groupby(pd.TimeGrouper(freq='5Min'))['OpenRatio'].mean().dropna().hist()"
   ]
  },
  {
   "cell_type": "code",
   "execution_count": 74,
   "metadata": {
    "collapsed": false,
    "deletable": true,
    "editable": true
   },
   "outputs": [
    {
     "data": {
      "text/plain": [
       "0.12726867627939592"
      ]
     },
     "execution_count": 74,
     "metadata": {},
     "output_type": "execute_result"
    }
   ],
   "source": [
    "dataModi = dataslice.groupby(pd.TimeGrouper(freq='5Min'))['OpenRatio'].mean().dropna()\n",
    "dataModi.quantile(0.85)"
   ]
  },
  {
   "cell_type": "code",
   "execution_count": 75,
   "metadata": {
    "collapsed": true,
    "deletable": true,
    "editable": true
   },
   "outputs": [],
   "source": [
    "def resample_data(data,period='5Min'):\n",
    "    # 将一分钟线聚合为5分钟线\n",
    "    databy5min = pd.DataFrame()\n",
    "    groupgenerator = data.groupby(pd.TimeGrouper(freq=period))\n",
    "    databy5min['Open'] = groupgenerator['Open'].first()\n",
    "    databy5min['High'] = groupgenerator['High'].max()\n",
    "    databy5min['Low'] = groupgenerator['Low'].min()\n",
    "    databy5min['Close'] = groupgenerator['Close'].last()\n",
    "    databy5min['TotalVolume'] = groupgenerator['TotalVolume'].sum()\n",
    "    databy5min['OpenInterest'] = groupgenerator['OpenInterest'].last()\n",
    "    databy5min.dropna(axis=0,inplace = True)\n",
    "    return databy5min"
   ]
  },
  {
   "cell_type": "code",
   "execution_count": 76,
   "metadata": {
    "collapsed": true,
    "deletable": true,
    "editable": true
   },
   "outputs": [],
   "source": [
    "dfResampled = resample_data(data)"
   ]
  },
  {
   "cell_type": "code",
   "execution_count": 77,
   "metadata": {
    "collapsed": false,
    "deletable": true,
    "editable": true
   },
   "outputs": [],
   "source": [
    "dfResampled['OpenRatio'] = (dfResampled['OpenInterest'] - dfResampled['OpenInterest'].shift(1)) / dfResampled['TotalVolume']\n",
    "dfResampled['WeightedOpenRatio'] = (dfResampled['OpenInterest'] - dfResampled['OpenInterest'].shift(1)) / np.sqrt(dfResampled['TotalVolume'])\n",
    "dfResampled['pnl'] = dfResampled['Close'].pct_change()"
   ]
  },
  {
   "cell_type": "code",
   "execution_count": 78,
   "metadata": {
    "collapsed": false,
    "deletable": true,
    "editable": true
   },
   "outputs": [
    {
     "name": "stderr",
     "output_type": "stream",
     "text": [
      "c:\\python27\\lib\\site-packages\\ipykernel\\__main__.py:2: SettingWithCopyWarning: \n",
      "A value is trying to be set on a copy of a slice from a DataFrame.\n",
      "Try using .loc[row_indexer,col_indexer] = value instead\n",
      "\n",
      "See the caveats in the documentation: http://pandas.pydata.org/pandas-docs/stable/indexing.html#indexing-view-versus-copy\n",
      "  from ipykernel import kernelapp as app\n"
     ]
    }
   ],
   "source": [
    "sampleSurge= dfResampled.loc[startTimeSurge:endTimeSurge]\n",
    "sampleSurge['nextpnl'] = sampleSurge['pnl'].shift(-1)"
   ]
  },
  {
   "cell_type": "code",
   "execution_count": 79,
   "metadata": {
    "collapsed": false,
    "deletable": true,
    "editable": true
   },
   "outputs": [
    {
     "data": {
      "text/html": [
       "<div>\n",
       "<style>\n",
       "    .dataframe thead tr:only-child th {\n",
       "        text-align: right;\n",
       "    }\n",
       "\n",
       "    .dataframe thead th {\n",
       "        text-align: left;\n",
       "    }\n",
       "\n",
       "    .dataframe tbody tr th {\n",
       "        vertical-align: top;\n",
       "    }\n",
       "</style>\n",
       "<table border=\"1\" class=\"dataframe\">\n",
       "  <thead>\n",
       "    <tr style=\"text-align: right;\">\n",
       "      <th></th>\n",
       "      <th>Open</th>\n",
       "      <th>High</th>\n",
       "      <th>Low</th>\n",
       "      <th>Close</th>\n",
       "      <th>TotalVolume</th>\n",
       "      <th>OpenInterest</th>\n",
       "      <th>OpenRatio</th>\n",
       "      <th>WeightedOpenRatio</th>\n",
       "      <th>pnl</th>\n",
       "      <th>nextpnl</th>\n",
       "    </tr>\n",
       "  </thead>\n",
       "  <tbody>\n",
       "    <tr>\n",
       "      <th>2017-06-06 09:00:00</th>\n",
       "      <td>2905.0</td>\n",
       "      <td>2912.0</td>\n",
       "      <td>2901.0</td>\n",
       "      <td>2910.0</td>\n",
       "      <td>149516.0</td>\n",
       "      <td>5106840.0</td>\n",
       "      <td>-0.032558</td>\n",
       "      <td>-12.589449</td>\n",
       "      <td>0.003794</td>\n",
       "      <td>0.000344</td>\n",
       "    </tr>\n",
       "    <tr>\n",
       "      <th>2017-06-06 09:05:00</th>\n",
       "      <td>2910.0</td>\n",
       "      <td>2918.0</td>\n",
       "      <td>2910.0</td>\n",
       "      <td>2911.0</td>\n",
       "      <td>156324.0</td>\n",
       "      <td>5105254.0</td>\n",
       "      <td>-0.010146</td>\n",
       "      <td>-4.011348</td>\n",
       "      <td>0.000344</td>\n",
       "      <td>-0.001718</td>\n",
       "    </tr>\n",
       "    <tr>\n",
       "      <th>2017-06-06 09:10:00</th>\n",
       "      <td>2912.0</td>\n",
       "      <td>2912.0</td>\n",
       "      <td>2905.0</td>\n",
       "      <td>2906.0</td>\n",
       "      <td>82338.0</td>\n",
       "      <td>5102344.0</td>\n",
       "      <td>-0.035342</td>\n",
       "      <td>-10.141281</td>\n",
       "      <td>-0.001718</td>\n",
       "      <td>0.003097</td>\n",
       "    </tr>\n",
       "    <tr>\n",
       "      <th>2017-06-06 09:15:00</th>\n",
       "      <td>2906.0</td>\n",
       "      <td>2917.0</td>\n",
       "      <td>2906.0</td>\n",
       "      <td>2915.0</td>\n",
       "      <td>85270.0</td>\n",
       "      <td>5108550.0</td>\n",
       "      <td>0.072781</td>\n",
       "      <td>21.252677</td>\n",
       "      <td>0.003097</td>\n",
       "      <td>0.000343</td>\n",
       "    </tr>\n",
       "    <tr>\n",
       "      <th>2017-06-06 09:20:00</th>\n",
       "      <td>2916.0</td>\n",
       "      <td>2922.0</td>\n",
       "      <td>2912.0</td>\n",
       "      <td>2916.0</td>\n",
       "      <td>129160.0</td>\n",
       "      <td>5109646.0</td>\n",
       "      <td>0.008486</td>\n",
       "      <td>3.049626</td>\n",
       "      <td>0.000343</td>\n",
       "      <td>-0.000686</td>\n",
       "    </tr>\n",
       "    <tr>\n",
       "      <th>2017-06-06 09:25:00</th>\n",
       "      <td>2916.0</td>\n",
       "      <td>2917.0</td>\n",
       "      <td>2912.0</td>\n",
       "      <td>2914.0</td>\n",
       "      <td>45494.0</td>\n",
       "      <td>5109714.0</td>\n",
       "      <td>0.001495</td>\n",
       "      <td>0.318810</td>\n",
       "      <td>-0.000686</td>\n",
       "      <td>-0.002059</td>\n",
       "    </tr>\n",
       "    <tr>\n",
       "      <th>2017-06-06 09:30:00</th>\n",
       "      <td>2914.0</td>\n",
       "      <td>2914.0</td>\n",
       "      <td>2907.0</td>\n",
       "      <td>2908.0</td>\n",
       "      <td>67542.0</td>\n",
       "      <td>5107228.0</td>\n",
       "      <td>-0.036807</td>\n",
       "      <td>-9.565643</td>\n",
       "      <td>-0.002059</td>\n",
       "      <td>0.002407</td>\n",
       "    </tr>\n",
       "    <tr>\n",
       "      <th>2017-06-06 09:35:00</th>\n",
       "      <td>2909.0</td>\n",
       "      <td>2917.0</td>\n",
       "      <td>2908.0</td>\n",
       "      <td>2915.0</td>\n",
       "      <td>44616.0</td>\n",
       "      <td>5115958.0</td>\n",
       "      <td>0.195670</td>\n",
       "      <td>41.330335</td>\n",
       "      <td>0.002407</td>\n",
       "      <td>0.000343</td>\n",
       "    </tr>\n",
       "    <tr>\n",
       "      <th>2017-06-06 09:40:00</th>\n",
       "      <td>2915.0</td>\n",
       "      <td>2920.0</td>\n",
       "      <td>2915.0</td>\n",
       "      <td>2916.0</td>\n",
       "      <td>84156.0</td>\n",
       "      <td>5118780.0</td>\n",
       "      <td>0.033533</td>\n",
       "      <td>9.727796</td>\n",
       "      <td>0.000343</td>\n",
       "      <td>0.002743</td>\n",
       "    </tr>\n",
       "    <tr>\n",
       "      <th>2017-06-06 09:45:00</th>\n",
       "      <td>2916.0</td>\n",
       "      <td>2925.0</td>\n",
       "      <td>2916.0</td>\n",
       "      <td>2924.0</td>\n",
       "      <td>131376.0</td>\n",
       "      <td>5104672.0</td>\n",
       "      <td>-0.107386</td>\n",
       "      <td>-38.923101</td>\n",
       "      <td>0.002743</td>\n",
       "      <td>-0.001368</td>\n",
       "    </tr>\n",
       "    <tr>\n",
       "      <th>2017-06-06 09:50:00</th>\n",
       "      <td>2924.0</td>\n",
       "      <td>2926.0</td>\n",
       "      <td>2919.0</td>\n",
       "      <td>2920.0</td>\n",
       "      <td>95916.0</td>\n",
       "      <td>5088878.0</td>\n",
       "      <td>-0.164665</td>\n",
       "      <td>-50.997232</td>\n",
       "      <td>-0.001368</td>\n",
       "      <td>-0.000342</td>\n",
       "    </tr>\n",
       "    <tr>\n",
       "      <th>2017-06-06 09:55:00</th>\n",
       "      <td>2921.0</td>\n",
       "      <td>2923.0</td>\n",
       "      <td>2917.0</td>\n",
       "      <td>2919.0</td>\n",
       "      <td>54328.0</td>\n",
       "      <td>5083898.0</td>\n",
       "      <td>-0.091665</td>\n",
       "      <td>-21.365718</td>\n",
       "      <td>-0.000342</td>\n",
       "      <td>0.003426</td>\n",
       "    </tr>\n",
       "    <tr>\n",
       "      <th>2017-06-06 10:00:00</th>\n",
       "      <td>2918.0</td>\n",
       "      <td>2930.0</td>\n",
       "      <td>2918.0</td>\n",
       "      <td>2929.0</td>\n",
       "      <td>109304.0</td>\n",
       "      <td>5078028.0</td>\n",
       "      <td>-0.053703</td>\n",
       "      <td>-17.754975</td>\n",
       "      <td>0.003426</td>\n",
       "      <td>-0.000683</td>\n",
       "    </tr>\n",
       "    <tr>\n",
       "      <th>2017-06-06 10:05:00</th>\n",
       "      <td>2929.0</td>\n",
       "      <td>2933.0</td>\n",
       "      <td>2924.0</td>\n",
       "      <td>2927.0</td>\n",
       "      <td>107708.0</td>\n",
       "      <td>5088864.0</td>\n",
       "      <td>0.100605</td>\n",
       "      <td>33.017563</td>\n",
       "      <td>-0.000683</td>\n",
       "      <td>0.000342</td>\n",
       "    </tr>\n",
       "    <tr>\n",
       "      <th>2017-06-06 10:10:00</th>\n",
       "      <td>2927.0</td>\n",
       "      <td>2935.0</td>\n",
       "      <td>2926.0</td>\n",
       "      <td>2928.0</td>\n",
       "      <td>119720.0</td>\n",
       "      <td>5094984.0</td>\n",
       "      <td>0.051119</td>\n",
       "      <td>17.687566</td>\n",
       "      <td>0.000342</td>\n",
       "      <td>0.001708</td>\n",
       "    </tr>\n",
       "    <tr>\n",
       "      <th>2017-06-06 10:30:00</th>\n",
       "      <td>2927.0</td>\n",
       "      <td>2936.0</td>\n",
       "      <td>2927.0</td>\n",
       "      <td>2933.0</td>\n",
       "      <td>89526.0</td>\n",
       "      <td>5101126.0</td>\n",
       "      <td>0.068606</td>\n",
       "      <td>20.527460</td>\n",
       "      <td>0.001708</td>\n",
       "      <td>0.000000</td>\n",
       "    </tr>\n",
       "    <tr>\n",
       "      <th>2017-06-06 10:35:00</th>\n",
       "      <td>2933.0</td>\n",
       "      <td>2938.0</td>\n",
       "      <td>2931.0</td>\n",
       "      <td>2933.0</td>\n",
       "      <td>93524.0</td>\n",
       "      <td>5109350.0</td>\n",
       "      <td>0.087935</td>\n",
       "      <td>26.891905</td>\n",
       "      <td>0.000000</td>\n",
       "      <td>0.000000</td>\n",
       "    </tr>\n",
       "    <tr>\n",
       "      <th>2017-06-06 10:40:00</th>\n",
       "      <td>2933.0</td>\n",
       "      <td>2934.0</td>\n",
       "      <td>2930.0</td>\n",
       "      <td>2933.0</td>\n",
       "      <td>68646.0</td>\n",
       "      <td>5109372.0</td>\n",
       "      <td>0.000320</td>\n",
       "      <td>0.083968</td>\n",
       "      <td>0.000000</td>\n",
       "      <td>-0.002046</td>\n",
       "    </tr>\n",
       "    <tr>\n",
       "      <th>2017-06-06 10:45:00</th>\n",
       "      <td>2933.0</td>\n",
       "      <td>2933.0</td>\n",
       "      <td>2926.0</td>\n",
       "      <td>2927.0</td>\n",
       "      <td>84448.0</td>\n",
       "      <td>5093664.0</td>\n",
       "      <td>-0.186008</td>\n",
       "      <td>-54.053797</td>\n",
       "      <td>-0.002046</td>\n",
       "      <td>-0.002050</td>\n",
       "    </tr>\n",
       "    <tr>\n",
       "      <th>2017-06-06 10:50:00</th>\n",
       "      <td>2927.0</td>\n",
       "      <td>2928.0</td>\n",
       "      <td>2921.0</td>\n",
       "      <td>2921.0</td>\n",
       "      <td>93548.0</td>\n",
       "      <td>5084136.0</td>\n",
       "      <td>-0.101851</td>\n",
       "      <td>-31.151897</td>\n",
       "      <td>-0.002050</td>\n",
       "      <td>0.000685</td>\n",
       "    </tr>\n",
       "    <tr>\n",
       "      <th>2017-06-06 10:55:00</th>\n",
       "      <td>2921.0</td>\n",
       "      <td>2926.0</td>\n",
       "      <td>2921.0</td>\n",
       "      <td>2923.0</td>\n",
       "      <td>56942.0</td>\n",
       "      <td>5084738.0</td>\n",
       "      <td>0.010572</td>\n",
       "      <td>2.522784</td>\n",
       "      <td>0.000685</td>\n",
       "      <td>-0.001368</td>\n",
       "    </tr>\n",
       "    <tr>\n",
       "      <th>2017-06-06 11:00:00</th>\n",
       "      <td>2923.0</td>\n",
       "      <td>2925.0</td>\n",
       "      <td>2917.0</td>\n",
       "      <td>2919.0</td>\n",
       "      <td>111664.0</td>\n",
       "      <td>5074488.0</td>\n",
       "      <td>-0.091793</td>\n",
       "      <td>-30.673778</td>\n",
       "      <td>-0.001368</td>\n",
       "      <td>-0.001713</td>\n",
       "    </tr>\n",
       "    <tr>\n",
       "      <th>2017-06-06 11:05:00</th>\n",
       "      <td>2919.0</td>\n",
       "      <td>2921.0</td>\n",
       "      <td>2913.0</td>\n",
       "      <td>2914.0</td>\n",
       "      <td>93068.0</td>\n",
       "      <td>5070304.0</td>\n",
       "      <td>-0.044956</td>\n",
       "      <td>-13.714863</td>\n",
       "      <td>-0.001713</td>\n",
       "      <td>-0.000343</td>\n",
       "    </tr>\n",
       "    <tr>\n",
       "      <th>2017-06-06 11:10:00</th>\n",
       "      <td>2913.0</td>\n",
       "      <td>2916.0</td>\n",
       "      <td>2912.0</td>\n",
       "      <td>2913.0</td>\n",
       "      <td>92330.0</td>\n",
       "      <td>5077764.0</td>\n",
       "      <td>0.080797</td>\n",
       "      <td>24.550900</td>\n",
       "      <td>-0.000343</td>\n",
       "      <td>0.002403</td>\n",
       "    </tr>\n",
       "    <tr>\n",
       "      <th>2017-06-06 11:15:00</th>\n",
       "      <td>2911.0</td>\n",
       "      <td>2922.0</td>\n",
       "      <td>2911.0</td>\n",
       "      <td>2920.0</td>\n",
       "      <td>83476.0</td>\n",
       "      <td>5073468.0</td>\n",
       "      <td>-0.051464</td>\n",
       "      <td>-14.869058</td>\n",
       "      <td>0.002403</td>\n",
       "      <td>0.002397</td>\n",
       "    </tr>\n",
       "    <tr>\n",
       "      <th>2017-06-06 11:20:00</th>\n",
       "      <td>2920.0</td>\n",
       "      <td>2930.0</td>\n",
       "      <td>2919.0</td>\n",
       "      <td>2927.0</td>\n",
       "      <td>97420.0</td>\n",
       "      <td>5066244.0</td>\n",
       "      <td>-0.074153</td>\n",
       "      <td>-23.144813</td>\n",
       "      <td>0.002397</td>\n",
       "      <td>0.003758</td>\n",
       "    </tr>\n",
       "    <tr>\n",
       "      <th>2017-06-06 11:25:00</th>\n",
       "      <td>2927.0</td>\n",
       "      <td>2939.0</td>\n",
       "      <td>2925.0</td>\n",
       "      <td>2938.0</td>\n",
       "      <td>194176.0</td>\n",
       "      <td>5068974.0</td>\n",
       "      <td>0.014059</td>\n",
       "      <td>6.195336</td>\n",
       "      <td>0.003758</td>\n",
       "      <td>-0.002383</td>\n",
       "    </tr>\n",
       "    <tr>\n",
       "      <th>2017-06-06 13:30:00</th>\n",
       "      <td>2940.0</td>\n",
       "      <td>2941.0</td>\n",
       "      <td>2929.0</td>\n",
       "      <td>2931.0</td>\n",
       "      <td>139344.0</td>\n",
       "      <td>5064086.0</td>\n",
       "      <td>-0.035079</td>\n",
       "      <td>-13.094444</td>\n",
       "      <td>-0.002383</td>\n",
       "      <td>-0.001706</td>\n",
       "    </tr>\n",
       "    <tr>\n",
       "      <th>2017-06-06 13:35:00</th>\n",
       "      <td>2930.0</td>\n",
       "      <td>2932.0</td>\n",
       "      <td>2925.0</td>\n",
       "      <td>2926.0</td>\n",
       "      <td>100236.0</td>\n",
       "      <td>5053532.0</td>\n",
       "      <td>-0.105292</td>\n",
       "      <td>-33.335366</td>\n",
       "      <td>-0.001706</td>\n",
       "      <td>0.002392</td>\n",
       "    </tr>\n",
       "    <tr>\n",
       "      <th>2017-06-06 13:40:00</th>\n",
       "      <td>2926.0</td>\n",
       "      <td>2936.0</td>\n",
       "      <td>2925.0</td>\n",
       "      <td>2933.0</td>\n",
       "      <td>92494.0</td>\n",
       "      <td>5053974.0</td>\n",
       "      <td>0.004779</td>\n",
       "      <td>1.453334</td>\n",
       "      <td>0.002392</td>\n",
       "      <td>0.001364</td>\n",
       "    </tr>\n",
       "    <tr>\n",
       "      <th>...</th>\n",
       "      <td>...</td>\n",
       "      <td>...</td>\n",
       "      <td>...</td>\n",
       "      <td>...</td>\n",
       "      <td>...</td>\n",
       "      <td>...</td>\n",
       "      <td>...</td>\n",
       "      <td>...</td>\n",
       "      <td>...</td>\n",
       "      <td>...</td>\n",
       "    </tr>\n",
       "    <tr>\n",
       "      <th>2017-08-08 14:30:00</th>\n",
       "      <td>3936.0</td>\n",
       "      <td>3940.0</td>\n",
       "      <td>3925.0</td>\n",
       "      <td>3926.0</td>\n",
       "      <td>143960.0</td>\n",
       "      <td>4398022.0</td>\n",
       "      <td>0.019811</td>\n",
       "      <td>7.516724</td>\n",
       "      <td>-0.002794</td>\n",
       "      <td>0.003821</td>\n",
       "    </tr>\n",
       "    <tr>\n",
       "      <th>2017-08-08 14:35:00</th>\n",
       "      <td>3925.0</td>\n",
       "      <td>3942.0</td>\n",
       "      <td>3925.0</td>\n",
       "      <td>3941.0</td>\n",
       "      <td>134476.0</td>\n",
       "      <td>4400260.0</td>\n",
       "      <td>0.016642</td>\n",
       "      <td>6.102920</td>\n",
       "      <td>0.003821</td>\n",
       "      <td>-0.003552</td>\n",
       "    </tr>\n",
       "    <tr>\n",
       "      <th>2017-08-08 14:40:00</th>\n",
       "      <td>3941.0</td>\n",
       "      <td>3943.0</td>\n",
       "      <td>3926.0</td>\n",
       "      <td>3927.0</td>\n",
       "      <td>127800.0</td>\n",
       "      <td>4402232.0</td>\n",
       "      <td>0.015430</td>\n",
       "      <td>5.516219</td>\n",
       "      <td>-0.003552</td>\n",
       "      <td>0.002037</td>\n",
       "    </tr>\n",
       "    <tr>\n",
       "      <th>2017-08-08 14:45:00</th>\n",
       "      <td>3927.0</td>\n",
       "      <td>3940.0</td>\n",
       "      <td>3927.0</td>\n",
       "      <td>3935.0</td>\n",
       "      <td>130940.0</td>\n",
       "      <td>4391240.0</td>\n",
       "      <td>-0.083947</td>\n",
       "      <td>-30.376697</td>\n",
       "      <td>0.002037</td>\n",
       "      <td>0.002033</td>\n",
       "    </tr>\n",
       "    <tr>\n",
       "      <th>2017-08-08 14:50:00</th>\n",
       "      <td>3937.0</td>\n",
       "      <td>3950.0</td>\n",
       "      <td>3935.0</td>\n",
       "      <td>3943.0</td>\n",
       "      <td>158832.0</td>\n",
       "      <td>4364654.0</td>\n",
       "      <td>-0.167384</td>\n",
       "      <td>-66.708934</td>\n",
       "      <td>0.002033</td>\n",
       "      <td>0.000000</td>\n",
       "    </tr>\n",
       "    <tr>\n",
       "      <th>2017-08-08 14:55:00</th>\n",
       "      <td>3943.0</td>\n",
       "      <td>3948.0</td>\n",
       "      <td>3940.0</td>\n",
       "      <td>3943.0</td>\n",
       "      <td>136398.0</td>\n",
       "      <td>4331204.0</td>\n",
       "      <td>-0.245238</td>\n",
       "      <td>-90.571617</td>\n",
       "      <td>0.000000</td>\n",
       "      <td>0.001522</td>\n",
       "    </tr>\n",
       "    <tr>\n",
       "      <th>2017-08-08 21:00:00</th>\n",
       "      <td>3946.0</td>\n",
       "      <td>3976.0</td>\n",
       "      <td>3939.0</td>\n",
       "      <td>3949.0</td>\n",
       "      <td>280936.0</td>\n",
       "      <td>4352168.0</td>\n",
       "      <td>0.074622</td>\n",
       "      <td>39.552183</td>\n",
       "      <td>0.001522</td>\n",
       "      <td>0.003292</td>\n",
       "    </tr>\n",
       "    <tr>\n",
       "      <th>2017-08-08 21:05:00</th>\n",
       "      <td>3948.0</td>\n",
       "      <td>3965.0</td>\n",
       "      <td>3948.0</td>\n",
       "      <td>3962.0</td>\n",
       "      <td>188476.0</td>\n",
       "      <td>4355382.0</td>\n",
       "      <td>0.017053</td>\n",
       "      <td>7.403172</td>\n",
       "      <td>0.003292</td>\n",
       "      <td>0.000757</td>\n",
       "    </tr>\n",
       "    <tr>\n",
       "      <th>2017-08-08 21:10:00</th>\n",
       "      <td>3962.0</td>\n",
       "      <td>3967.0</td>\n",
       "      <td>3956.0</td>\n",
       "      <td>3965.0</td>\n",
       "      <td>205994.0</td>\n",
       "      <td>4365248.0</td>\n",
       "      <td>0.047895</td>\n",
       "      <td>21.737712</td>\n",
       "      <td>0.000757</td>\n",
       "      <td>-0.004792</td>\n",
       "    </tr>\n",
       "    <tr>\n",
       "      <th>2017-08-08 21:15:00</th>\n",
       "      <td>3965.0</td>\n",
       "      <td>3965.0</td>\n",
       "      <td>3942.0</td>\n",
       "      <td>3946.0</td>\n",
       "      <td>216316.0</td>\n",
       "      <td>4360162.0</td>\n",
       "      <td>-0.023512</td>\n",
       "      <td>-10.935334</td>\n",
       "      <td>-0.004792</td>\n",
       "      <td>-0.000760</td>\n",
       "    </tr>\n",
       "    <tr>\n",
       "      <th>2017-08-08 21:20:00</th>\n",
       "      <td>3947.0</td>\n",
       "      <td>3948.0</td>\n",
       "      <td>3934.0</td>\n",
       "      <td>3943.0</td>\n",
       "      <td>233780.0</td>\n",
       "      <td>4373046.0</td>\n",
       "      <td>0.055112</td>\n",
       "      <td>26.646921</td>\n",
       "      <td>-0.000760</td>\n",
       "      <td>-0.005580</td>\n",
       "    </tr>\n",
       "    <tr>\n",
       "      <th>2017-08-08 21:25:00</th>\n",
       "      <td>3942.0</td>\n",
       "      <td>3942.0</td>\n",
       "      <td>3913.0</td>\n",
       "      <td>3921.0</td>\n",
       "      <td>367812.0</td>\n",
       "      <td>4372484.0</td>\n",
       "      <td>-0.001528</td>\n",
       "      <td>-0.926666</td>\n",
       "      <td>-0.005580</td>\n",
       "      <td>0.001020</td>\n",
       "    </tr>\n",
       "    <tr>\n",
       "      <th>2017-08-08 21:30:00</th>\n",
       "      <td>3921.0</td>\n",
       "      <td>3929.0</td>\n",
       "      <td>3915.0</td>\n",
       "      <td>3925.0</td>\n",
       "      <td>191256.0</td>\n",
       "      <td>4367314.0</td>\n",
       "      <td>-0.027032</td>\n",
       "      <td>-11.821784</td>\n",
       "      <td>0.001020</td>\n",
       "      <td>-0.000510</td>\n",
       "    </tr>\n",
       "    <tr>\n",
       "      <th>2017-08-08 21:35:00</th>\n",
       "      <td>3925.0</td>\n",
       "      <td>3928.0</td>\n",
       "      <td>3918.0</td>\n",
       "      <td>3923.0</td>\n",
       "      <td>116016.0</td>\n",
       "      <td>4374244.0</td>\n",
       "      <td>0.059733</td>\n",
       "      <td>20.345777</td>\n",
       "      <td>-0.000510</td>\n",
       "      <td>0.000255</td>\n",
       "    </tr>\n",
       "    <tr>\n",
       "      <th>2017-08-08 21:40:00</th>\n",
       "      <td>3922.0</td>\n",
       "      <td>3930.0</td>\n",
       "      <td>3921.0</td>\n",
       "      <td>3924.0</td>\n",
       "      <td>134550.0</td>\n",
       "      <td>4375500.0</td>\n",
       "      <td>0.009335</td>\n",
       "      <td>3.424111</td>\n",
       "      <td>0.000255</td>\n",
       "      <td>-0.001529</td>\n",
       "    </tr>\n",
       "    <tr>\n",
       "      <th>2017-08-08 21:45:00</th>\n",
       "      <td>3925.0</td>\n",
       "      <td>3925.0</td>\n",
       "      <td>3914.0</td>\n",
       "      <td>3918.0</td>\n",
       "      <td>121974.0</td>\n",
       "      <td>4376626.0</td>\n",
       "      <td>0.009231</td>\n",
       "      <td>3.224072</td>\n",
       "      <td>-0.001529</td>\n",
       "      <td>0.002297</td>\n",
       "    </tr>\n",
       "    <tr>\n",
       "      <th>2017-08-08 21:50:00</th>\n",
       "      <td>3918.0</td>\n",
       "      <td>3927.0</td>\n",
       "      <td>3916.0</td>\n",
       "      <td>3927.0</td>\n",
       "      <td>75764.0</td>\n",
       "      <td>4377558.0</td>\n",
       "      <td>0.012301</td>\n",
       "      <td>3.385981</td>\n",
       "      <td>0.002297</td>\n",
       "      <td>0.000255</td>\n",
       "    </tr>\n",
       "    <tr>\n",
       "      <th>2017-08-08 21:55:00</th>\n",
       "      <td>3927.0</td>\n",
       "      <td>3928.0</td>\n",
       "      <td>3922.0</td>\n",
       "      <td>3928.0</td>\n",
       "      <td>65616.0</td>\n",
       "      <td>4379594.0</td>\n",
       "      <td>0.031029</td>\n",
       "      <td>7.948275</td>\n",
       "      <td>0.000255</td>\n",
       "      <td>-0.002800</td>\n",
       "    </tr>\n",
       "    <tr>\n",
       "      <th>2017-08-08 22:00:00</th>\n",
       "      <td>3928.0</td>\n",
       "      <td>3932.0</td>\n",
       "      <td>3914.0</td>\n",
       "      <td>3917.0</td>\n",
       "      <td>171242.0</td>\n",
       "      <td>4389736.0</td>\n",
       "      <td>0.059226</td>\n",
       "      <td>24.508598</td>\n",
       "      <td>-0.002800</td>\n",
       "      <td>0.000000</td>\n",
       "    </tr>\n",
       "    <tr>\n",
       "      <th>2017-08-08 22:05:00</th>\n",
       "      <td>3916.0</td>\n",
       "      <td>3921.0</td>\n",
       "      <td>3907.0</td>\n",
       "      <td>3917.0</td>\n",
       "      <td>219594.0</td>\n",
       "      <td>4369100.0</td>\n",
       "      <td>-0.093973</td>\n",
       "      <td>-44.036753</td>\n",
       "      <td>0.000000</td>\n",
       "      <td>0.000511</td>\n",
       "    </tr>\n",
       "    <tr>\n",
       "      <th>2017-08-08 22:10:00</th>\n",
       "      <td>3918.0</td>\n",
       "      <td>3925.0</td>\n",
       "      <td>3916.0</td>\n",
       "      <td>3919.0</td>\n",
       "      <td>103424.0</td>\n",
       "      <td>4365838.0</td>\n",
       "      <td>-0.031540</td>\n",
       "      <td>-10.143160</td>\n",
       "      <td>0.000511</td>\n",
       "      <td>0.001276</td>\n",
       "    </tr>\n",
       "    <tr>\n",
       "      <th>2017-08-08 22:15:00</th>\n",
       "      <td>3919.0</td>\n",
       "      <td>3925.0</td>\n",
       "      <td>3915.0</td>\n",
       "      <td>3924.0</td>\n",
       "      <td>79182.0</td>\n",
       "      <td>4355866.0</td>\n",
       "      <td>-0.125938</td>\n",
       "      <td>-35.437986</td>\n",
       "      <td>0.001276</td>\n",
       "      <td>-0.000255</td>\n",
       "    </tr>\n",
       "    <tr>\n",
       "      <th>2017-08-08 22:20:00</th>\n",
       "      <td>3924.0</td>\n",
       "      <td>3926.0</td>\n",
       "      <td>3920.0</td>\n",
       "      <td>3923.0</td>\n",
       "      <td>88712.0</td>\n",
       "      <td>4346208.0</td>\n",
       "      <td>-0.108869</td>\n",
       "      <td>-32.426197</td>\n",
       "      <td>-0.000255</td>\n",
       "      <td>0.004843</td>\n",
       "    </tr>\n",
       "    <tr>\n",
       "      <th>2017-08-08 22:25:00</th>\n",
       "      <td>3923.0</td>\n",
       "      <td>3943.0</td>\n",
       "      <td>3923.0</td>\n",
       "      <td>3942.0</td>\n",
       "      <td>187930.0</td>\n",
       "      <td>4340072.0</td>\n",
       "      <td>-0.032650</td>\n",
       "      <td>-14.154264</td>\n",
       "      <td>0.004843</td>\n",
       "      <td>-0.002029</td>\n",
       "    </tr>\n",
       "    <tr>\n",
       "      <th>2017-08-08 22:30:00</th>\n",
       "      <td>3942.0</td>\n",
       "      <td>3943.0</td>\n",
       "      <td>3932.0</td>\n",
       "      <td>3934.0</td>\n",
       "      <td>124046.0</td>\n",
       "      <td>4341884.0</td>\n",
       "      <td>0.014607</td>\n",
       "      <td>5.144780</td>\n",
       "      <td>-0.002029</td>\n",
       "      <td>0.004321</td>\n",
       "    </tr>\n",
       "    <tr>\n",
       "      <th>2017-08-08 22:35:00</th>\n",
       "      <td>3934.0</td>\n",
       "      <td>3952.0</td>\n",
       "      <td>3934.0</td>\n",
       "      <td>3951.0</td>\n",
       "      <td>129396.0</td>\n",
       "      <td>4339936.0</td>\n",
       "      <td>-0.015055</td>\n",
       "      <td>-5.415375</td>\n",
       "      <td>0.004321</td>\n",
       "      <td>-0.002784</td>\n",
       "    </tr>\n",
       "    <tr>\n",
       "      <th>2017-08-08 22:40:00</th>\n",
       "      <td>3951.0</td>\n",
       "      <td>3952.0</td>\n",
       "      <td>3936.0</td>\n",
       "      <td>3940.0</td>\n",
       "      <td>119728.0</td>\n",
       "      <td>4334796.0</td>\n",
       "      <td>-0.042931</td>\n",
       "      <td>-14.854747</td>\n",
       "      <td>-0.002784</td>\n",
       "      <td>-0.000254</td>\n",
       "    </tr>\n",
       "    <tr>\n",
       "      <th>2017-08-08 22:45:00</th>\n",
       "      <td>3940.0</td>\n",
       "      <td>3942.0</td>\n",
       "      <td>3935.0</td>\n",
       "      <td>3939.0</td>\n",
       "      <td>50600.0</td>\n",
       "      <td>4332154.0</td>\n",
       "      <td>-0.052213</td>\n",
       "      <td>-11.745123</td>\n",
       "      <td>-0.000254</td>\n",
       "      <td>0.001269</td>\n",
       "    </tr>\n",
       "    <tr>\n",
       "      <th>2017-08-08 22:50:00</th>\n",
       "      <td>3938.0</td>\n",
       "      <td>3948.0</td>\n",
       "      <td>3938.0</td>\n",
       "      <td>3944.0</td>\n",
       "      <td>78032.0</td>\n",
       "      <td>4321780.0</td>\n",
       "      <td>-0.132945</td>\n",
       "      <td>-37.137261</td>\n",
       "      <td>0.001269</td>\n",
       "      <td>0.001521</td>\n",
       "    </tr>\n",
       "    <tr>\n",
       "      <th>2017-08-08 22:55:00</th>\n",
       "      <td>3944.0</td>\n",
       "      <td>3950.0</td>\n",
       "      <td>3939.0</td>\n",
       "      <td>3950.0</td>\n",
       "      <td>107836.0</td>\n",
       "      <td>4278146.0</td>\n",
       "      <td>-0.404633</td>\n",
       "      <td>-132.874959</td>\n",
       "      <td>0.001521</td>\n",
       "      <td>NaN</td>\n",
       "    </tr>\n",
       "  </tbody>\n",
       "</table>\n",
       "<p>3173 rows × 10 columns</p>\n",
       "</div>"
      ],
      "text/plain": [
       "                       Open    High     Low   Close  TotalVolume  \\\n",
       "2017-06-06 09:00:00  2905.0  2912.0  2901.0  2910.0     149516.0   \n",
       "2017-06-06 09:05:00  2910.0  2918.0  2910.0  2911.0     156324.0   \n",
       "2017-06-06 09:10:00  2912.0  2912.0  2905.0  2906.0      82338.0   \n",
       "2017-06-06 09:15:00  2906.0  2917.0  2906.0  2915.0      85270.0   \n",
       "2017-06-06 09:20:00  2916.0  2922.0  2912.0  2916.0     129160.0   \n",
       "2017-06-06 09:25:00  2916.0  2917.0  2912.0  2914.0      45494.0   \n",
       "2017-06-06 09:30:00  2914.0  2914.0  2907.0  2908.0      67542.0   \n",
       "2017-06-06 09:35:00  2909.0  2917.0  2908.0  2915.0      44616.0   \n",
       "2017-06-06 09:40:00  2915.0  2920.0  2915.0  2916.0      84156.0   \n",
       "2017-06-06 09:45:00  2916.0  2925.0  2916.0  2924.0     131376.0   \n",
       "2017-06-06 09:50:00  2924.0  2926.0  2919.0  2920.0      95916.0   \n",
       "2017-06-06 09:55:00  2921.0  2923.0  2917.0  2919.0      54328.0   \n",
       "2017-06-06 10:00:00  2918.0  2930.0  2918.0  2929.0     109304.0   \n",
       "2017-06-06 10:05:00  2929.0  2933.0  2924.0  2927.0     107708.0   \n",
       "2017-06-06 10:10:00  2927.0  2935.0  2926.0  2928.0     119720.0   \n",
       "2017-06-06 10:30:00  2927.0  2936.0  2927.0  2933.0      89526.0   \n",
       "2017-06-06 10:35:00  2933.0  2938.0  2931.0  2933.0      93524.0   \n",
       "2017-06-06 10:40:00  2933.0  2934.0  2930.0  2933.0      68646.0   \n",
       "2017-06-06 10:45:00  2933.0  2933.0  2926.0  2927.0      84448.0   \n",
       "2017-06-06 10:50:00  2927.0  2928.0  2921.0  2921.0      93548.0   \n",
       "2017-06-06 10:55:00  2921.0  2926.0  2921.0  2923.0      56942.0   \n",
       "2017-06-06 11:00:00  2923.0  2925.0  2917.0  2919.0     111664.0   \n",
       "2017-06-06 11:05:00  2919.0  2921.0  2913.0  2914.0      93068.0   \n",
       "2017-06-06 11:10:00  2913.0  2916.0  2912.0  2913.0      92330.0   \n",
       "2017-06-06 11:15:00  2911.0  2922.0  2911.0  2920.0      83476.0   \n",
       "2017-06-06 11:20:00  2920.0  2930.0  2919.0  2927.0      97420.0   \n",
       "2017-06-06 11:25:00  2927.0  2939.0  2925.0  2938.0     194176.0   \n",
       "2017-06-06 13:30:00  2940.0  2941.0  2929.0  2931.0     139344.0   \n",
       "2017-06-06 13:35:00  2930.0  2932.0  2925.0  2926.0     100236.0   \n",
       "2017-06-06 13:40:00  2926.0  2936.0  2925.0  2933.0      92494.0   \n",
       "...                     ...     ...     ...     ...          ...   \n",
       "2017-08-08 14:30:00  3936.0  3940.0  3925.0  3926.0     143960.0   \n",
       "2017-08-08 14:35:00  3925.0  3942.0  3925.0  3941.0     134476.0   \n",
       "2017-08-08 14:40:00  3941.0  3943.0  3926.0  3927.0     127800.0   \n",
       "2017-08-08 14:45:00  3927.0  3940.0  3927.0  3935.0     130940.0   \n",
       "2017-08-08 14:50:00  3937.0  3950.0  3935.0  3943.0     158832.0   \n",
       "2017-08-08 14:55:00  3943.0  3948.0  3940.0  3943.0     136398.0   \n",
       "2017-08-08 21:00:00  3946.0  3976.0  3939.0  3949.0     280936.0   \n",
       "2017-08-08 21:05:00  3948.0  3965.0  3948.0  3962.0     188476.0   \n",
       "2017-08-08 21:10:00  3962.0  3967.0  3956.0  3965.0     205994.0   \n",
       "2017-08-08 21:15:00  3965.0  3965.0  3942.0  3946.0     216316.0   \n",
       "2017-08-08 21:20:00  3947.0  3948.0  3934.0  3943.0     233780.0   \n",
       "2017-08-08 21:25:00  3942.0  3942.0  3913.0  3921.0     367812.0   \n",
       "2017-08-08 21:30:00  3921.0  3929.0  3915.0  3925.0     191256.0   \n",
       "2017-08-08 21:35:00  3925.0  3928.0  3918.0  3923.0     116016.0   \n",
       "2017-08-08 21:40:00  3922.0  3930.0  3921.0  3924.0     134550.0   \n",
       "2017-08-08 21:45:00  3925.0  3925.0  3914.0  3918.0     121974.0   \n",
       "2017-08-08 21:50:00  3918.0  3927.0  3916.0  3927.0      75764.0   \n",
       "2017-08-08 21:55:00  3927.0  3928.0  3922.0  3928.0      65616.0   \n",
       "2017-08-08 22:00:00  3928.0  3932.0  3914.0  3917.0     171242.0   \n",
       "2017-08-08 22:05:00  3916.0  3921.0  3907.0  3917.0     219594.0   \n",
       "2017-08-08 22:10:00  3918.0  3925.0  3916.0  3919.0     103424.0   \n",
       "2017-08-08 22:15:00  3919.0  3925.0  3915.0  3924.0      79182.0   \n",
       "2017-08-08 22:20:00  3924.0  3926.0  3920.0  3923.0      88712.0   \n",
       "2017-08-08 22:25:00  3923.0  3943.0  3923.0  3942.0     187930.0   \n",
       "2017-08-08 22:30:00  3942.0  3943.0  3932.0  3934.0     124046.0   \n",
       "2017-08-08 22:35:00  3934.0  3952.0  3934.0  3951.0     129396.0   \n",
       "2017-08-08 22:40:00  3951.0  3952.0  3936.0  3940.0     119728.0   \n",
       "2017-08-08 22:45:00  3940.0  3942.0  3935.0  3939.0      50600.0   \n",
       "2017-08-08 22:50:00  3938.0  3948.0  3938.0  3944.0      78032.0   \n",
       "2017-08-08 22:55:00  3944.0  3950.0  3939.0  3950.0     107836.0   \n",
       "\n",
       "                     OpenInterest  OpenRatio  WeightedOpenRatio       pnl  \\\n",
       "2017-06-06 09:00:00     5106840.0  -0.032558         -12.589449  0.003794   \n",
       "2017-06-06 09:05:00     5105254.0  -0.010146          -4.011348  0.000344   \n",
       "2017-06-06 09:10:00     5102344.0  -0.035342         -10.141281 -0.001718   \n",
       "2017-06-06 09:15:00     5108550.0   0.072781          21.252677  0.003097   \n",
       "2017-06-06 09:20:00     5109646.0   0.008486           3.049626  0.000343   \n",
       "2017-06-06 09:25:00     5109714.0   0.001495           0.318810 -0.000686   \n",
       "2017-06-06 09:30:00     5107228.0  -0.036807          -9.565643 -0.002059   \n",
       "2017-06-06 09:35:00     5115958.0   0.195670          41.330335  0.002407   \n",
       "2017-06-06 09:40:00     5118780.0   0.033533           9.727796  0.000343   \n",
       "2017-06-06 09:45:00     5104672.0  -0.107386         -38.923101  0.002743   \n",
       "2017-06-06 09:50:00     5088878.0  -0.164665         -50.997232 -0.001368   \n",
       "2017-06-06 09:55:00     5083898.0  -0.091665         -21.365718 -0.000342   \n",
       "2017-06-06 10:00:00     5078028.0  -0.053703         -17.754975  0.003426   \n",
       "2017-06-06 10:05:00     5088864.0   0.100605          33.017563 -0.000683   \n",
       "2017-06-06 10:10:00     5094984.0   0.051119          17.687566  0.000342   \n",
       "2017-06-06 10:30:00     5101126.0   0.068606          20.527460  0.001708   \n",
       "2017-06-06 10:35:00     5109350.0   0.087935          26.891905  0.000000   \n",
       "2017-06-06 10:40:00     5109372.0   0.000320           0.083968  0.000000   \n",
       "2017-06-06 10:45:00     5093664.0  -0.186008         -54.053797 -0.002046   \n",
       "2017-06-06 10:50:00     5084136.0  -0.101851         -31.151897 -0.002050   \n",
       "2017-06-06 10:55:00     5084738.0   0.010572           2.522784  0.000685   \n",
       "2017-06-06 11:00:00     5074488.0  -0.091793         -30.673778 -0.001368   \n",
       "2017-06-06 11:05:00     5070304.0  -0.044956         -13.714863 -0.001713   \n",
       "2017-06-06 11:10:00     5077764.0   0.080797          24.550900 -0.000343   \n",
       "2017-06-06 11:15:00     5073468.0  -0.051464         -14.869058  0.002403   \n",
       "2017-06-06 11:20:00     5066244.0  -0.074153         -23.144813  0.002397   \n",
       "2017-06-06 11:25:00     5068974.0   0.014059           6.195336  0.003758   \n",
       "2017-06-06 13:30:00     5064086.0  -0.035079         -13.094444 -0.002383   \n",
       "2017-06-06 13:35:00     5053532.0  -0.105292         -33.335366 -0.001706   \n",
       "2017-06-06 13:40:00     5053974.0   0.004779           1.453334  0.002392   \n",
       "...                           ...        ...                ...       ...   \n",
       "2017-08-08 14:30:00     4398022.0   0.019811           7.516724 -0.002794   \n",
       "2017-08-08 14:35:00     4400260.0   0.016642           6.102920  0.003821   \n",
       "2017-08-08 14:40:00     4402232.0   0.015430           5.516219 -0.003552   \n",
       "2017-08-08 14:45:00     4391240.0  -0.083947         -30.376697  0.002037   \n",
       "2017-08-08 14:50:00     4364654.0  -0.167384         -66.708934  0.002033   \n",
       "2017-08-08 14:55:00     4331204.0  -0.245238         -90.571617  0.000000   \n",
       "2017-08-08 21:00:00     4352168.0   0.074622          39.552183  0.001522   \n",
       "2017-08-08 21:05:00     4355382.0   0.017053           7.403172  0.003292   \n",
       "2017-08-08 21:10:00     4365248.0   0.047895          21.737712  0.000757   \n",
       "2017-08-08 21:15:00     4360162.0  -0.023512         -10.935334 -0.004792   \n",
       "2017-08-08 21:20:00     4373046.0   0.055112          26.646921 -0.000760   \n",
       "2017-08-08 21:25:00     4372484.0  -0.001528          -0.926666 -0.005580   \n",
       "2017-08-08 21:30:00     4367314.0  -0.027032         -11.821784  0.001020   \n",
       "2017-08-08 21:35:00     4374244.0   0.059733          20.345777 -0.000510   \n",
       "2017-08-08 21:40:00     4375500.0   0.009335           3.424111  0.000255   \n",
       "2017-08-08 21:45:00     4376626.0   0.009231           3.224072 -0.001529   \n",
       "2017-08-08 21:50:00     4377558.0   0.012301           3.385981  0.002297   \n",
       "2017-08-08 21:55:00     4379594.0   0.031029           7.948275  0.000255   \n",
       "2017-08-08 22:00:00     4389736.0   0.059226          24.508598 -0.002800   \n",
       "2017-08-08 22:05:00     4369100.0  -0.093973         -44.036753  0.000000   \n",
       "2017-08-08 22:10:00     4365838.0  -0.031540         -10.143160  0.000511   \n",
       "2017-08-08 22:15:00     4355866.0  -0.125938         -35.437986  0.001276   \n",
       "2017-08-08 22:20:00     4346208.0  -0.108869         -32.426197 -0.000255   \n",
       "2017-08-08 22:25:00     4340072.0  -0.032650         -14.154264  0.004843   \n",
       "2017-08-08 22:30:00     4341884.0   0.014607           5.144780 -0.002029   \n",
       "2017-08-08 22:35:00     4339936.0  -0.015055          -5.415375  0.004321   \n",
       "2017-08-08 22:40:00     4334796.0  -0.042931         -14.854747 -0.002784   \n",
       "2017-08-08 22:45:00     4332154.0  -0.052213         -11.745123 -0.000254   \n",
       "2017-08-08 22:50:00     4321780.0  -0.132945         -37.137261  0.001269   \n",
       "2017-08-08 22:55:00     4278146.0  -0.404633        -132.874959  0.001521   \n",
       "\n",
       "                      nextpnl  \n",
       "2017-06-06 09:00:00  0.000344  \n",
       "2017-06-06 09:05:00 -0.001718  \n",
       "2017-06-06 09:10:00  0.003097  \n",
       "2017-06-06 09:15:00  0.000343  \n",
       "2017-06-06 09:20:00 -0.000686  \n",
       "2017-06-06 09:25:00 -0.002059  \n",
       "2017-06-06 09:30:00  0.002407  \n",
       "2017-06-06 09:35:00  0.000343  \n",
       "2017-06-06 09:40:00  0.002743  \n",
       "2017-06-06 09:45:00 -0.001368  \n",
       "2017-06-06 09:50:00 -0.000342  \n",
       "2017-06-06 09:55:00  0.003426  \n",
       "2017-06-06 10:00:00 -0.000683  \n",
       "2017-06-06 10:05:00  0.000342  \n",
       "2017-06-06 10:10:00  0.001708  \n",
       "2017-06-06 10:30:00  0.000000  \n",
       "2017-06-06 10:35:00  0.000000  \n",
       "2017-06-06 10:40:00 -0.002046  \n",
       "2017-06-06 10:45:00 -0.002050  \n",
       "2017-06-06 10:50:00  0.000685  \n",
       "2017-06-06 10:55:00 -0.001368  \n",
       "2017-06-06 11:00:00 -0.001713  \n",
       "2017-06-06 11:05:00 -0.000343  \n",
       "2017-06-06 11:10:00  0.002403  \n",
       "2017-06-06 11:15:00  0.002397  \n",
       "2017-06-06 11:20:00  0.003758  \n",
       "2017-06-06 11:25:00 -0.002383  \n",
       "2017-06-06 13:30:00 -0.001706  \n",
       "2017-06-06 13:35:00  0.002392  \n",
       "2017-06-06 13:40:00  0.001364  \n",
       "...                       ...  \n",
       "2017-08-08 14:30:00  0.003821  \n",
       "2017-08-08 14:35:00 -0.003552  \n",
       "2017-08-08 14:40:00  0.002037  \n",
       "2017-08-08 14:45:00  0.002033  \n",
       "2017-08-08 14:50:00  0.000000  \n",
       "2017-08-08 14:55:00  0.001522  \n",
       "2017-08-08 21:00:00  0.003292  \n",
       "2017-08-08 21:05:00  0.000757  \n",
       "2017-08-08 21:10:00 -0.004792  \n",
       "2017-08-08 21:15:00 -0.000760  \n",
       "2017-08-08 21:20:00 -0.005580  \n",
       "2017-08-08 21:25:00  0.001020  \n",
       "2017-08-08 21:30:00 -0.000510  \n",
       "2017-08-08 21:35:00  0.000255  \n",
       "2017-08-08 21:40:00 -0.001529  \n",
       "2017-08-08 21:45:00  0.002297  \n",
       "2017-08-08 21:50:00  0.000255  \n",
       "2017-08-08 21:55:00 -0.002800  \n",
       "2017-08-08 22:00:00  0.000000  \n",
       "2017-08-08 22:05:00  0.000511  \n",
       "2017-08-08 22:10:00  0.001276  \n",
       "2017-08-08 22:15:00 -0.000255  \n",
       "2017-08-08 22:20:00  0.004843  \n",
       "2017-08-08 22:25:00 -0.002029  \n",
       "2017-08-08 22:30:00  0.004321  \n",
       "2017-08-08 22:35:00 -0.002784  \n",
       "2017-08-08 22:40:00 -0.000254  \n",
       "2017-08-08 22:45:00  0.001269  \n",
       "2017-08-08 22:50:00  0.001521  \n",
       "2017-08-08 22:55:00       NaN  \n",
       "\n",
       "[3173 rows x 10 columns]"
      ]
     },
     "execution_count": 79,
     "metadata": {},
     "output_type": "execute_result"
    }
   ],
   "source": [
    "sampleSurge"
   ]
  },
  {
   "cell_type": "code",
   "execution_count": 80,
   "metadata": {
    "collapsed": false,
    "deletable": true,
    "editable": true
   },
   "outputs": [
    {
     "name": "stderr",
     "output_type": "stream",
     "text": [
      "c:\\python27\\lib\\site-packages\\ipykernel\\__main__.py:2: SettingWithCopyWarning: \n",
      "A value is trying to be set on a copy of a slice from a DataFrame.\n",
      "Try using .loc[row_indexer,col_indexer] = value instead\n",
      "\n",
      "See the caveats in the documentation: http://pandas.pydata.org/pandas-docs/stable/indexing.html#indexing-view-versus-copy\n",
      "  from ipykernel import kernelapp as app\n"
     ]
    }
   ],
   "source": [
    "samplePlunge = dfResampled.loc[startTimePlunge:endTimePlunge]\n",
    "samplePlunge['nextpnl'] = samplePlunge['pnl'].shift(-1)"
   ]
  },
  {
   "cell_type": "code",
   "execution_count": 81,
   "metadata": {
    "collapsed": false,
    "deletable": true,
    "editable": true
   },
   "outputs": [
    {
     "data": {
      "text/plain": [
       "<matplotlib.axes._subplots.AxesSubplot at 0x46139e48>"
      ]
     },
     "execution_count": 81,
     "metadata": {},
     "output_type": "execute_result"
    },
    {
     "data": {
      "image/png": "[encoded data removed]",
      "text/plain": [
       "<matplotlib.figure.Figure at 0x53ecfcf8>"
      ]
     },
     "metadata": {},
     "output_type": "display_data"
    }
   ],
   "source": [
    "samplePlunge['OpenRatio'].hist()"
   ]
  },
  {
   "cell_type": "code",
   "execution_count": 82,
   "metadata": {
    "collapsed": false,
    "deletable": true,
    "editable": true
   },
   "outputs": [
    {
     "data": {
      "text/plain": [
       "count    3172.000000\n",
       "mean        0.000099\n",
       "std         0.002195\n",
       "min        -0.014327\n",
       "25%        -0.000899\n",
       "50%         0.000000\n",
       "75%         0.001187\n",
       "max         0.043041\n",
       "Name: nextpnl, dtype: float64"
      ]
     },
     "execution_count": 82,
     "metadata": {},
     "output_type": "execute_result"
    }
   ],
   "source": [
    "sampleSurge['nextpnl'].describe()"
   ]
  },
  {
   "cell_type": "code",
   "execution_count": 83,
   "metadata": {
    "collapsed": false,
    "deletable": true,
    "editable": true
   },
   "outputs": [
    {
     "data": {
      "text/plain": [
       "<matplotlib.axes._subplots.AxesSubplot at 0x57b4f4a8>"
      ]
     },
     "execution_count": 83,
     "metadata": {},
     "output_type": "execute_result"
    },
    {
     "data": {
      "image/png": "[encoded data removed]",
      "text/plain": [
       "<matplotlib.figure.Figure at 0x57d0bcf8>"
      ]
     },
     "metadata": {},
     "output_type": "display_data"
    }
   ],
   "source": [
    "sampleSurge['OpenRatio'].hist()"
   ]
  },
  {
   "cell_type": "code",
   "execution_count": 84,
   "metadata": {
    "collapsed": false,
    "deletable": true,
    "editable": true
   },
   "outputs": [
    {
     "data": {
      "text/plain": [
       "<matplotlib.axes._subplots.AxesSubplot at 0x59b03518>"
      ]
     },
     "execution_count": 84,
     "metadata": {},
     "output_type": "execute_result"
    },
    {
     "data": {
      "image/png": "[encoded data removed]",
      "text/plain": [
       "<matplotlib.figure.Figure at 0x57c9e6d8>"
      ]
     },
     "metadata": {},
     "output_type": "display_data"
    }
   ],
   "source": [
    "sampleSurge[sampleSurge['OpenRatio'] > .15]['nextpnl'].hist()"
   ]
  },
  {
   "cell_type": "code",
   "execution_count": 85,
   "metadata": {
    "collapsed": false,
    "deletable": true,
    "editable": true
   },
   "outputs": [
    {
     "data": {
      "text/plain": [
       "count    1353.000000\n",
       "mean        0.000102\n",
       "std         0.001910\n",
       "min        -0.014327\n",
       "25%        -0.000851\n",
       "50%         0.000000\n",
       "75%         0.001120\n",
       "max         0.010653\n",
       "Name: nextpnl, dtype: float64"
      ]
     },
     "execution_count": 85,
     "metadata": {},
     "output_type": "execute_result"
    }
   ],
   "source": [
    "sampleSurge[sampleSurge['OpenRatio'] > 0.03]['nextpnl'].describe()"
   ]
  },
  {
   "cell_type": "code",
   "execution_count": null,
   "metadata": {
    "collapsed": false,
    "deletable": true,
    "editable": true
   },
   "outputs": [],
   "source": []
  },
  {
   "cell_type": "code",
   "execution_count": 86,
   "metadata": {
    "collapsed": false,
    "deletable": true,
    "editable": true,
    "scrolled": false
   },
   "outputs": [
    {
     "data": {
      "text/plain": [
       "<matplotlib.legend.Legend at 0x58cda7b8>"
      ]
     },
     "execution_count": 86,
     "metadata": {},
     "output_type": "execute_result"
    },
    {
     "data": {
      "image/png": "[encoded data removed]",
      "text/plain": [
       "<matplotlib.figure.Figure at 0x510abb38>"
      ]
     },
     "metadata": {},
     "output_type": "display_data"
    }
   ],
   "source": [
    "# check the monotonity of pnl filtered by openRatio indicator in bullish market\n",
    "variation = []\n",
    "bullpnlMeanList = []\n",
    "bullpnlMedianList = []\n",
    "for i in np.linspace(0,0.2,40):\n",
    "    variation.append(i)\n",
    "    bullpnlMeanList.append(sampleSurge[sampleSurge['OpenRatio'] >= i]['pnl'].mean())\n",
    "    bullpnlMedianList.append(sampleSurge[sampleSurge['OpenRatio'] >= i].shape[0] / sampleSurge.shape[0])\n",
    "fig, (ax1,ax2) = plt.subplots(nrows=2,sharex=True,figsize=(16,10))\n",
    "ax1.plot(np.linspace(0,0.2,40),bullpnlMeanList,'blue',label='pnlMean')\n",
    "ax2.plot(np.linspace(0,0.2,40),bullpnlMedianList,'red',label='pnlMedian')\n",
    "ax1.legend()\n",
    "ax2.legend()"
   ]
  },
  {
   "cell_type": "code",
   "execution_count": 87,
   "metadata": {
    "collapsed": false,
    "deletable": true,
    "editable": true
   },
   "outputs": [
    {
     "data": {
      "text/plain": [
       "<matplotlib.legend.Legend at 0x57578128>"
      ]
     },
     "execution_count": 87,
     "metadata": {},
     "output_type": "execute_result"
    },
    {
     "data": {
      "image/png": "[encoded data removed]",
      "text/plain": [
       "<matplotlib.figure.Figure at 0x57d27198>"
      ]
     },
     "metadata": {},
     "output_type": "display_data"
    }
   ],
   "source": [
    "# check the monotonity of pnl filtered by openRatio indicator in bearrih market\n",
    "variation = []\n",
    "bearpnlMeanList = []\n",
    "bearpnlMedianList = []\n",
    "for i in np.linspace(0,0.2,40):\n",
    "    variation.append(i)\n",
    "    bearpnlMeanList.append(samplePlunge[samplePlunge['OpenRatio'] >= i]['nextpnl'].mean())\n",
    "    bearpnlMedianList.append(samplePlunge[samplePlunge['OpenRatio'] >= i].shape[0] / samplePlunge.shape[0])\n",
    "fig, (ax1,ax2) = plt.subplots(nrows=2,sharex=True,figsize=(16,10))\n",
    "ax1.plot(np.linspace(0,0.2,40),bearpnlMeanList,'blue',label='pnlMean')\n",
    "ax2.plot(np.linspace(0,0.2,40),bearpnlMedianList,'red',label='pnlMedian')\n",
    "ax1.legend()\n",
    "ax2.legend()"
   ]
  },
  {
   "cell_type": "code",
   "execution_count": null,
   "metadata": {
    "collapsed": false,
    "deletable": true,
    "editable": true
   },
   "outputs": [],
   "source": []
  },
  {
   "cell_type": "code",
   "execution_count": 88,
   "metadata": {
    "collapsed": false,
    "deletable": true,
    "editable": true
   },
   "outputs": [
    {
     "data": {
      "text/plain": [
       "<matplotlib.axes._subplots.AxesSubplot at 0x3a99d518>"
      ]
     },
     "execution_count": 88,
     "metadata": {},
     "output_type": "execute_result"
    },
    {
     "data": {
      "image/png": "[encoded data removed]",
      "text/plain": [
       "<matplotlib.figure.Figure at 0x59ae0cc0>"
      ]
     },
     "metadata": {},
     "output_type": "display_data"
    }
   ],
   "source": [
    "sampleSurge[sampleSurge['OpenRatio'] >= 0.1]['nextpnl'].hist()"
   ]
  },
  {
   "cell_type": "code",
   "execution_count": 89,
   "metadata": {
    "collapsed": false,
    "deletable": true,
    "editable": true
   },
   "outputs": [
    {
     "ename": "NameError",
     "evalue": "name 'pnlMedianList' is not defined",
     "output_type": "error",
     "traceback": [
      "\u001b[0;31m---------------------------------------------------------------------------\u001b[0m",
      "\u001b[0;31mNameError\u001b[0m                                 Traceback (most recent call last)",
      "\u001b[0;32m<ipython-input-89-be2c47c87970>\u001b[0m in \u001b[0;36m<module>\u001b[0;34m()\u001b[0m\n\u001b[0;32m----> 1\u001b[0;31m \u001b[0mpnlMedianList\u001b[0m\u001b[1;33m\u001b[0m\u001b[0m\n\u001b[0m",
      "\u001b[0;31mNameError\u001b[0m: name 'pnlMedianList' is not defined"
     ]
    }
   ],
   "source": [
    "pnlMedianList"
   ]
  },
  {
   "cell_type": "code",
   "execution_count": null,
   "metadata": {
    "collapsed": false,
    "deletable": true,
    "editable": true
   },
   "outputs": [],
   "source": [
    "dfResampled['OpenRatio'].loc[startTime:].hist()"
   ]
  },
  {
   "cell_type": "code",
   "execution_count": null,
   "metadata": {
    "collapsed": false,
    "deletable": true,
    "editable": true
   },
   "outputs": [],
   "source": [
    "dfResampled['WeightedOpenRatio'].quantile(0.996)"
   ]
  },
  {
   "cell_type": "code",
   "execution_count": null,
   "metadata": {
    "collapsed": false,
    "deletable": true,
    "editable": true
   },
   "outputs": [],
   "source": [
    "dfResampled[dfResampled['OpenRatio'] > 0].mean()"
   ]
  },
  {
   "cell_type": "code",
   "execution_count": null,
   "metadata": {
    "collapsed": false,
    "deletable": true,
    "editable": true
   },
   "outputs": [],
   "source": [
    "dfResampled['OpenRatio'].tail(500).plot()"
   ]
  },
  {
   "cell_type": "code",
   "execution_count": null,
   "metadata": {
    "collapsed": false,
    "deletable": true,
    "editable": true
   },
   "outputs": [],
   "source": [
    "dfResampled['Close'].tail(30).plot()"
   ]
  },
  {
   "cell_type": "code",
   "execution_count": null,
   "metadata": {
    "collapsed": false,
    "deletable": true,
    "editable": true,
    "scrolled": true
   },
   "outputs": [],
   "source": [
    "dfResampled[['pnl','OpenRatio']].tail(50)"
   ]
  },
  {
   "cell_type": "code",
   "execution_count": null,
   "metadata": {
    "collapsed": false,
    "deletable": true,
    "editable": true
   },
   "outputs": [],
   "source": [
    "len(dfResampled[dfResampled['OpenRatio'] < 0.15]) / len(dfResampled)"
   ]
  },
  {
   "cell_type": "code",
   "execution_count": null,
   "metadata": {
    "collapsed": false,
    "deletable": true,
    "editable": true
   },
   "outputs": [],
   "source": [
    "len(dfResampled[dfResampled['OpenRatio'] < 0]) / len(dfResampled)"
   ]
  },
  {
   "cell_type": "code",
   "execution_count": null,
   "metadata": {
    "collapsed": false,
    "deletable": true,
    "editable": true
   },
   "outputs": [],
   "source": [
    "np.sqrt(0.33*225/5)"
   ]
  },
  {
   "cell_type": "code",
   "execution_count": null,
   "metadata": {
    "collapsed": false,
    "deletable": true,
    "editable": true
   },
   "outputs": [],
   "source": [
    "datatrain = dfResampled.loc[startTrainTime:endTimeTrain]"
   ]
  },
  {
   "cell_type": "code",
   "execution_count": null,
   "metadata": {
    "collapsed": false,
    "deletable": true,
    "editable": true
   },
   "outputs": [],
   "source": [
    "startTime"
   ]
  },
  {
   "cell_type": "code",
   "execution_count": null,
   "metadata": {
    "collapsed": false,
    "deletable": true,
    "editable": true
   },
   "outputs": [],
   "source": [
    "datatrain['EMAOpenRatio'] = talib.EMA(datatrain['OpenRatio'].values, timeperiod=4)\n",
    "\n",
    "datatrain['EMAOpenRatio'].describe()"
   ]
  },
  {
   "cell_type": "code",
   "execution_count": null,
   "metadata": {
    "collapsed": false,
    "deletable": true,
    "editable": true
   },
   "outputs": [],
   "source": [
    "datatrain['OpenRatio'].describe()"
   ]
  },
  {
   "cell_type": "code",
   "execution_count": null,
   "metadata": {
    "collapsed": false,
    "deletable": true,
    "editable": true
   },
   "outputs": [],
   "source": [
    "datatrain['EMAOpenRatio'].quantile(0.92)"
   ]
  },
  {
   "cell_type": "code",
   "execution_count": null,
   "metadata": {
    "collapsed": false,
    "deletable": true,
    "editable": true
   },
   "outputs": [],
   "source": [
    "datatrain['OpenRatio'].quantile(0.9)"
   ]
  },
  {
   "cell_type": "code",
   "execution_count": null,
   "metadata": {
    "collapsed": false,
    "deletable": true,
    "editable": true
   },
   "outputs": [],
   "source": [
    "# show size distribution(quantile plot)\n",
    "fig = plt.figure(figsize=(16,10))\n",
    "# Add a subplot\n",
    "ax = fig.add_subplot(111)\n",
    "datatrain['EMAOpenRatio'].hist(alpha =0.8)\n",
    "datatrain['OpenRatio'].hist(alpha = 0.3)\n",
    "ax.set_title(ax.get_title(),alpha=0.7, fontsize=25)"
   ]
  },
  {
   "cell_type": "code",
   "execution_count": null,
   "metadata": {
    "collapsed": false,
    "deletable": true,
    "editable": true
   },
   "outputs": [],
   "source": [
    "datatrain['EMAOpenRatio'].hist()\n",
    "datatrain['OpenRatio'].hist(alpha = 0.3)"
   ]
  },
  {
   "cell_type": "code",
   "execution_count": null,
   "metadata": {
    "collapsed": false,
    "deletable": true,
    "editable": true
   },
   "outputs": [],
   "source": [
    "datatrain['OpenRatio'].describe()"
   ]
  },
  {
   "cell_type": "code",
   "execution_count": null,
   "metadata": {
    "collapsed": false,
    "deletable": true,
    "editable": true
   },
   "outputs": [],
   "source": []
  },
  {
   "cell_type": "code",
   "execution_count": null,
   "metadata": {
    "collapsed": false,
    "deletable": true,
    "editable": true
   },
   "outputs": [],
   "source": [
    "dfResampled['Close'].plot(figsize=(18,12))"
   ]
  },
  {
   "cell_type": "code",
   "execution_count": null,
   "metadata": {
    "collapsed": true,
    "deletable": true,
    "editable": true
   },
   "outputs": [],
   "source": [
    "shapeNum = 20"
   ]
  },
  {
   "cell_type": "code",
   "execution_count": null,
   "metadata": {
    "collapsed": false,
    "deletable": true,
    "editable": true
   },
   "outputs": [],
   "source": [
    "svdindicator = getSVD(datatrain['Close'].values[-shapeNum:], shapeNum, svdShort)"
   ]
  },
  {
   "cell_type": "code",
   "execution_count": null,
   "metadata": {
    "collapsed": false,
    "deletable": true,
    "editable": true
   },
   "outputs": [],
   "source": []
  },
  {
   "cell_type": "code",
   "execution_count": null,
   "metadata": {
    "collapsed": false,
    "deletable": true,
    "editable": true
   },
   "outputs": [],
   "source": [
    "svdindicator1 = getSVD(datatrain['Close'].values[-shapeNum:], shapeNum, svdLong)\n",
    "svdindicator1"
   ]
  },
  {
   "cell_type": "code",
   "execution_count": null,
   "metadata": {
    "collapsed": false,
    "deletable": true,
    "editable": true
   },
   "outputs": [],
   "source": [
    "fig, (ax1, ax2) = plt.subplots(nrows=2, sharex=True,figsize=(16,10))\n",
    "ax1.plot(datatrain.index[-shapeNum:],datatrain['Close'].values[-shapeNum:],'blue',label='Close')\n",
    "ax2.plot(datatrain.index[-shapeNum:],svdindicator,'green',)\n",
    "ax2.plot(datatrain.index[-shapeNum:],svdindicator1,'black')\n",
    "#ax1.title('SVD')"
   ]
  },
  {
   "cell_type": "code",
   "execution_count": null,
   "metadata": {
    "collapsed": false,
    "deletable": true,
    "editable": true
   },
   "outputs": [],
   "source": [
    "fig, (ax1, ax2) = plt.subplots(nrows=2, sharex=True,figsize=(22,16))\n",
    "ax1.plot(datatrain['Close'].values[-shapeNum:],'blue',label='Close')\n",
    "ax2.plot(svdindicator,'red',label='svd-'+str(svdShort))\n",
    "ax2.plot(svdindicator1,'yellow',label='svd-'+str(svdLong))\n",
    "#ax1.title('SVD')\n",
    "ax1.legend()\n",
    "ax2.legend()"
   ]
  },
  {
   "cell_type": "code",
   "execution_count": null,
   "metadata": {
    "collapsed": false,
    "deletable": true,
    "editable": true,
    "scrolled": true
   },
   "outputs": [],
   "source": [
    "datatrain['Close'].plot(figsize=(18,12))"
   ]
  },
  {
   "cell_type": "code",
   "execution_count": null,
   "metadata": {
    "collapsed": false,
    "deletable": true,
    "editable": true
   },
   "outputs": [],
   "source": [
    "#kvol.median()"
   ]
  },
  {
   "cell_type": "code",
   "execution_count": null,
   "metadata": {
    "collapsed": true,
    "deletable": true,
    "editable": true
   },
   "outputs": [],
   "source": [
    "kvol = (datatrain['Close'] - datatrain['Close'].shift(1)).rolling(min_periods=60,window=60,center=False).std()"
   ]
  },
  {
   "cell_type": "code",
   "execution_count": null,
   "metadata": {
    "collapsed": false,
    "deletable": true,
    "editable": true,
    "scrolled": true
   },
   "outputs": [],
   "source": [
    "kvol.iloc[-100:].plot(figsize=(18,12))\n",
    "((7*datatrain['Close']/datatrain['Close'].iloc[0]).iloc[-100:]).plot(sharex=True)"
   ]
  },
  {
   "cell_type": "code",
   "execution_count": null,
   "metadata": {
    "collapsed": false,
    "deletable": true,
    "editable": true
   },
   "outputs": [],
   "source": [
    "datatrain['Close'].iloc[-500:].plot(figsize=(18,12))"
   ]
  },
  {
   "cell_type": "code",
   "execution_count": null,
   "metadata": {
    "collapsed": false,
    "deletable": true,
    "editable": true
   },
   "outputs": [],
   "source": [
    "datatrain['Impact'] = (datatrain['Close'] - datatrain['Open']) / datatrain['TotalVolume']   "
   ]
  },
  {
   "cell_type": "code",
   "execution_count": null,
   "metadata": {
    "collapsed": false,
    "deletable": true,
    "editable": true
   },
   "outputs": [],
   "source": [
    "datatrain['Impact'].iloc[-55:].plot(figsize=(18,12))"
   ]
  },
  {
   "cell_type": "code",
   "execution_count": null,
   "metadata": {
    "collapsed": false,
    "deletable": true,
    "editable": true
   },
   "outputs": [],
   "source": []
  },
  {
   "cell_type": "code",
   "execution_count": null,
   "metadata": {
    "collapsed": false,
    "deletable": true,
    "editable": true
   },
   "outputs": [],
   "source": [
    "datatrain['TotalVolume'].iloc[-55:].mean()"
   ]
  },
  {
   "cell_type": "code",
   "execution_count": null,
   "metadata": {
    "collapsed": false,
    "deletable": true,
    "editable": true
   },
   "outputs": [],
   "source": [
    "datatrain[datatrain['Impact']>0]"
   ]
  },
  {
   "cell_type": "code",
   "execution_count": null,
   "metadata": {
    "collapsed": false,
    "deletable": true,
    "editable": true
   },
   "outputs": [],
   "source": [
    "filtered = datatrain[(datatrain['TotalVolume']<datatrain['TotalVolume'].quantile(0.2)) & (datatrain['Impact']>((datatrain[datatrain['Impact']>0]['Impact']).quantile(0.7)))]"
   ]
  },
  {
   "cell_type": "code",
   "execution_count": null,
   "metadata": {
    "collapsed": false,
    "deletable": true,
    "editable": true
   },
   "outputs": [],
   "source": [
    "filtered"
   ]
  },
  {
   "cell_type": "code",
   "execution_count": null,
   "metadata": {
    "collapsed": false,
    "deletable": true,
    "editable": true
   },
   "outputs": [],
   "source": [
    "datatrain.iloc[:2]"
   ]
  },
  {
   "cell_type": "code",
   "execution_count": null,
   "metadata": {
    "collapsed": false,
    "deletable": true,
    "editable": true
   },
   "outputs": [],
   "source": [
    "filtered['Close'].plot(figsize=(18,10))"
   ]
  },
  {
   "cell_type": "code",
   "execution_count": null,
   "metadata": {
    "collapsed": true,
    "deletable": true,
    "editable": true
   },
   "outputs": [],
   "source": [
    "trackBackPeriod = 50\n",
    "code = 'rb000' \n",
    "initialNum = 100"
   ]
  },
  {
   "cell_type": "code",
   "execution_count": null,
   "metadata": {
    "collapsed": true,
    "deletable": true,
    "editable": true
   },
   "outputs": [],
   "source": []
  },
  {
   "cell_type": "code",
   "execution_count": null,
   "metadata": {
    "collapsed": false,
    "deletable": true,
    "editable": true
   },
   "outputs": [],
   "source": [
    "futurebuyList = []\n",
    "for i in range(initialNum,len(datatrain)-1):\n",
    "    svdshortArray = getSVD(datatrain['Close'].values[i+1-trackBackPeriod:i+1], trackBackPeriod, svdShort)\n",
    "    svdlongArray = getSVD(datatrain['Close'].values[i+1-trackBackPeriod:i+1], trackBackPeriod, svdLong)\n",
    "    if svdshortArray[-2] < svdlongArray[-2] and svdshortArray[-1] > svdlongArray[-1]:\n",
    "        dfslice = datatrain.iloc[i+1]\n",
    "        amount = 1\n",
    "        price = dfslice['Open']\n",
    "        cost = price * amount\n",
    "        direction = 1\n",
    "        futurebuyList.append([dfslice.name,code,price,amount,cost,direction])"
   ]
  },
  {
   "cell_type": "code",
   "execution_count": null,
   "metadata": {
    "collapsed": false,
    "deletable": true,
    "editable": true
   },
   "outputs": [],
   "source": [
    "futurebuyList"
   ]
  },
  {
   "cell_type": "code",
   "execution_count": null,
   "metadata": {
    "collapsed": false,
    "deletable": true,
    "editable": true
   },
   "outputs": [],
   "source": []
  },
  {
   "cell_type": "code",
   "execution_count": null,
   "metadata": {
    "collapsed": false,
    "deletable": true,
    "editable": true
   },
   "outputs": [],
   "source": []
  }
 ],
 "metadata": {
  "kernelspec": {
   "display_name": "Python 2",
   "language": "python",
   "name": "python2"
  },
  "language_info": {
   "codemirror_mode": {
    "name": "ipython",
    "version": 2
   },
   "file_extension": ".py",
   "mimetype": "text/x-python",
   "name": "python",
   "nbconvert_exporter": "python",
   "pygments_lexer": "ipython2",
   "version": "2.7.12"
  }
 },
 "nbformat": 4,
 "nbformat_minor": 2
}
